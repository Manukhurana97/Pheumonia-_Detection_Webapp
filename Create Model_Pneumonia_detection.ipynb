{
 "nbformat": 4,
 "nbformat_minor": 0,
 "metadata": {
  "colab": {
   "name": "Pneumonia.ipynb",
   "provenance": [],
   "collapsed_sections": []
  },
  "kernelspec": {
   "name": "python3",
   "display_name": "Python 3"
  },
  "accelerator": "GPU",
  "pycharm": {
   "stem_cell": {
    "cell_type": "raw",
    "source": [],
    "metadata": {
     "collapsed": false
    }
   }
  }
 },
 "cells": [
  {
   "cell_type": "code",
   "metadata": {
    "id": "HXEE_1mvZ1Kd",
    "colab_type": "code",
    "outputId": "1c19538b-9195-4be4-e61a-c337b61818d5",
    "colab": {
     "base_uri": "https://localhost:8080/",
     "height": 34
    }
   },
   "source": [
    "history# Dataset:  https://www.kaggle.com/paultimothymooney/chest-xray-pneumonia\n",
    "\n",
    "from google.colab import drive\n",
    "drive.mount('/drive')"
   ],
   "execution_count": 212,
   "outputs": [
    {
     "output_type": "stream",
     "text": [
      "Mounted at /drive\n"
     ],
     "name": "stdout"
    }
   ]
  },
  {
   "cell_type": "code",
   "metadata": {
    "id": "uEAAti5tZ4bx",
    "colab_type": "code",
    "outputId": "b0cec6d7-6da6-4836-cf22-d437cea52ca6",
    "colab": {
     "base_uri": "https://localhost:8080/",
     "height": 34
    }
   },
   "source": [
    "import os\n",
    "os.listdir('/drive/My Drive/Colab Notebooks/chest_xray')"
   ],
   "execution_count": 213,
   "outputs": [
    {
     "output_type": "execute_result",
     "data": {
      "text/plain": [
       "['val', 'train', 'test', '.DS_Store']"
      ]
     },
     "metadata": {
      "tags": []
     },
     "execution_count": 213
    }
   ]
  },
  {
   "cell_type": "code",
   "metadata": {
    "id": "pqjbKz12aArx",
    "colab_type": "code",
    "outputId": "6dd17c73-3882-4040-8ee1-d9785ca68e29",
    "colab": {
     "base_uri": "https://localhost:8080/",
     "height": 34
    }
   },
   "source": [
    "loc = '/drive/My Drive/Colab Notebooks/chest_xray'\n",
    "loc"
   ],
   "execution_count": 214,
   "outputs": [
    {
     "output_type": "execute_result",
     "data": {
      "text/plain": [
       "'/drive/My Drive/Colab Notebooks/chest_xray'"
      ]
     },
     "metadata": {
      "tags": []
     },
     "execution_count": 214
    }
   ]
  },
  {
   "cell_type": "code",
   "metadata": {
    "id": "1DsvlfFraRG6",
    "colab_type": "code",
    "colab": {}
   },
   "source": [
    "from keras.models import Model  \n",
    "from keras.layers import Flatten, Dense\n",
    "from keras.applications.vgg16 import VGG16\n",
    "from glob import glob\n",
    "import numpy as np \n",
    "import matplotlib.pyplot as plt"
   ],
   "execution_count": 0,
   "outputs": []
  },
  {
   "cell_type": "code",
   "metadata": {
    "id": "MKB_I-xCa8SL",
    "colab_type": "code",
    "colab": {}
   },
   "source": [
    "image_size = [224, 224]"
   ],
   "execution_count": 0,
   "outputs": []
  },
  {
   "cell_type": "code",
   "metadata": {
    "id": "y05EZd8ubQKP",
    "colab_type": "code",
    "colab": {}
   },
   "source": [
    "train_data = loc + '/train'\n",
    "test_data = loc + '/test'"
   ],
   "execution_count": 0,
   "outputs": []
  },
  {
   "cell_type": "code",
   "metadata": {
    "id": "3-XOLjI8bX5H",
    "colab_type": "code",
    "outputId": "777be7a4-91c9-4dd6-e14e-b07898f58671",
    "colab": {
     "base_uri": "https://localhost:8080/",
     "height": 34
    }
   },
   "source": [
    "vgg = VGG16(input_shape = image_size+[3], weights = 'imagenet', include_top = False)\n",
    "vgg"
   ],
   "execution_count": 218,
   "outputs": [
    {
     "output_type": "execute_result",
     "data": {
      "text/plain": [
       "<keras.engine.training.Model at 0x7ff24da92f60>"
      ]
     },
     "metadata": {
      "tags": []
     },
     "execution_count": 218
    }
   ]
  },
  {
   "cell_type": "code",
   "metadata": {
    "id": "CeRAmXZYcPEw",
    "colab_type": "code",
    "colab": {}
   },
   "source": [
    "for layers in vgg.layers:\n",
    "  layers.trainable = False"
   ],
   "execution_count": 0,
   "outputs": []
  },
  {
   "cell_type": "code",
   "metadata": {
    "id": "I-tLkFyVcm9F",
    "colab_type": "code",
    "outputId": "b65afb30-7275-4513-8d4e-9b8d8a8e72df",
    "colab": {
     "base_uri": "https://localhost:8080/",
     "height": 51
    }
   },
   "source": [
    "folder = glob(train_data+'/*')\n",
    "folder"
   ],
   "execution_count": 220,
   "outputs": [
    {
     "output_type": "execute_result",
     "data": {
      "text/plain": [
       "['/drive/My Drive/Colab Notebooks/chest_xray/train/NORMAL',\n",
       " '/drive/My Drive/Colab Notebooks/chest_xray/train/PNEUMONIA']"
      ]
     },
     "metadata": {
      "tags": []
     },
     "execution_count": 220
    }
   ]
  },
  {
   "cell_type": "markdown",
   "metadata": {
    "id": "RI4Nv3XhrKAo",
    "colab_type": "text"
   },
   "source": [
    "# Flatten Model"
   ]
  },
  {
   "cell_type": "code",
   "metadata": {
    "id": "ruFu4ZvIiz25",
    "colab_type": "code",
    "outputId": "dabc9a9c-5975-4712-9b24-f8bdccac965b",
    "colab": {
     "base_uri": "https://localhost:8080/",
     "height": 34
    }
   },
   "source": [
    "X = Flatten()(vgg.output)\n",
    "X"
   ],
   "execution_count": 221,
   "outputs": [
    {
     "output_type": "execute_result",
     "data": {
      "text/plain": [
       "<tf.Tensor 'flatten_5/Reshape:0' shape=(?, ?) dtype=float32>"
      ]
     },
     "metadata": {
      "tags": []
     },
     "execution_count": 221
    }
   ]
  },
  {
   "cell_type": "code",
   "metadata": {
    "id": "U8sm7Tw-o-ts",
    "colab_type": "code",
    "colab": {}
   },
   "source": [
    "# n-2 layer\n",
    "x = Dense(1024, activation='relu')(X)\n",
    "\n",
    "# n-1 layer\n",
    "X = Dense(256, activation = 'relu')(X)"
   ],
   "execution_count": 0,
   "outputs": []
  },
  {
   "cell_type": "code",
   "metadata": {
    "id": "m4umxkukpc9u",
    "colab_type": "code",
    "outputId": "5b40bc54-7543-4e8b-b3c1-a24fea5c0446",
    "colab": {
     "base_uri": "https://localhost:8080/",
     "height": 34
    }
   },
   "source": [
    "prediction = Dense(len(folder), activation = 'softmax')(X)\n",
    "prediction"
   ],
   "execution_count": 223,
   "outputs": [
    {
     "output_type": "execute_result",
     "data": {
      "text/plain": [
       "<tf.Tensor 'dense_33/Softmax:0' shape=(?, 2) dtype=float32>"
      ]
     },
     "metadata": {
      "tags": []
     },
     "execution_count": 223
    }
   ]
  },
  {
   "cell_type": "code",
   "metadata": {
    "id": "dmgV-iThpowO",
    "colab_type": "code",
    "outputId": "71f252b9-dfdd-4ea0-aa93-e3b12c7b5919",
    "colab": {
     "base_uri": "https://localhost:8080/",
     "height": 88
    }
   },
   "source": [
    "model = Model(input = vgg.input, output = prediction)\n",
    "model"
   ],
   "execution_count": 224,
   "outputs": [
    {
     "output_type": "stream",
     "text": [
      "/usr/local/lib/python3.6/dist-packages/ipykernel_launcher.py:1: UserWarning: Update your `Model` call to the Keras 2 API: `Model(inputs=Tensor(\"in..., outputs=Tensor(\"de...)`\n",
      "  \"\"\"Entry point for launching an IPython kernel.\n"
     ],
     "name": "stderr"
    },
    {
     "output_type": "execute_result",
     "data": {
      "text/plain": [
       "<keras.engine.training.Model at 0x7ff24da73710>"
      ]
     },
     "metadata": {
      "tags": []
     },
     "execution_count": 224
    }
   ]
  },
  {
   "cell_type": "code",
   "metadata": {
    "id": "WsQ2KsxpqCFY",
    "colab_type": "code",
    "outputId": "3c1f0ae5-b9bb-4e71-8e03-5945366a4cb9",
    "colab": {
     "base_uri": "https://localhost:8080/",
     "height": 901
    }
   },
   "source": [
    "model.summary()"
   ],
   "execution_count": 225,
   "outputs": [
    {
     "output_type": "stream",
     "text": [
      "Model: \"model_18\"\n",
      "_________________________________________________________________\n",
      "Layer (type)                 Output Shape              Param #   \n",
      "=================================================================\n",
      "input_17 (InputLayer)        (None, 224, 224, 3)       0         \n",
      "_________________________________________________________________\n",
      "block1_conv1 (Conv2D)        (None, 224, 224, 64)      1792      \n",
      "_________________________________________________________________\n",
      "block1_conv2 (Conv2D)        (None, 224, 224, 64)      36928     \n",
      "_________________________________________________________________\n",
      "block1_pool (MaxPooling2D)   (None, 112, 112, 64)      0         \n",
      "_________________________________________________________________\n",
      "block2_conv1 (Conv2D)        (None, 112, 112, 128)     73856     \n",
      "_________________________________________________________________\n",
      "block2_conv2 (Conv2D)        (None, 112, 112, 128)     147584    \n",
      "_________________________________________________________________\n",
      "block2_pool (MaxPooling2D)   (None, 56, 56, 128)       0         \n",
      "_________________________________________________________________\n",
      "block3_conv1 (Conv2D)        (None, 56, 56, 256)       295168    \n",
      "_________________________________________________________________\n",
      "block3_conv2 (Conv2D)        (None, 56, 56, 256)       590080    \n",
      "_________________________________________________________________\n",
      "block3_conv3 (Conv2D)        (None, 56, 56, 256)       590080    \n",
      "_________________________________________________________________\n",
      "block3_pool (MaxPooling2D)   (None, 28, 28, 256)       0         \n",
      "_________________________________________________________________\n",
      "block4_conv1 (Conv2D)        (None, 28, 28, 512)       1180160   \n",
      "_________________________________________________________________\n",
      "block4_conv2 (Conv2D)        (None, 28, 28, 512)       2359808   \n",
      "_________________________________________________________________\n",
      "block4_conv3 (Conv2D)        (None, 28, 28, 512)       2359808   \n",
      "_________________________________________________________________\n",
      "block4_pool (MaxPooling2D)   (None, 14, 14, 512)       0         \n",
      "_________________________________________________________________\n",
      "block5_conv1 (Conv2D)        (None, 14, 14, 512)       2359808   \n",
      "_________________________________________________________________\n",
      "block5_conv2 (Conv2D)        (None, 14, 14, 512)       2359808   \n",
      "_________________________________________________________________\n",
      "block5_conv3 (Conv2D)        (None, 14, 14, 512)       2359808   \n",
      "_________________________________________________________________\n",
      "block5_pool (MaxPooling2D)   (None, 7, 7, 512)         0         \n",
      "_________________________________________________________________\n",
      "flatten_5 (Flatten)          (None, 25088)             0         \n",
      "_________________________________________________________________\n",
      "dense_32 (Dense)             (None, 256)               6422784   \n",
      "_________________________________________________________________\n",
      "dense_33 (Dense)             (None, 2)                 514       \n",
      "=================================================================\n",
      "Total params: 21,137,986\n",
      "Trainable params: 6,423,298\n",
      "Non-trainable params: 14,714,688\n",
      "_________________________________________________________________\n"
     ],
     "name": "stdout"
    }
   ]
  },
  {
   "cell_type": "code",
   "metadata": {
    "id": "eA-YiaSnqje7",
    "colab_type": "code",
    "colab": {}
   },
   "source": [
    "model.compile(loss = 'categorical_crossentropy',\n",
    "             optimizer = 'adam', \n",
    "              metrics = ['accuracy'])"
   ],
   "execution_count": 0,
   "outputs": []
  },
  {
   "cell_type": "code",
   "metadata": {
    "id": "4m_szSpUwh4R",
    "colab_type": "code",
    "colab": {}
   },
   "source": [
    "from keras.preprocessing.image import ImageDataGenerator"
   ],
   "execution_count": 0,
   "outputs": []
  },
  {
   "cell_type": "code",
   "metadata": {
    "id": "1ERfMqRexXfy",
    "colab_type": "code",
    "colab": {}
   },
   "source": [
    "train_datagen = ImageDataGenerator(rescale = 1./255,\n",
    "                                   shear_range = 0.2,\n",
    "                                   zoom_range = 0.2,\n",
    "                                   horizontal_flip=True)\n",
    "                                   \n",
    "test_datagen = ImageDataGenerator(rescale = 1./255)"
   ],
   "execution_count": 0,
   "outputs": []
  },
  {
   "cell_type": "code",
   "metadata": {
    "id": "vo-MMjcaxvIA",
    "colab_type": "code",
    "outputId": "ae4a6712-faf7-4ff8-9276-0b9ebea6b706",
    "colab": {
     "base_uri": "https://localhost:8080/",
     "height": 51
    }
   },
   "source": [
    "training_set = train_datagen.flow_from_directory(loc+'/train',\n",
    "                                                target_size=(224, 224),\n",
    "                                                batch_size=32,\n",
    "                                                class_mode='categorical')\n",
    "\n",
    "testing_set = test_datagen.flow_from_directory(loc+'/test',\n",
    "                                               target_size=(224, 224),\n",
    "                                               batch_size=32,\n",
    "                                               class_mode='categorical')"
   ],
   "execution_count": 229,
   "outputs": [
    {
     "output_type": "stream",
     "text": [
      "Found 5229 images belonging to 2 classes.\n",
      "Found 624 images belonging to 2 classes.\n"
     ],
     "name": "stdout"
    }
   ]
  },
  {
   "cell_type": "code",
   "metadata": {
    "id": "jVEFTD9-ynwe",
    "colab_type": "code",
    "outputId": "d3a25997-93e8-4f82-cb9f-098922aeb22b",
    "colab": {
     "base_uri": "https://localhost:8080/",
     "height": 901
    }
   },
   "source": [
    "f = model.fit_generator(training_set,\n",
    "              validation_data = testing_set,\n",
    "              epochs=40,\n",
    "              steps_per_epoch = len(training_set),\n",
    "              validation_steps = len(testing_set)\n",
    "             )"
   ],
   "execution_count": 0,
   "outputs": [
    {
     "output_type": "stream",
     "text": [
      "Epoch 1/40\n",
      "164/164 [==============================] - 146s 888ms/step - loss: 0.0386 - acc: 0.9869 - val_loss: 0.3555 - val_acc: 0.9135\n",
      "Epoch 2/40\n",
      "164/164 [==============================] - 143s 872ms/step - loss: 0.0571 - acc: 0.9779 - val_loss: 0.3397 - val_acc: 0.9183\n",
      "Epoch 3/40\n",
      "164/164 [==============================] - 142s 867ms/step - loss: 0.0485 - acc: 0.9817 - val_loss: 0.4066 - val_acc: 0.9119\n",
      "Epoch 4/40\n",
      "164/164 [==============================] - 141s 860ms/step - loss: 0.0384 - acc: 0.9843 - val_loss: 0.2837 - val_acc: 0.9231\n",
      "Epoch 5/40\n",
      "164/164 [==============================] - 138s 844ms/step - loss: 0.0406 - acc: 0.9851 - val_loss: 0.3920 - val_acc: 0.9151\n",
      "Epoch 6/40\n",
      "164/164 [==============================] - 137s 834ms/step - loss: 0.0477 - acc: 0.9813 - val_loss: 0.4040 - val_acc: 0.9022\n",
      "Epoch 7/40\n",
      "164/164 [==============================] - 132s 803ms/step - loss: 0.0368 - acc: 0.9845 - val_loss: 0.4710 - val_acc: 0.9135\n",
      "Epoch 8/40\n",
      "164/164 [==============================] - 132s 807ms/step - loss: 0.0376 - acc: 0.9872 - val_loss: 0.3185 - val_acc: 0.9167\n",
      "Epoch 9/40\n",
      "164/164 [==============================] - 139s 848ms/step - loss: 0.0318 - acc: 0.9895 - val_loss: 0.3682 - val_acc: 0.9151\n",
      "Epoch 10/40\n",
      "164/164 [==============================] - 144s 875ms/step - loss: 0.0365 - acc: 0.9851 - val_loss: 0.2845 - val_acc: 0.9263\n",
      "Epoch 11/40\n",
      "164/164 [==============================] - 141s 859ms/step - loss: 0.0363 - acc: 0.9869 - val_loss: 0.3389 - val_acc: 0.9151\n",
      "Epoch 12/40\n",
      "164/164 [==============================] - 142s 866ms/step - loss: 0.0385 - acc: 0.9863 - val_loss: 0.4566 - val_acc: 0.8974\n",
      "Epoch 13/40\n",
      "164/164 [==============================] - 143s 872ms/step - loss: 0.0338 - acc: 0.9873 - val_loss: 0.4142 - val_acc: 0.9054\n",
      "Epoch 14/40\n",
      "164/164 [==============================] - 143s 874ms/step - loss: 0.0322 - acc: 0.9878 - val_loss: 0.5958 - val_acc: 0.8830\n",
      "Epoch 15/40\n",
      "164/164 [==============================] - 140s 854ms/step - loss: 0.0474 - acc: 0.9827 - val_loss: 0.4969 - val_acc: 0.8878\n",
      "Epoch 16/40\n",
      "164/164 [==============================] - 132s 803ms/step - loss: 0.0361 - acc: 0.9870 - val_loss: 0.4616 - val_acc: 0.9151\n",
      "Epoch 17/40\n",
      "164/164 [==============================] - 129s 784ms/step - loss: 0.0320 - acc: 0.9884 - val_loss: 0.3564 - val_acc: 0.9199\n",
      "Epoch 18/40\n",
      "164/164 [==============================] - 128s 780ms/step - loss: 0.0331 - acc: 0.9877 - val_loss: 0.3345 - val_acc: 0.9263\n",
      "Epoch 19/40\n",
      "164/164 [==============================] - 127s 774ms/step - loss: 0.0293 - acc: 0.9874 - val_loss: 0.4065 - val_acc: 0.9311\n",
      "Epoch 20/40\n",
      "164/164 [==============================] - 128s 778ms/step - loss: 0.0320 - acc: 0.9893 - val_loss: 0.2497 - val_acc: 0.9263\n",
      "Epoch 21/40\n",
      "164/164 [==============================] - 126s 769ms/step - loss: 0.0282 - acc: 0.9896 - val_loss: 0.3088 - val_acc: 0.9247\n",
      "Epoch 22/40\n",
      "164/164 [==============================] - 125s 760ms/step - loss: 0.0358 - acc: 0.9882 - val_loss: 0.3849 - val_acc: 0.9135\n",
      "Epoch 23/40\n",
      "164/164 [==============================] - 133s 809ms/step - loss: 0.0311 - acc: 0.9889 - val_loss: 0.5543 - val_acc: 0.9119\n",
      "Epoch 24/40\n",
      "164/164 [==============================] - 136s 831ms/step - loss: 0.0307 - acc: 0.9889 - val_loss: 0.5613 - val_acc: 0.9006\n",
      "Epoch 25/40\n",
      "164/164 [==============================] - 137s 835ms/step - loss: 0.0246 - acc: 0.9903 - val_loss: 0.3255 - val_acc: 0.9231\n",
      "Epoch 26/40\n",
      "164/164 [==============================] - 138s 844ms/step - loss: 0.0292 - acc: 0.9889 - val_loss: 0.3641 - val_acc: 0.9263\n",
      "Epoch 27/40\n",
      "164/164 [==============================] - 138s 839ms/step - loss: 0.0318 - acc: 0.9892 - val_loss: 0.3983 - val_acc: 0.9247\n",
      "Epoch 28/40\n",
      "164/164 [==============================] - 137s 837ms/step - loss: 0.0338 - acc: 0.9889 - val_loss: 0.4146 - val_acc: 0.8926\n",
      "Epoch 29/40\n",
      "164/164 [==============================] - 134s 816ms/step - loss: 0.0311 - acc: 0.9886 - val_loss: 0.3667 - val_acc: 0.9247\n",
      "Epoch 30/40\n",
      "164/164 [==============================] - 133s 810ms/step - loss: 0.0289 - acc: 0.9897 - val_loss: 0.3707 - val_acc: 0.9183\n",
      "Epoch 31/40\n",
      "164/164 [==============================] - 132s 806ms/step - loss: 0.0193 - acc: 0.9933 - val_loss: 0.3295 - val_acc: 0.9231\n",
      "Epoch 32/40\n",
      "164/164 [==============================] - 132s 806ms/step - loss: 0.0274 - acc: 0.9920 - val_loss: 0.4899 - val_acc: 0.9215\n",
      "Epoch 33/40\n",
      "164/164 [==============================] - 131s 797ms/step - loss: 0.0266 - acc: 0.9912 - val_loss: 0.4306 - val_acc: 0.9071\n",
      "Epoch 34/40\n",
      "164/164 [==============================] - 133s 810ms/step - loss: 0.0206 - acc: 0.9918 - val_loss: 0.4366 - val_acc: 0.9215\n",
      "Epoch 35/40\n",
      "164/164 [==============================] - 133s 812ms/step - loss: 0.0207 - acc: 0.9929 - val_loss: 0.4157 - val_acc: 0.9279\n",
      "Epoch 36/40\n",
      "164/164 [==============================] - 133s 813ms/step - loss: 0.0236 - acc: 0.9912 - val_loss: 0.4734 - val_acc: 0.9231\n",
      "Epoch 37/40\n",
      "164/164 [==============================] - 133s 809ms/step - loss: 0.0216 - acc: 0.9917 - val_loss: 0.7750 - val_acc: 0.8750\n",
      "Epoch 38/40\n",
      "164/164 [==============================] - 133s 814ms/step - loss: 0.0319 - acc: 0.9878 - val_loss: 0.3535 - val_acc: 0.9295\n",
      "Epoch 39/40\n",
      "164/164 [==============================] - 134s 814ms/step - loss: 0.0252 - acc: 0.9914 - val_loss: 0.3363 - val_acc: 0.9151\n",
      "Epoch 40/40\n",
      "164/164 [==============================] - 132s 805ms/step - loss: 0.0284 - acc: 0.9897 - val_loss: 0.4022 - val_acc: 0.9087\n"
     ],
     "name": "stdout"
    }
   ]
  },
  {
   "cell_type": "code",
   "metadata": {
    "id": "UHxlWADo0FPc",
    "colab_type": "code",
    "outputId": "8eec62bd-b718-448e-e267-dccc11ed00e2",
    "colab": {
     "base_uri": "https://localhost:8080/",
     "height": 612
    }
   },
   "source": [
    "plt.figure(figsize=(20, 10))\n",
    "plt.plot(f.history['loss'], label='training loss')\n",
    "plt.plot(f.history['val_loss'], label='val loss')\n",
    "plt.legend()\n"
   ],
   "execution_count": 0,
   "outputs": [
    {
     "output_type": "execute_result",
     "data": {
      "text/plain": [
       "<matplotlib.legend.Legend at 0x7fdb71145978>"
      ]
     },
     "metadata": {
      "tags": []
     },
     "execution_count": 168
    },
    {
     "output_type": "display_data",
     "data": {
      "image/png": "[encoded data removed]",
      "text/plain": [
       "<Figure size 1440x720 with 1 Axes>"
      ]
     },
     "metadata": {
      "tags": []
     }
    }
   ]
  },
  {
   "cell_type": "code",
   "metadata": {
    "id": "eEBUKzThDFA0",
    "colab_type": "code",
    "outputId": "439d9739-604d-4622-bf2f-fa2687f654b6",
    "colab": {
     "base_uri": "https://localhost:8080/",
     "height": 612
    }
   },
   "source": [
    "plt.figure(figsize=(20, 10))\n",
    "plt.plot(f.history['acc'], label='training accuracy')\n",
    "plt.plot(f.history['val_loss'], label = 'validation accuracy')\n",
    "plt.legend()"
   ],
   "execution_count": 0,
   "outputs": [
    {
     "output_type": "execute_result",
     "data": {
      "text/plain": [
       "<matplotlib.legend.Legend at 0x7fdb7112d048>"
      ]
     },
     "metadata": {
      "tags": []
     },
     "execution_count": 169
    },
    {
     "output_type": "display_data",
     "data": {
      "image/png": "[encoded data removed]",
      "text/plain": [
       "<Figure size 1440x720 with 1 Axes>"
      ]
     },
     "metadata": {
      "tags": []
     }
    }
   ]
  },
  {
   "cell_type": "code",
   "metadata": {
    "id": "TgcS7BgLNNFB",
    "colab_type": "code",
    "colab": {}
   },
   "source": [
    "import torch\n",
    "name  = 'Pneumonia_model.h5'\n",
    "\n",
    "path = loc+name\n"
   ],
   "execution_count": 0,
   "outputs": []
  },
  {
   "cell_type": "code",
   "metadata": {
    "id": "sl3XO2jfPxKT",
    "colab_type": "code",
    "colab": {}
   },
   "source": [
    "model.save(path)"
   ],
   "execution_count": 0,
   "outputs": []
  },
  {
   "cell_type": "code",
   "metadata": {
    "id": "jtEZr1KBP0On",
    "colab_type": "code",
    "colab": {}
   },
   "source": [
    "from keras.models import load_model\n",
    "from keras.preprocessing import image\n",
    "from keras.applications.vgg16 import preprocess_input\n",
    "import numpy as np"
   ],
   "execution_count": 0,
   "outputs": []
  },
  {
   "cell_type": "code",
   "metadata": {
    "id": "byRJ1IrBP2aF",
    "colab_type": "code",
    "outputId": "789749ec-8924-4c4a-ac1d-a57bf5abcb87",
    "colab": {
     "base_uri": "https://localhost:8080/",
     "height": 34
    }
   },
   "source": [
    "os.listdir(loc)"
   ],
   "execution_count": 0,
   "outputs": [
    {
     "output_type": "execute_result",
     "data": {
      "text/plain": [
       "['val', 'train', 'test', '.DS_Store']"
      ]
     },
     "metadata": {
      "tags": []
     },
     "execution_count": 172
    }
   ]
  },
  {
   "cell_type": "code",
   "metadata": {
    "id": "CspdXju9QQsB",
    "colab_type": "code",
    "outputId": "4f3a1c42-e2a1-4ccf-80d1-c52377cd3475",
    "colab": {
     "base_uri": "https://localhost:8080/",
     "height": 241
    }
   },
   "source": [
    "img = image.load_img(loc+'/val/PNEUMONIA/person1954_bacteria_4886.jpeg', target_size = (224, 224))\n",
    "img"
   ],
   "execution_count": 0,
   "outputs": [
    {
     "output_type": "execute_result",
     "data": {
      "image/png": "[encoded data removed]",
      "text/plain": [
       "<PIL.Image.Image image mode=RGB size=224x224 at 0x7FDB710C4FD0>"
      ]
     },
     "metadata": {
      "tags": []
     },
     "execution_count": 173
    }
   ]
  },
  {
   "cell_type": "code",
   "metadata": {
    "id": "SbeeLg4fRC1l",
    "colab_type": "code",
    "colab": {}
   },
   "source": [
    "#  converting to array\n",
    "\n",
    "\n",
    "#  convert to array\n",
    "\n",
    "x = image.img_to_array(img)\n",
    "\n",
    "x = np.expand_dims(x, axis=0)"
   ],
   "execution_count": 0,
   "outputs": []
  },
  {
   "cell_type": "code",
   "metadata": {
    "id": "JGhv2aFyRVQE",
    "colab_type": "code",
    "outputId": "ef824e26-c993-49cd-cba2-e5e29e463951",
    "colab": {
     "base_uri": "https://localhost:8080/",
     "height": 51
    }
   },
   "source": [
    "image_data = preprocess_input(x)\n",
    "classes = model.predict(image_data)\n",
    "\n",
    "if classes[0][1] ==0.0:\n",
    "  print('Congratulation Free from Pneumonia')\n",
    "else:\n",
    "  print('Sorry , You have Pneumonia. \\nPlease consult Doctor as soon as')\n"
   ],
   "execution_count": 0,
   "outputs": [
    {
     "output_type": "stream",
     "text": [
      "Sorry , You have Pneumonia. \n",
      "Please consult Doctor as soon as\n"
     ],
     "name": "stdout"
    }
   ]
  },
  {
   "cell_type": "code",
   "metadata": {
    "id": "x8qUT20gRunX",
    "colab_type": "code",
    "outputId": "6a806c83-c1a5-4b25-dbd9-bc5165b8cda6",
    "colab": {
     "base_uri": "https://localhost:8080/",
     "height": 289
    }
   },
   "source": [
    "import os\n",
    "\n",
    "for i in os.listdir(loc+'/val'):\n",
    "  if i != '.DS_Store':\n",
    "    \n",
    "    for j in os.listdir(loc+'/val/'+i):\n",
    "      if j != '.DS_Store':\n",
    "        \n",
    "        img1 = image.load_img(loc+'/val/'+i+'/'+j, target_size=(224, 224))\n",
    "        \n",
    "        x = image.img_to_array(img1)\n",
    "        \n",
    "        x = np.expand_dims(x, axis=0)\n",
    "        \n",
    "        image_data = preprocess_input(x)\n",
    "        classes = model.predict(image_data)\n",
    "        print(i,classes[0][1])\n",
    "        \n",
    "#  0: No pneumonia\n",
    "#  1: Pneumonia "
   ],
   "execution_count": 0,
   "outputs": [
    {
     "output_type": "stream",
     "text": [
      "PNEUMONIA 1.0\n",
      "PNEUMONIA 1.0\n",
      "PNEUMONIA 1.0\n",
      "PNEUMONIA 1.0\n",
      "PNEUMONIA 1.0\n",
      "PNEUMONIA 1.0\n",
      "PNEUMONIA 1.0\n",
      "PNEUMONIA 1.0\n",
      "NORMAL 3.5563516e-20\n",
      "NORMAL 0.0\n",
      "NORMAL 1.0\n",
      "NORMAL 0.0\n",
      "NORMAL 1.0\n",
      "NORMAL 1.0\n",
      "NORMAL 1.0\n",
      "NORMAL 1.0\n"
     ],
     "name": "stdout"
    }
   ]
  },
  {
   "cell_type": "markdown",
   "metadata": {
    "id": "Xa209BEtTRXf",
    "colab_type": "text"
   },
   "source": [
    "# InceptionV3\n"
   ]
  },
  {
   "cell_type": "code",
   "metadata": {
    "id": "sqBRDEVClIj-",
    "colab_type": "code",
    "colab": {}
   },
   "source": [
    ""
   ],
   "execution_count": 0,
   "outputs": []
  },
  {
   "cell_type": "code",
   "metadata": {
    "id": "Rm9mtm6lkFw1",
    "colab_type": "code",
    "colab": {}
   },
   "source": [
    "from keras.models import Sequential, Model\n",
    "from keras.layers import Dense, Activation\n",
    "from keras.layers import Dropout, Flatten,GlobalAveragePooling2D\n",
    "from keras.layers import Conv2D,BatchNormalization, MaxPooling2D\n",
    "from keras.applications.inception_v3 import InceptionV3"
   ],
   "execution_count": 0,
   "outputs": []
  },
  {
   "cell_type": "code",
   "metadata": {
    "id": "zGujMwusqwHa",
    "colab_type": "code",
    "colab": {}
   },
   "source": [
    "inc_model = InceptionV3(input_shape = (224, 224, 3), weights = 'imagenet', include_top=False)"
   ],
   "execution_count": 0,
   "outputs": []
  },
  {
   "cell_type": "code",
   "metadata": {
    "id": "l8xDw6YXr3Ou",
    "colab_type": "code",
    "colab": {
     "base_uri": "https://localhost:8080/",
     "height": 34
    },
    "outputId": "d9dd76e5-9a83-4bee-d5ce-fecc9fe01ac4"
   },
   "source": [
    "x = inc_model.output\n",
    "x"
   ],
   "execution_count": 232,
   "outputs": [
    {
     "output_type": "execute_result",
     "data": {
      "text/plain": [
       "<tf.Tensor 'mixed10_7/concat:0' shape=(?, 5, 5, 2048) dtype=float32>"
      ]
     },
     "metadata": {
      "tags": []
     },
     "execution_count": 232
    }
   ]
  },
  {
   "cell_type": "code",
   "metadata": {
    "id": "0p8Fsc1vtIHi",
    "colab_type": "code",
    "colab": {
     "base_uri": "https://localhost:8080/",
     "height": 34
    },
    "outputId": "9985cd95-f2ad-4446-e335-d490bdfe83a9"
   },
   "source": [
    "x = Dropout(.5)(x)\n",
    "x"
   ],
   "execution_count": 233,
   "outputs": [
    {
     "output_type": "execute_result",
     "data": {
      "text/plain": [
       "<tf.Tensor 'dropout_13/cond/Merge:0' shape=(?, 5, 5, 2048) dtype=float32>"
      ]
     },
     "metadata": {
      "tags": []
     },
     "execution_count": 233
    }
   ]
  },
  {
   "cell_type": "code",
   "metadata": {
    "id": "sACAUHI6uT0_",
    "colab_type": "code",
    "colab": {
     "base_uri": "https://localhost:8080/",
     "height": 34
    },
    "outputId": "be81a752-4c53-4fc5-cf9b-4401d4ebb235"
   },
   "source": [
    "x = GlobalAveragePooling2D()(x)\n",
    "x"
   ],
   "execution_count": 234,
   "outputs": [
    {
     "output_type": "execute_result",
     "data": {
      "text/plain": [
       "<tf.Tensor 'global_average_pooling2d_12/Mean:0' shape=(?, 2048) dtype=float32>"
      ]
     },
     "metadata": {
      "tags": []
     },
     "execution_count": 234
    }
   ]
  },
  {
   "cell_type": "code",
   "metadata": {
    "id": "SIJTt__duXAW",
    "colab_type": "code",
    "colab": {
     "base_uri": "https://localhost:8080/",
     "height": 34
    },
    "outputId": "01c508ea-781f-46f4-b4dd-9a6c3ee48923"
   },
   "source": [
    "# densely-connected NN layer.\n",
    "x = Dense(128, activation = 'relu')(x)\n",
    "x"
   ],
   "execution_count": 235,
   "outputs": [
    {
     "output_type": "execute_result",
     "data": {
      "text/plain": [
       "<tf.Tensor 'dense_34/Relu:0' shape=(?, 128) dtype=float32>"
      ]
     },
     "metadata": {
      "tags": []
     },
     "execution_count": 235
    }
   ]
  },
  {
   "cell_type": "code",
   "metadata": {
    "id": "emRSM4YRuY7G",
    "colab_type": "code",
    "colab": {
     "base_uri": "https://localhost:8080/",
     "height": 34
    },
    "outputId": "33499579-5a9f-4cd7-a2a1-62134cea1dd5"
   },
   "source": [
    "# Normalize the activations of the previous layer al every batch\n",
    "x  = BatchNormalization()(x)\n",
    "x"
   ],
   "execution_count": 236,
   "outputs": [
    {
     "output_type": "execute_result",
     "data": {
      "text/plain": [
       "<tf.Tensor 'batch_normalization_763/cond/Merge:0' shape=(?, 128) dtype=float32>"
      ]
     },
     "metadata": {
      "tags": []
     },
     "execution_count": 236
    }
   ]
  },
  {
   "cell_type": "code",
   "metadata": {
    "id": "zbKI63xCub_P",
    "colab_type": "code",
    "colab": {
     "base_uri": "https://localhost:8080/",
     "height": 34
    },
    "outputId": "7f10796b-ea58-45b6-bce2-f9da8b174da7"
   },
   "source": [
    "#  Last Layer\n",
    "prediction = Dense(2, activation='sigmoid')(x)\n",
    "prediction"
   ],
   "execution_count": 237,
   "outputs": [
    {
     "output_type": "execute_result",
     "data": {
      "text/plain": [
       "<tf.Tensor 'dense_35/Sigmoid:0' shape=(?, 2) dtype=float32>"
      ]
     },
     "metadata": {
      "tags": []
     },
     "execution_count": 237
    }
   ]
  },
  {
   "cell_type": "code",
   "metadata": {
    "id": "tFMgPx23ufGm",
    "colab_type": "code",
    "colab": {
     "base_uri": "https://localhost:8080/",
     "height": 71
    },
    "outputId": "687e45e9-4ae1-4825-b287-9122a57bedd9"
   },
   "source": [
    "model = Model(input = inc_model.input, output = prediction)"
   ],
   "execution_count": 238,
   "outputs": [
    {
     "output_type": "stream",
     "text": [
      "/usr/local/lib/python3.6/dist-packages/ipykernel_launcher.py:1: UserWarning: Update your `Model` call to the Keras 2 API: `Model(inputs=Tensor(\"in..., outputs=Tensor(\"de...)`\n",
      "  \"\"\"Entry point for launching an IPython kernel.\n"
     ],
     "name": "stderr"
    }
   ]
  },
  {
   "cell_type": "code",
   "metadata": {
    "id": "7mrlyFIv54dt",
    "colab_type": "code",
    "colab": {}
   },
   "source": [
    "model.compile(loss = 'categorical_crossentropy', \n",
    "             optimizer = 'adam',\n",
    "             metrics = ['accuracy'])"
   ],
   "execution_count": 0,
   "outputs": []
  },
  {
   "cell_type": "code",
   "metadata": {
    "id": "YppOXPdcvVii",
    "colab_type": "code",
    "colab": {
     "base_uri": "https://localhost:8080/",
     "height": 1000
    },
    "outputId": "b3db802c-3ea2-4e73-fbc2-40950f99773c"
   },
   "source": [
    "model.summary()"
   ],
   "execution_count": 240,
   "outputs": [
    {
     "output_type": "stream",
     "text": [
      "Model: \"model_19\"\n",
      "__________________________________________________________________________________________________\n",
      "Layer (type)                    Output Shape         Param #     Connected to                     \n",
      "==================================================================================================\n",
      "input_18 (InputLayer)           (None, 224, 224, 3)  0                                            \n",
      "__________________________________________________________________________________________________\n",
      "conv2d_659 (Conv2D)             (None, 111, 111, 32) 864         input_18[0][0]                   \n",
      "__________________________________________________________________________________________________\n",
      "batch_normalization_669 (BatchN (None, 111, 111, 32) 96          conv2d_659[0][0]                 \n",
      "__________________________________________________________________________________________________\n",
      "activation_659 (Activation)     (None, 111, 111, 32) 0           batch_normalization_669[0][0]    \n",
      "__________________________________________________________________________________________________\n",
      "conv2d_660 (Conv2D)             (None, 109, 109, 32) 9216        activation_659[0][0]             \n",
      "__________________________________________________________________________________________________\n",
      "batch_normalization_670 (BatchN (None, 109, 109, 32) 96          conv2d_660[0][0]                 \n",
      "__________________________________________________________________________________________________\n",
      "activation_660 (Activation)     (None, 109, 109, 32) 0           batch_normalization_670[0][0]    \n",
      "__________________________________________________________________________________________________\n",
      "conv2d_661 (Conv2D)             (None, 109, 109, 64) 18432       activation_660[0][0]             \n",
      "__________________________________________________________________________________________________\n",
      "batch_normalization_671 (BatchN (None, 109, 109, 64) 192         conv2d_661[0][0]                 \n",
      "__________________________________________________________________________________________________\n",
      "activation_661 (Activation)     (None, 109, 109, 64) 0           batch_normalization_671[0][0]    \n",
      "__________________________________________________________________________________________________\n",
      "max_pooling2d_29 (MaxPooling2D) (None, 54, 54, 64)   0           activation_661[0][0]             \n",
      "__________________________________________________________________________________________________\n",
      "conv2d_662 (Conv2D)             (None, 54, 54, 80)   5120        max_pooling2d_29[0][0]           \n",
      "__________________________________________________________________________________________________\n",
      "batch_normalization_672 (BatchN (None, 54, 54, 80)   240         conv2d_662[0][0]                 \n",
      "__________________________________________________________________________________________________\n",
      "activation_662 (Activation)     (None, 54, 54, 80)   0           batch_normalization_672[0][0]    \n",
      "__________________________________________________________________________________________________\n",
      "conv2d_663 (Conv2D)             (None, 52, 52, 192)  138240      activation_662[0][0]             \n",
      "__________________________________________________________________________________________________\n",
      "batch_normalization_673 (BatchN (None, 52, 52, 192)  576         conv2d_663[0][0]                 \n",
      "__________________________________________________________________________________________________\n",
      "activation_663 (Activation)     (None, 52, 52, 192)  0           batch_normalization_673[0][0]    \n",
      "__________________________________________________________________________________________________\n",
      "max_pooling2d_30 (MaxPooling2D) (None, 25, 25, 192)  0           activation_663[0][0]             \n",
      "__________________________________________________________________________________________________\n",
      "conv2d_667 (Conv2D)             (None, 25, 25, 64)   12288       max_pooling2d_30[0][0]           \n",
      "__________________________________________________________________________________________________\n",
      "batch_normalization_677 (BatchN (None, 25, 25, 64)   192         conv2d_667[0][0]                 \n",
      "__________________________________________________________________________________________________\n",
      "activation_667 (Activation)     (None, 25, 25, 64)   0           batch_normalization_677[0][0]    \n",
      "__________________________________________________________________________________________________\n",
      "conv2d_665 (Conv2D)             (None, 25, 25, 48)   9216        max_pooling2d_30[0][0]           \n",
      "__________________________________________________________________________________________________\n",
      "conv2d_668 (Conv2D)             (None, 25, 25, 96)   55296       activation_667[0][0]             \n",
      "__________________________________________________________________________________________________\n",
      "batch_normalization_675 (BatchN (None, 25, 25, 48)   144         conv2d_665[0][0]                 \n",
      "__________________________________________________________________________________________________\n",
      "batch_normalization_678 (BatchN (None, 25, 25, 96)   288         conv2d_668[0][0]                 \n",
      "__________________________________________________________________________________________________\n",
      "activation_665 (Activation)     (None, 25, 25, 48)   0           batch_normalization_675[0][0]    \n",
      "__________________________________________________________________________________________________\n",
      "activation_668 (Activation)     (None, 25, 25, 96)   0           batch_normalization_678[0][0]    \n",
      "__________________________________________________________________________________________________\n",
      "average_pooling2d_64 (AveragePo (None, 25, 25, 192)  0           max_pooling2d_30[0][0]           \n",
      "__________________________________________________________________________________________________\n",
      "conv2d_664 (Conv2D)             (None, 25, 25, 64)   12288       max_pooling2d_30[0][0]           \n",
      "__________________________________________________________________________________________________\n",
      "conv2d_666 (Conv2D)             (None, 25, 25, 64)   76800       activation_665[0][0]             \n",
      "__________________________________________________________________________________________________\n",
      "conv2d_669 (Conv2D)             (None, 25, 25, 96)   82944       activation_668[0][0]             \n",
      "__________________________________________________________________________________________________\n",
      "conv2d_670 (Conv2D)             (None, 25, 25, 32)   6144        average_pooling2d_64[0][0]       \n",
      "__________________________________________________________________________________________________\n",
      "batch_normalization_674 (BatchN (None, 25, 25, 64)   192         conv2d_664[0][0]                 \n",
      "__________________________________________________________________________________________________\n",
      "batch_normalization_676 (BatchN (None, 25, 25, 64)   192         conv2d_666[0][0]                 \n",
      "__________________________________________________________________________________________________\n",
      "batch_normalization_679 (BatchN (None, 25, 25, 96)   288         conv2d_669[0][0]                 \n",
      "__________________________________________________________________________________________________\n",
      "batch_normalization_680 (BatchN (None, 25, 25, 32)   96          conv2d_670[0][0]                 \n",
      "__________________________________________________________________________________________________\n",
      "activation_664 (Activation)     (None, 25, 25, 64)   0           batch_normalization_674[0][0]    \n",
      "__________________________________________________________________________________________________\n",
      "activation_666 (Activation)     (None, 25, 25, 64)   0           batch_normalization_676[0][0]    \n",
      "__________________________________________________________________________________________________\n",
      "activation_669 (Activation)     (None, 25, 25, 96)   0           batch_normalization_679[0][0]    \n",
      "__________________________________________________________________________________________________\n",
      "activation_670 (Activation)     (None, 25, 25, 32)   0           batch_normalization_680[0][0]    \n",
      "__________________________________________________________________________________________________\n",
      "mixed0 (Concatenate)            (None, 25, 25, 256)  0           activation_664[0][0]             \n",
      "                                                                 activation_666[0][0]             \n",
      "                                                                 activation_669[0][0]             \n",
      "                                                                 activation_670[0][0]             \n",
      "__________________________________________________________________________________________________\n",
      "conv2d_674 (Conv2D)             (None, 25, 25, 64)   16384       mixed0[0][0]                     \n",
      "__________________________________________________________________________________________________\n",
      "batch_normalization_684 (BatchN (None, 25, 25, 64)   192         conv2d_674[0][0]                 \n",
      "__________________________________________________________________________________________________\n",
      "activation_674 (Activation)     (None, 25, 25, 64)   0           batch_normalization_684[0][0]    \n",
      "__________________________________________________________________________________________________\n",
      "conv2d_672 (Conv2D)             (None, 25, 25, 48)   12288       mixed0[0][0]                     \n",
      "__________________________________________________________________________________________________\n",
      "conv2d_675 (Conv2D)             (None, 25, 25, 96)   55296       activation_674[0][0]             \n",
      "__________________________________________________________________________________________________\n",
      "batch_normalization_682 (BatchN (None, 25, 25, 48)   144         conv2d_672[0][0]                 \n",
      "__________________________________________________________________________________________________\n",
      "batch_normalization_685 (BatchN (None, 25, 25, 96)   288         conv2d_675[0][0]                 \n",
      "__________________________________________________________________________________________________\n",
      "activation_672 (Activation)     (None, 25, 25, 48)   0           batch_normalization_682[0][0]    \n",
      "__________________________________________________________________________________________________\n",
      "activation_675 (Activation)     (None, 25, 25, 96)   0           batch_normalization_685[0][0]    \n",
      "__________________________________________________________________________________________________\n",
      "average_pooling2d_65 (AveragePo (None, 25, 25, 256)  0           mixed0[0][0]                     \n",
      "__________________________________________________________________________________________________\n",
      "conv2d_671 (Conv2D)             (None, 25, 25, 64)   16384       mixed0[0][0]                     \n",
      "__________________________________________________________________________________________________\n",
      "conv2d_673 (Conv2D)             (None, 25, 25, 64)   76800       activation_672[0][0]             \n",
      "__________________________________________________________________________________________________\n",
      "conv2d_676 (Conv2D)             (None, 25, 25, 96)   82944       activation_675[0][0]             \n",
      "__________________________________________________________________________________________________\n",
      "conv2d_677 (Conv2D)             (None, 25, 25, 64)   16384       average_pooling2d_65[0][0]       \n",
      "__________________________________________________________________________________________________\n",
      "batch_normalization_681 (BatchN (None, 25, 25, 64)   192         conv2d_671[0][0]                 \n",
      "__________________________________________________________________________________________________\n",
      "batch_normalization_683 (BatchN (None, 25, 25, 64)   192         conv2d_673[0][0]                 \n",
      "__________________________________________________________________________________________________\n",
      "batch_normalization_686 (BatchN (None, 25, 25, 96)   288         conv2d_676[0][0]                 \n",
      "__________________________________________________________________________________________________\n",
      "batch_normalization_687 (BatchN (None, 25, 25, 64)   192         conv2d_677[0][0]                 \n",
      "__________________________________________________________________________________________________\n",
      "activation_671 (Activation)     (None, 25, 25, 64)   0           batch_normalization_681[0][0]    \n",
      "__________________________________________________________________________________________________\n",
      "activation_673 (Activation)     (None, 25, 25, 64)   0           batch_normalization_683[0][0]    \n",
      "__________________________________________________________________________________________________\n",
      "activation_676 (Activation)     (None, 25, 25, 96)   0           batch_normalization_686[0][0]    \n",
      "__________________________________________________________________________________________________\n",
      "activation_677 (Activation)     (None, 25, 25, 64)   0           batch_normalization_687[0][0]    \n",
      "__________________________________________________________________________________________________\n",
      "mixed1 (Concatenate)            (None, 25, 25, 288)  0           activation_671[0][0]             \n",
      "                                                                 activation_673[0][0]             \n",
      "                                                                 activation_676[0][0]             \n",
      "                                                                 activation_677[0][0]             \n",
      "__________________________________________________________________________________________________\n",
      "conv2d_681 (Conv2D)             (None, 25, 25, 64)   18432       mixed1[0][0]                     \n",
      "__________________________________________________________________________________________________\n",
      "batch_normalization_691 (BatchN (None, 25, 25, 64)   192         conv2d_681[0][0]                 \n",
      "__________________________________________________________________________________________________\n",
      "activation_681 (Activation)     (None, 25, 25, 64)   0           batch_normalization_691[0][0]    \n",
      "__________________________________________________________________________________________________\n",
      "conv2d_679 (Conv2D)             (None, 25, 25, 48)   13824       mixed1[0][0]                     \n",
      "__________________________________________________________________________________________________\n",
      "conv2d_682 (Conv2D)             (None, 25, 25, 96)   55296       activation_681[0][0]             \n",
      "__________________________________________________________________________________________________\n",
      "batch_normalization_689 (BatchN (None, 25, 25, 48)   144         conv2d_679[0][0]                 \n",
      "__________________________________________________________________________________________________\n",
      "batch_normalization_692 (BatchN (None, 25, 25, 96)   288         conv2d_682[0][0]                 \n",
      "__________________________________________________________________________________________________\n",
      "activation_679 (Activation)     (None, 25, 25, 48)   0           batch_normalization_689[0][0]    \n",
      "__________________________________________________________________________________________________\n",
      "activation_682 (Activation)     (None, 25, 25, 96)   0           batch_normalization_692[0][0]    \n",
      "__________________________________________________________________________________________________\n",
      "average_pooling2d_66 (AveragePo (None, 25, 25, 288)  0           mixed1[0][0]                     \n",
      "__________________________________________________________________________________________________\n",
      "conv2d_678 (Conv2D)             (None, 25, 25, 64)   18432       mixed1[0][0]                     \n",
      "__________________________________________________________________________________________________\n",
      "conv2d_680 (Conv2D)             (None, 25, 25, 64)   76800       activation_679[0][0]             \n",
      "__________________________________________________________________________________________________\n",
      "conv2d_683 (Conv2D)             (None, 25, 25, 96)   82944       activation_682[0][0]             \n",
      "__________________________________________________________________________________________________\n",
      "conv2d_684 (Conv2D)             (None, 25, 25, 64)   18432       average_pooling2d_66[0][0]       \n",
      "__________________________________________________________________________________________________\n",
      "batch_normalization_688 (BatchN (None, 25, 25, 64)   192         conv2d_678[0][0]                 \n",
      "__________________________________________________________________________________________________\n",
      "batch_normalization_690 (BatchN (None, 25, 25, 64)   192         conv2d_680[0][0]                 \n",
      "__________________________________________________________________________________________________\n",
      "batch_normalization_693 (BatchN (None, 25, 25, 96)   288         conv2d_683[0][0]                 \n",
      "__________________________________________________________________________________________________\n",
      "batch_normalization_694 (BatchN (None, 25, 25, 64)   192         conv2d_684[0][0]                 \n",
      "__________________________________________________________________________________________________\n",
      "activation_678 (Activation)     (None, 25, 25, 64)   0           batch_normalization_688[0][0]    \n",
      "__________________________________________________________________________________________________\n",
      "activation_680 (Activation)     (None, 25, 25, 64)   0           batch_normalization_690[0][0]    \n",
      "__________________________________________________________________________________________________\n",
      "activation_683 (Activation)     (None, 25, 25, 96)   0           batch_normalization_693[0][0]    \n",
      "__________________________________________________________________________________________________\n",
      "activation_684 (Activation)     (None, 25, 25, 64)   0           batch_normalization_694[0][0]    \n",
      "__________________________________________________________________________________________________\n",
      "mixed2 (Concatenate)            (None, 25, 25, 288)  0           activation_678[0][0]             \n",
      "                                                                 activation_680[0][0]             \n",
      "                                                                 activation_683[0][0]             \n",
      "                                                                 activation_684[0][0]             \n",
      "__________________________________________________________________________________________________\n",
      "conv2d_686 (Conv2D)             (None, 25, 25, 64)   18432       mixed2[0][0]                     \n",
      "__________________________________________________________________________________________________\n",
      "batch_normalization_696 (BatchN (None, 25, 25, 64)   192         conv2d_686[0][0]                 \n",
      "__________________________________________________________________________________________________\n",
      "activation_686 (Activation)     (None, 25, 25, 64)   0           batch_normalization_696[0][0]    \n",
      "__________________________________________________________________________________________________\n",
      "conv2d_687 (Conv2D)             (None, 25, 25, 96)   55296       activation_686[0][0]             \n",
      "__________________________________________________________________________________________________\n",
      "batch_normalization_697 (BatchN (None, 25, 25, 96)   288         conv2d_687[0][0]                 \n",
      "__________________________________________________________________________________________________\n",
      "activation_687 (Activation)     (None, 25, 25, 96)   0           batch_normalization_697[0][0]    \n",
      "__________________________________________________________________________________________________\n",
      "conv2d_685 (Conv2D)             (None, 12, 12, 384)  995328      mixed2[0][0]                     \n",
      "__________________________________________________________________________________________________\n",
      "conv2d_688 (Conv2D)             (None, 12, 12, 96)   82944       activation_687[0][0]             \n",
      "__________________________________________________________________________________________________\n",
      "batch_normalization_695 (BatchN (None, 12, 12, 384)  1152        conv2d_685[0][0]                 \n",
      "__________________________________________________________________________________________________\n",
      "batch_normalization_698 (BatchN (None, 12, 12, 96)   288         conv2d_688[0][0]                 \n",
      "__________________________________________________________________________________________________\n",
      "activation_685 (Activation)     (None, 12, 12, 384)  0           batch_normalization_695[0][0]    \n",
      "__________________________________________________________________________________________________\n",
      "activation_688 (Activation)     (None, 12, 12, 96)   0           batch_normalization_698[0][0]    \n",
      "__________________________________________________________________________________________________\n",
      "max_pooling2d_31 (MaxPooling2D) (None, 12, 12, 288)  0           mixed2[0][0]                     \n",
      "__________________________________________________________________________________________________\n",
      "mixed3 (Concatenate)            (None, 12, 12, 768)  0           activation_685[0][0]             \n",
      "                                                                 activation_688[0][0]             \n",
      "                                                                 max_pooling2d_31[0][0]           \n",
      "__________________________________________________________________________________________________\n",
      "conv2d_693 (Conv2D)             (None, 12, 12, 128)  98304       mixed3[0][0]                     \n",
      "__________________________________________________________________________________________________\n",
      "batch_normalization_703 (BatchN (None, 12, 12, 128)  384         conv2d_693[0][0]                 \n",
      "__________________________________________________________________________________________________\n",
      "activation_693 (Activation)     (None, 12, 12, 128)  0           batch_normalization_703[0][0]    \n",
      "__________________________________________________________________________________________________\n",
      "conv2d_694 (Conv2D)             (None, 12, 12, 128)  114688      activation_693[0][0]             \n",
      "__________________________________________________________________________________________________\n",
      "batch_normalization_704 (BatchN (None, 12, 12, 128)  384         conv2d_694[0][0]                 \n",
      "__________________________________________________________________________________________________\n",
      "activation_694 (Activation)     (None, 12, 12, 128)  0           batch_normalization_704[0][0]    \n",
      "__________________________________________________________________________________________________\n",
      "conv2d_690 (Conv2D)             (None, 12, 12, 128)  98304       mixed3[0][0]                     \n",
      "__________________________________________________________________________________________________\n",
      "conv2d_695 (Conv2D)             (None, 12, 12, 128)  114688      activation_694[0][0]             \n",
      "__________________________________________________________________________________________________\n",
      "batch_normalization_700 (BatchN (None, 12, 12, 128)  384         conv2d_690[0][0]                 \n",
      "__________________________________________________________________________________________________\n",
      "batch_normalization_705 (BatchN (None, 12, 12, 128)  384         conv2d_695[0][0]                 \n",
      "__________________________________________________________________________________________________\n",
      "activation_690 (Activation)     (None, 12, 12, 128)  0           batch_normalization_700[0][0]    \n",
      "__________________________________________________________________________________________________\n",
      "activation_695 (Activation)     (None, 12, 12, 128)  0           batch_normalization_705[0][0]    \n",
      "__________________________________________________________________________________________________\n",
      "conv2d_691 (Conv2D)             (None, 12, 12, 128)  114688      activation_690[0][0]             \n",
      "__________________________________________________________________________________________________\n",
      "conv2d_696 (Conv2D)             (None, 12, 12, 128)  114688      activation_695[0][0]             \n",
      "__________________________________________________________________________________________________\n",
      "batch_normalization_701 (BatchN (None, 12, 12, 128)  384         conv2d_691[0][0]                 \n",
      "__________________________________________________________________________________________________\n",
      "batch_normalization_706 (BatchN (None, 12, 12, 128)  384         conv2d_696[0][0]                 \n",
      "__________________________________________________________________________________________________\n",
      "activation_691 (Activation)     (None, 12, 12, 128)  0           batch_normalization_701[0][0]    \n",
      "__________________________________________________________________________________________________\n",
      "activation_696 (Activation)     (None, 12, 12, 128)  0           batch_normalization_706[0][0]    \n",
      "__________________________________________________________________________________________________\n",
      "average_pooling2d_67 (AveragePo (None, 12, 12, 768)  0           mixed3[0][0]                     \n",
      "__________________________________________________________________________________________________\n",
      "conv2d_689 (Conv2D)             (None, 12, 12, 192)  147456      mixed3[0][0]                     \n",
      "__________________________________________________________________________________________________\n",
      "conv2d_692 (Conv2D)             (None, 12, 12, 192)  172032      activation_691[0][0]             \n",
      "__________________________________________________________________________________________________\n",
      "conv2d_697 (Conv2D)             (None, 12, 12, 192)  172032      activation_696[0][0]             \n",
      "__________________________________________________________________________________________________\n",
      "conv2d_698 (Conv2D)             (None, 12, 12, 192)  147456      average_pooling2d_67[0][0]       \n",
      "__________________________________________________________________________________________________\n",
      "batch_normalization_699 (BatchN (None, 12, 12, 192)  576         conv2d_689[0][0]                 \n",
      "__________________________________________________________________________________________________\n",
      "batch_normalization_702 (BatchN (None, 12, 12, 192)  576         conv2d_692[0][0]                 \n",
      "__________________________________________________________________________________________________\n",
      "batch_normalization_707 (BatchN (None, 12, 12, 192)  576         conv2d_697[0][0]                 \n",
      "__________________________________________________________________________________________________\n",
      "batch_normalization_708 (BatchN (None, 12, 12, 192)  576         conv2d_698[0][0]                 \n",
      "__________________________________________________________________________________________________\n",
      "activation_689 (Activation)     (None, 12, 12, 192)  0           batch_normalization_699[0][0]    \n",
      "__________________________________________________________________________________________________\n",
      "activation_692 (Activation)     (None, 12, 12, 192)  0           batch_normalization_702[0][0]    \n",
      "__________________________________________________________________________________________________\n",
      "activation_697 (Activation)     (None, 12, 12, 192)  0           batch_normalization_707[0][0]    \n",
      "__________________________________________________________________________________________________\n",
      "activation_698 (Activation)     (None, 12, 12, 192)  0           batch_normalization_708[0][0]    \n",
      "__________________________________________________________________________________________________\n",
      "mixed4 (Concatenate)            (None, 12, 12, 768)  0           activation_689[0][0]             \n",
      "                                                                 activation_692[0][0]             \n",
      "                                                                 activation_697[0][0]             \n",
      "                                                                 activation_698[0][0]             \n",
      "__________________________________________________________________________________________________\n",
      "conv2d_703 (Conv2D)             (None, 12, 12, 160)  122880      mixed4[0][0]                     \n",
      "__________________________________________________________________________________________________\n",
      "batch_normalization_713 (BatchN (None, 12, 12, 160)  480         conv2d_703[0][0]                 \n",
      "__________________________________________________________________________________________________\n",
      "activation_703 (Activation)     (None, 12, 12, 160)  0           batch_normalization_713[0][0]    \n",
      "__________________________________________________________________________________________________\n",
      "conv2d_704 (Conv2D)             (None, 12, 12, 160)  179200      activation_703[0][0]             \n",
      "__________________________________________________________________________________________________\n",
      "batch_normalization_714 (BatchN (None, 12, 12, 160)  480         conv2d_704[0][0]                 \n",
      "__________________________________________________________________________________________________\n",
      "activation_704 (Activation)     (None, 12, 12, 160)  0           batch_normalization_714[0][0]    \n",
      "__________________________________________________________________________________________________\n",
      "conv2d_700 (Conv2D)             (None, 12, 12, 160)  122880      mixed4[0][0]                     \n",
      "__________________________________________________________________________________________________\n",
      "conv2d_705 (Conv2D)             (None, 12, 12, 160)  179200      activation_704[0][0]             \n",
      "__________________________________________________________________________________________________\n",
      "batch_normalization_710 (BatchN (None, 12, 12, 160)  480         conv2d_700[0][0]                 \n",
      "__________________________________________________________________________________________________\n",
      "batch_normalization_715 (BatchN (None, 12, 12, 160)  480         conv2d_705[0][0]                 \n",
      "__________________________________________________________________________________________________\n",
      "activation_700 (Activation)     (None, 12, 12, 160)  0           batch_normalization_710[0][0]    \n",
      "__________________________________________________________________________________________________\n",
      "activation_705 (Activation)     (None, 12, 12, 160)  0           batch_normalization_715[0][0]    \n",
      "__________________________________________________________________________________________________\n",
      "conv2d_701 (Conv2D)             (None, 12, 12, 160)  179200      activation_700[0][0]             \n",
      "__________________________________________________________________________________________________\n",
      "conv2d_706 (Conv2D)             (None, 12, 12, 160)  179200      activation_705[0][0]             \n",
      "__________________________________________________________________________________________________\n",
      "batch_normalization_711 (BatchN (None, 12, 12, 160)  480         conv2d_701[0][0]                 \n",
      "__________________________________________________________________________________________________\n",
      "batch_normalization_716 (BatchN (None, 12, 12, 160)  480         conv2d_706[0][0]                 \n",
      "__________________________________________________________________________________________________\n",
      "activation_701 (Activation)     (None, 12, 12, 160)  0           batch_normalization_711[0][0]    \n",
      "__________________________________________________________________________________________________\n",
      "activation_706 (Activation)     (None, 12, 12, 160)  0           batch_normalization_716[0][0]    \n",
      "__________________________________________________________________________________________________\n",
      "average_pooling2d_68 (AveragePo (None, 12, 12, 768)  0           mixed4[0][0]                     \n",
      "__________________________________________________________________________________________________\n",
      "conv2d_699 (Conv2D)             (None, 12, 12, 192)  147456      mixed4[0][0]                     \n",
      "__________________________________________________________________________________________________\n",
      "conv2d_702 (Conv2D)             (None, 12, 12, 192)  215040      activation_701[0][0]             \n",
      "__________________________________________________________________________________________________\n",
      "conv2d_707 (Conv2D)             (None, 12, 12, 192)  215040      activation_706[0][0]             \n",
      "__________________________________________________________________________________________________\n",
      "conv2d_708 (Conv2D)             (None, 12, 12, 192)  147456      average_pooling2d_68[0][0]       \n",
      "__________________________________________________________________________________________________\n",
      "batch_normalization_709 (BatchN (None, 12, 12, 192)  576         conv2d_699[0][0]                 \n",
      "__________________________________________________________________________________________________\n",
      "batch_normalization_712 (BatchN (None, 12, 12, 192)  576         conv2d_702[0][0]                 \n",
      "__________________________________________________________________________________________________\n",
      "batch_normalization_717 (BatchN (None, 12, 12, 192)  576         conv2d_707[0][0]                 \n",
      "__________________________________________________________________________________________________\n",
      "batch_normalization_718 (BatchN (None, 12, 12, 192)  576         conv2d_708[0][0]                 \n",
      "__________________________________________________________________________________________________\n",
      "activation_699 (Activation)     (None, 12, 12, 192)  0           batch_normalization_709[0][0]    \n",
      "__________________________________________________________________________________________________\n",
      "activation_702 (Activation)     (None, 12, 12, 192)  0           batch_normalization_712[0][0]    \n",
      "__________________________________________________________________________________________________\n",
      "activation_707 (Activation)     (None, 12, 12, 192)  0           batch_normalization_717[0][0]    \n",
      "__________________________________________________________________________________________________\n",
      "activation_708 (Activation)     (None, 12, 12, 192)  0           batch_normalization_718[0][0]    \n",
      "__________________________________________________________________________________________________\n",
      "mixed5 (Concatenate)            (None, 12, 12, 768)  0           activation_699[0][0]             \n",
      "                                                                 activation_702[0][0]             \n",
      "                                                                 activation_707[0][0]             \n",
      "                                                                 activation_708[0][0]             \n",
      "__________________________________________________________________________________________________\n",
      "conv2d_713 (Conv2D)             (None, 12, 12, 160)  122880      mixed5[0][0]                     \n",
      "__________________________________________________________________________________________________\n",
      "batch_normalization_723 (BatchN (None, 12, 12, 160)  480         conv2d_713[0][0]                 \n",
      "__________________________________________________________________________________________________\n",
      "activation_713 (Activation)     (None, 12, 12, 160)  0           batch_normalization_723[0][0]    \n",
      "__________________________________________________________________________________________________\n",
      "conv2d_714 (Conv2D)             (None, 12, 12, 160)  179200      activation_713[0][0]             \n",
      "__________________________________________________________________________________________________\n",
      "batch_normalization_724 (BatchN (None, 12, 12, 160)  480         conv2d_714[0][0]                 \n",
      "__________________________________________________________________________________________________\n",
      "activation_714 (Activation)     (None, 12, 12, 160)  0           batch_normalization_724[0][0]    \n",
      "__________________________________________________________________________________________________\n",
      "conv2d_710 (Conv2D)             (None, 12, 12, 160)  122880      mixed5[0][0]                     \n",
      "__________________________________________________________________________________________________\n",
      "conv2d_715 (Conv2D)             (None, 12, 12, 160)  179200      activation_714[0][0]             \n",
      "__________________________________________________________________________________________________\n",
      "batch_normalization_720 (BatchN (None, 12, 12, 160)  480         conv2d_710[0][0]                 \n",
      "__________________________________________________________________________________________________\n",
      "batch_normalization_725 (BatchN (None, 12, 12, 160)  480         conv2d_715[0][0]                 \n",
      "__________________________________________________________________________________________________\n",
      "activation_710 (Activation)     (None, 12, 12, 160)  0           batch_normalization_720[0][0]    \n",
      "__________________________________________________________________________________________________\n",
      "activation_715 (Activation)     (None, 12, 12, 160)  0           batch_normalization_725[0][0]    \n",
      "__________________________________________________________________________________________________\n",
      "conv2d_711 (Conv2D)             (None, 12, 12, 160)  179200      activation_710[0][0]             \n",
      "__________________________________________________________________________________________________\n",
      "conv2d_716 (Conv2D)             (None, 12, 12, 160)  179200      activation_715[0][0]             \n",
      "__________________________________________________________________________________________________\n",
      "batch_normalization_721 (BatchN (None, 12, 12, 160)  480         conv2d_711[0][0]                 \n",
      "__________________________________________________________________________________________________\n",
      "batch_normalization_726 (BatchN (None, 12, 12, 160)  480         conv2d_716[0][0]                 \n",
      "__________________________________________________________________________________________________\n",
      "activation_711 (Activation)     (None, 12, 12, 160)  0           batch_normalization_721[0][0]    \n",
      "__________________________________________________________________________________________________\n",
      "activation_716 (Activation)     (None, 12, 12, 160)  0           batch_normalization_726[0][0]    \n",
      "__________________________________________________________________________________________________\n",
      "average_pooling2d_69 (AveragePo (None, 12, 12, 768)  0           mixed5[0][0]                     \n",
      "__________________________________________________________________________________________________\n",
      "conv2d_709 (Conv2D)             (None, 12, 12, 192)  147456      mixed5[0][0]                     \n",
      "__________________________________________________________________________________________________\n",
      "conv2d_712 (Conv2D)             (None, 12, 12, 192)  215040      activation_711[0][0]             \n",
      "__________________________________________________________________________________________________\n",
      "conv2d_717 (Conv2D)             (None, 12, 12, 192)  215040      activation_716[0][0]             \n",
      "__________________________________________________________________________________________________\n",
      "conv2d_718 (Conv2D)             (None, 12, 12, 192)  147456      average_pooling2d_69[0][0]       \n",
      "__________________________________________________________________________________________________\n",
      "batch_normalization_719 (BatchN (None, 12, 12, 192)  576         conv2d_709[0][0]                 \n",
      "__________________________________________________________________________________________________\n",
      "batch_normalization_722 (BatchN (None, 12, 12, 192)  576         conv2d_712[0][0]                 \n",
      "__________________________________________________________________________________________________\n",
      "batch_normalization_727 (BatchN (None, 12, 12, 192)  576         conv2d_717[0][0]                 \n",
      "__________________________________________________________________________________________________\n",
      "batch_normalization_728 (BatchN (None, 12, 12, 192)  576         conv2d_718[0][0]                 \n",
      "__________________________________________________________________________________________________\n",
      "activation_709 (Activation)     (None, 12, 12, 192)  0           batch_normalization_719[0][0]    \n",
      "__________________________________________________________________________________________________\n",
      "activation_712 (Activation)     (None, 12, 12, 192)  0           batch_normalization_722[0][0]    \n",
      "__________________________________________________________________________________________________\n",
      "activation_717 (Activation)     (None, 12, 12, 192)  0           batch_normalization_727[0][0]    \n",
      "__________________________________________________________________________________________________\n",
      "activation_718 (Activation)     (None, 12, 12, 192)  0           batch_normalization_728[0][0]    \n",
      "__________________________________________________________________________________________________\n",
      "mixed6 (Concatenate)            (None, 12, 12, 768)  0           activation_709[0][0]             \n",
      "                                                                 activation_712[0][0]             \n",
      "                                                                 activation_717[0][0]             \n",
      "                                                                 activation_718[0][0]             \n",
      "__________________________________________________________________________________________________\n",
      "conv2d_723 (Conv2D)             (None, 12, 12, 192)  147456      mixed6[0][0]                     \n",
      "__________________________________________________________________________________________________\n",
      "batch_normalization_733 (BatchN (None, 12, 12, 192)  576         conv2d_723[0][0]                 \n",
      "__________________________________________________________________________________________________\n",
      "activation_723 (Activation)     (None, 12, 12, 192)  0           batch_normalization_733[0][0]    \n",
      "__________________________________________________________________________________________________\n",
      "conv2d_724 (Conv2D)             (None, 12, 12, 192)  258048      activation_723[0][0]             \n",
      "__________________________________________________________________________________________________\n",
      "batch_normalization_734 (BatchN (None, 12, 12, 192)  576         conv2d_724[0][0]                 \n",
      "__________________________________________________________________________________________________\n",
      "activation_724 (Activation)     (None, 12, 12, 192)  0           batch_normalization_734[0][0]    \n",
      "__________________________________________________________________________________________________\n",
      "conv2d_720 (Conv2D)             (None, 12, 12, 192)  147456      mixed6[0][0]                     \n",
      "__________________________________________________________________________________________________\n",
      "conv2d_725 (Conv2D)             (None, 12, 12, 192)  258048      activation_724[0][0]             \n",
      "__________________________________________________________________________________________________\n",
      "batch_normalization_730 (BatchN (None, 12, 12, 192)  576         conv2d_720[0][0]                 \n",
      "__________________________________________________________________________________________________\n",
      "batch_normalization_735 (BatchN (None, 12, 12, 192)  576         conv2d_725[0][0]                 \n",
      "__________________________________________________________________________________________________\n",
      "activation_720 (Activation)     (None, 12, 12, 192)  0           batch_normalization_730[0][0]    \n",
      "__________________________________________________________________________________________________\n",
      "activation_725 (Activation)     (None, 12, 12, 192)  0           batch_normalization_735[0][0]    \n",
      "__________________________________________________________________________________________________\n",
      "conv2d_721 (Conv2D)             (None, 12, 12, 192)  258048      activation_720[0][0]             \n",
      "__________________________________________________________________________________________________\n",
      "conv2d_726 (Conv2D)             (None, 12, 12, 192)  258048      activation_725[0][0]             \n",
      "__________________________________________________________________________________________________\n",
      "batch_normalization_731 (BatchN (None, 12, 12, 192)  576         conv2d_721[0][0]                 \n",
      "__________________________________________________________________________________________________\n",
      "batch_normalization_736 (BatchN (None, 12, 12, 192)  576         conv2d_726[0][0]                 \n",
      "__________________________________________________________________________________________________\n",
      "activation_721 (Activation)     (None, 12, 12, 192)  0           batch_normalization_731[0][0]    \n",
      "__________________________________________________________________________________________________\n",
      "activation_726 (Activation)     (None, 12, 12, 192)  0           batch_normalization_736[0][0]    \n",
      "__________________________________________________________________________________________________\n",
      "average_pooling2d_70 (AveragePo (None, 12, 12, 768)  0           mixed6[0][0]                     \n",
      "__________________________________________________________________________________________________\n",
      "conv2d_719 (Conv2D)             (None, 12, 12, 192)  147456      mixed6[0][0]                     \n",
      "__________________________________________________________________________________________________\n",
      "conv2d_722 (Conv2D)             (None, 12, 12, 192)  258048      activation_721[0][0]             \n",
      "__________________________________________________________________________________________________\n",
      "conv2d_727 (Conv2D)             (None, 12, 12, 192)  258048      activation_726[0][0]             \n",
      "__________________________________________________________________________________________________\n",
      "conv2d_728 (Conv2D)             (None, 12, 12, 192)  147456      average_pooling2d_70[0][0]       \n",
      "__________________________________________________________________________________________________\n",
      "batch_normalization_729 (BatchN (None, 12, 12, 192)  576         conv2d_719[0][0]                 \n",
      "__________________________________________________________________________________________________\n",
      "batch_normalization_732 (BatchN (None, 12, 12, 192)  576         conv2d_722[0][0]                 \n",
      "__________________________________________________________________________________________________\n",
      "batch_normalization_737 (BatchN (None, 12, 12, 192)  576         conv2d_727[0][0]                 \n",
      "__________________________________________________________________________________________________\n",
      "batch_normalization_738 (BatchN (None, 12, 12, 192)  576         conv2d_728[0][0]                 \n",
      "__________________________________________________________________________________________________\n",
      "activation_719 (Activation)     (None, 12, 12, 192)  0           batch_normalization_729[0][0]    \n",
      "__________________________________________________________________________________________________\n",
      "activation_722 (Activation)     (None, 12, 12, 192)  0           batch_normalization_732[0][0]    \n",
      "__________________________________________________________________________________________________\n",
      "activation_727 (Activation)     (None, 12, 12, 192)  0           batch_normalization_737[0][0]    \n",
      "__________________________________________________________________________________________________\n",
      "activation_728 (Activation)     (None, 12, 12, 192)  0           batch_normalization_738[0][0]    \n",
      "__________________________________________________________________________________________________\n",
      "mixed7 (Concatenate)            (None, 12, 12, 768)  0           activation_719[0][0]             \n",
      "                                                                 activation_722[0][0]             \n",
      "                                                                 activation_727[0][0]             \n",
      "                                                                 activation_728[0][0]             \n",
      "__________________________________________________________________________________________________\n",
      "conv2d_731 (Conv2D)             (None, 12, 12, 192)  147456      mixed7[0][0]                     \n",
      "__________________________________________________________________________________________________\n",
      "batch_normalization_741 (BatchN (None, 12, 12, 192)  576         conv2d_731[0][0]                 \n",
      "__________________________________________________________________________________________________\n",
      "activation_731 (Activation)     (None, 12, 12, 192)  0           batch_normalization_741[0][0]    \n",
      "__________________________________________________________________________________________________\n",
      "conv2d_732 (Conv2D)             (None, 12, 12, 192)  258048      activation_731[0][0]             \n",
      "__________________________________________________________________________________________________\n",
      "batch_normalization_742 (BatchN (None, 12, 12, 192)  576         conv2d_732[0][0]                 \n",
      "__________________________________________________________________________________________________\n",
      "activation_732 (Activation)     (None, 12, 12, 192)  0           batch_normalization_742[0][0]    \n",
      "__________________________________________________________________________________________________\n",
      "conv2d_729 (Conv2D)             (None, 12, 12, 192)  147456      mixed7[0][0]                     \n",
      "__________________________________________________________________________________________________\n",
      "conv2d_733 (Conv2D)             (None, 12, 12, 192)  258048      activation_732[0][0]             \n",
      "__________________________________________________________________________________________________\n",
      "batch_normalization_739 (BatchN (None, 12, 12, 192)  576         conv2d_729[0][0]                 \n",
      "__________________________________________________________________________________________________\n",
      "batch_normalization_743 (BatchN (None, 12, 12, 192)  576         conv2d_733[0][0]                 \n",
      "__________________________________________________________________________________________________\n",
      "activation_729 (Activation)     (None, 12, 12, 192)  0           batch_normalization_739[0][0]    \n",
      "__________________________________________________________________________________________________\n",
      "activation_733 (Activation)     (None, 12, 12, 192)  0           batch_normalization_743[0][0]    \n",
      "__________________________________________________________________________________________________\n",
      "conv2d_730 (Conv2D)             (None, 5, 5, 320)    552960      activation_729[0][0]             \n",
      "__________________________________________________________________________________________________\n",
      "conv2d_734 (Conv2D)             (None, 5, 5, 192)    331776      activation_733[0][0]             \n",
      "__________________________________________________________________________________________________\n",
      "batch_normalization_740 (BatchN (None, 5, 5, 320)    960         conv2d_730[0][0]                 \n",
      "__________________________________________________________________________________________________\n",
      "batch_normalization_744 (BatchN (None, 5, 5, 192)    576         conv2d_734[0][0]                 \n",
      "__________________________________________________________________________________________________\n",
      "activation_730 (Activation)     (None, 5, 5, 320)    0           batch_normalization_740[0][0]    \n",
      "__________________________________________________________________________________________________\n",
      "activation_734 (Activation)     (None, 5, 5, 192)    0           batch_normalization_744[0][0]    \n",
      "__________________________________________________________________________________________________\n",
      "max_pooling2d_32 (MaxPooling2D) (None, 5, 5, 768)    0           mixed7[0][0]                     \n",
      "__________________________________________________________________________________________________\n",
      "mixed8 (Concatenate)            (None, 5, 5, 1280)   0           activation_730[0][0]             \n",
      "                                                                 activation_734[0][0]             \n",
      "                                                                 max_pooling2d_32[0][0]           \n",
      "__________________________________________________________________________________________________\n",
      "conv2d_739 (Conv2D)             (None, 5, 5, 448)    573440      mixed8[0][0]                     \n",
      "__________________________________________________________________________________________________\n",
      "batch_normalization_749 (BatchN (None, 5, 5, 448)    1344        conv2d_739[0][0]                 \n",
      "__________________________________________________________________________________________________\n",
      "activation_739 (Activation)     (None, 5, 5, 448)    0           batch_normalization_749[0][0]    \n",
      "__________________________________________________________________________________________________\n",
      "conv2d_736 (Conv2D)             (None, 5, 5, 384)    491520      mixed8[0][0]                     \n",
      "__________________________________________________________________________________________________\n",
      "conv2d_740 (Conv2D)             (None, 5, 5, 384)    1548288     activation_739[0][0]             \n",
      "__________________________________________________________________________________________________\n",
      "batch_normalization_746 (BatchN (None, 5, 5, 384)    1152        conv2d_736[0][0]                 \n",
      "__________________________________________________________________________________________________\n",
      "batch_normalization_750 (BatchN (None, 5, 5, 384)    1152        conv2d_740[0][0]                 \n",
      "__________________________________________________________________________________________________\n",
      "activation_736 (Activation)     (None, 5, 5, 384)    0           batch_normalization_746[0][0]    \n",
      "__________________________________________________________________________________________________\n",
      "activation_740 (Activation)     (None, 5, 5, 384)    0           batch_normalization_750[0][0]    \n",
      "__________________________________________________________________________________________________\n",
      "conv2d_737 (Conv2D)             (None, 5, 5, 384)    442368      activation_736[0][0]             \n",
      "__________________________________________________________________________________________________\n",
      "conv2d_738 (Conv2D)             (None, 5, 5, 384)    442368      activation_736[0][0]             \n",
      "__________________________________________________________________________________________________\n",
      "conv2d_741 (Conv2D)             (None, 5, 5, 384)    442368      activation_740[0][0]             \n",
      "__________________________________________________________________________________________________\n",
      "conv2d_742 (Conv2D)             (None, 5, 5, 384)    442368      activation_740[0][0]             \n",
      "__________________________________________________________________________________________________\n",
      "average_pooling2d_71 (AveragePo (None, 5, 5, 1280)   0           mixed8[0][0]                     \n",
      "__________________________________________________________________________________________________\n",
      "conv2d_735 (Conv2D)             (None, 5, 5, 320)    409600      mixed8[0][0]                     \n",
      "__________________________________________________________________________________________________\n",
      "batch_normalization_747 (BatchN (None, 5, 5, 384)    1152        conv2d_737[0][0]                 \n",
      "__________________________________________________________________________________________________\n",
      "batch_normalization_748 (BatchN (None, 5, 5, 384)    1152        conv2d_738[0][0]                 \n",
      "__________________________________________________________________________________________________\n",
      "batch_normalization_751 (BatchN (None, 5, 5, 384)    1152        conv2d_741[0][0]                 \n",
      "__________________________________________________________________________________________________\n",
      "batch_normalization_752 (BatchN (None, 5, 5, 384)    1152        conv2d_742[0][0]                 \n",
      "__________________________________________________________________________________________________\n",
      "conv2d_743 (Conv2D)             (None, 5, 5, 192)    245760      average_pooling2d_71[0][0]       \n",
      "__________________________________________________________________________________________________\n",
      "batch_normalization_745 (BatchN (None, 5, 5, 320)    960         conv2d_735[0][0]                 \n",
      "__________________________________________________________________________________________________\n",
      "activation_737 (Activation)     (None, 5, 5, 384)    0           batch_normalization_747[0][0]    \n",
      "__________________________________________________________________________________________________\n",
      "activation_738 (Activation)     (None, 5, 5, 384)    0           batch_normalization_748[0][0]    \n",
      "__________________________________________________________________________________________________\n",
      "activation_741 (Activation)     (None, 5, 5, 384)    0           batch_normalization_751[0][0]    \n",
      "__________________________________________________________________________________________________\n",
      "activation_742 (Activation)     (None, 5, 5, 384)    0           batch_normalization_752[0][0]    \n",
      "__________________________________________________________________________________________________\n",
      "batch_normalization_753 (BatchN (None, 5, 5, 192)    576         conv2d_743[0][0]                 \n",
      "__________________________________________________________________________________________________\n",
      "activation_735 (Activation)     (None, 5, 5, 320)    0           batch_normalization_745[0][0]    \n",
      "__________________________________________________________________________________________________\n",
      "mixed9_0 (Concatenate)          (None, 5, 5, 768)    0           activation_737[0][0]             \n",
      "                                                                 activation_738[0][0]             \n",
      "__________________________________________________________________________________________________\n",
      "concatenate_15 (Concatenate)    (None, 5, 5, 768)    0           activation_741[0][0]             \n",
      "                                                                 activation_742[0][0]             \n",
      "__________________________________________________________________________________________________\n",
      "activation_743 (Activation)     (None, 5, 5, 192)    0           batch_normalization_753[0][0]    \n",
      "__________________________________________________________________________________________________\n",
      "mixed9 (Concatenate)            (None, 5, 5, 2048)   0           activation_735[0][0]             \n",
      "                                                                 mixed9_0[0][0]                   \n",
      "                                                                 concatenate_15[0][0]             \n",
      "                                                                 activation_743[0][0]             \n",
      "__________________________________________________________________________________________________\n",
      "conv2d_748 (Conv2D)             (None, 5, 5, 448)    917504      mixed9[0][0]                     \n",
      "__________________________________________________________________________________________________\n",
      "batch_normalization_758 (BatchN (None, 5, 5, 448)    1344        conv2d_748[0][0]                 \n",
      "__________________________________________________________________________________________________\n",
      "activation_748 (Activation)     (None, 5, 5, 448)    0           batch_normalization_758[0][0]    \n",
      "__________________________________________________________________________________________________\n",
      "conv2d_745 (Conv2D)             (None, 5, 5, 384)    786432      mixed9[0][0]                     \n",
      "__________________________________________________________________________________________________\n",
      "conv2d_749 (Conv2D)             (None, 5, 5, 384)    1548288     activation_748[0][0]             \n",
      "__________________________________________________________________________________________________\n",
      "batch_normalization_755 (BatchN (None, 5, 5, 384)    1152        conv2d_745[0][0]                 \n",
      "__________________________________________________________________________________________________\n",
      "batch_normalization_759 (BatchN (None, 5, 5, 384)    1152        conv2d_749[0][0]                 \n",
      "__________________________________________________________________________________________________\n",
      "activation_745 (Activation)     (None, 5, 5, 384)    0           batch_normalization_755[0][0]    \n",
      "__________________________________________________________________________________________________\n",
      "activation_749 (Activation)     (None, 5, 5, 384)    0           batch_normalization_759[0][0]    \n",
      "__________________________________________________________________________________________________\n",
      "conv2d_746 (Conv2D)             (None, 5, 5, 384)    442368      activation_745[0][0]             \n",
      "__________________________________________________________________________________________________\n",
      "conv2d_747 (Conv2D)             (None, 5, 5, 384)    442368      activation_745[0][0]             \n",
      "__________________________________________________________________________________________________\n",
      "conv2d_750 (Conv2D)             (None, 5, 5, 384)    442368      activation_749[0][0]             \n",
      "__________________________________________________________________________________________________\n",
      "conv2d_751 (Conv2D)             (None, 5, 5, 384)    442368      activation_749[0][0]             \n",
      "__________________________________________________________________________________________________\n",
      "average_pooling2d_72 (AveragePo (None, 5, 5, 2048)   0           mixed9[0][0]                     \n",
      "__________________________________________________________________________________________________\n",
      "conv2d_744 (Conv2D)             (None, 5, 5, 320)    655360      mixed9[0][0]                     \n",
      "__________________________________________________________________________________________________\n",
      "batch_normalization_756 (BatchN (None, 5, 5, 384)    1152        conv2d_746[0][0]                 \n",
      "__________________________________________________________________________________________________\n",
      "batch_normalization_757 (BatchN (None, 5, 5, 384)    1152        conv2d_747[0][0]                 \n",
      "__________________________________________________________________________________________________\n",
      "batch_normalization_760 (BatchN (None, 5, 5, 384)    1152        conv2d_750[0][0]                 \n",
      "__________________________________________________________________________________________________\n",
      "batch_normalization_761 (BatchN (None, 5, 5, 384)    1152        conv2d_751[0][0]                 \n",
      "__________________________________________________________________________________________________\n",
      "conv2d_752 (Conv2D)             (None, 5, 5, 192)    393216      average_pooling2d_72[0][0]       \n",
      "__________________________________________________________________________________________________\n",
      "batch_normalization_754 (BatchN (None, 5, 5, 320)    960         conv2d_744[0][0]                 \n",
      "__________________________________________________________________________________________________\n",
      "activation_746 (Activation)     (None, 5, 5, 384)    0           batch_normalization_756[0][0]    \n",
      "__________________________________________________________________________________________________\n",
      "activation_747 (Activation)     (None, 5, 5, 384)    0           batch_normalization_757[0][0]    \n",
      "__________________________________________________________________________________________________\n",
      "activation_750 (Activation)     (None, 5, 5, 384)    0           batch_normalization_760[0][0]    \n",
      "__________________________________________________________________________________________________\n",
      "activation_751 (Activation)     (None, 5, 5, 384)    0           batch_normalization_761[0][0]    \n",
      "__________________________________________________________________________________________________\n",
      "batch_normalization_762 (BatchN (None, 5, 5, 192)    576         conv2d_752[0][0]                 \n",
      "__________________________________________________________________________________________________\n",
      "activation_744 (Activation)     (None, 5, 5, 320)    0           batch_normalization_754[0][0]    \n",
      "__________________________________________________________________________________________________\n",
      "mixed9_1 (Concatenate)          (None, 5, 5, 768)    0           activation_746[0][0]             \n",
      "                                                                 activation_747[0][0]             \n",
      "__________________________________________________________________________________________________\n",
      "concatenate_16 (Concatenate)    (None, 5, 5, 768)    0           activation_750[0][0]             \n",
      "                                                                 activation_751[0][0]             \n",
      "__________________________________________________________________________________________________\n",
      "activation_752 (Activation)     (None, 5, 5, 192)    0           batch_normalization_762[0][0]    \n",
      "__________________________________________________________________________________________________\n",
      "mixed10 (Concatenate)           (None, 5, 5, 2048)   0           activation_744[0][0]             \n",
      "                                                                 mixed9_1[0][0]                   \n",
      "                                                                 concatenate_16[0][0]             \n",
      "                                                                 activation_752[0][0]             \n",
      "__________________________________________________________________________________________________\n",
      "dropout_13 (Dropout)            (None, 5, 5, 2048)   0           mixed10[0][0]                    \n",
      "__________________________________________________________________________________________________\n",
      "global_average_pooling2d_12 (Gl (None, 2048)         0           dropout_13[0][0]                 \n",
      "__________________________________________________________________________________________________\n",
      "dense_34 (Dense)                (None, 128)          262272      global_average_pooling2d_12[0][0]\n",
      "__________________________________________________________________________________________________\n",
      "batch_normalization_763 (BatchN (None, 128)          512         dense_34[0][0]                   \n",
      "__________________________________________________________________________________________________\n",
      "dense_35 (Dense)                (None, 2)            258         batch_normalization_763[0][0]    \n",
      "==================================================================================================\n",
      "Total params: 22,065,826\n",
      "Trainable params: 22,031,138\n",
      "Non-trainable params: 34,688\n",
      "__________________________________________________________________________________________________\n"
     ],
     "name": "stdout"
    }
   ]
  },
  {
   "cell_type": "code",
   "metadata": {
    "id": "kK8W2SkHvbT_",
    "colab_type": "code",
    "colab": {}
   },
   "source": [
    "from keras.preprocessing.image import ImageDataGenerator"
   ],
   "execution_count": 0,
   "outputs": []
  },
  {
   "cell_type": "code",
   "metadata": {
    "id": "wRC78sWe2DRF",
    "colab_type": "code",
    "colab": {}
   },
   "source": [
    "traindatagen = ImageDataGenerator(rescale=1./255,\n",
    "                                  zoom_range = 0.2,\n",
    "                                  horizontal_flip=True)\n",
    "\n",
    "test_datagen = ImageDataGenerator(rescale=1./255)\n",
    "\n",
    "\n",
    "                                 "
   ],
   "execution_count": 0,
   "outputs": []
  },
  {
   "cell_type": "code",
   "metadata": {
    "id": "9Xf4lBj53aWF",
    "colab_type": "code",
    "colab": {
     "base_uri": "https://localhost:8080/",
     "height": 51
    },
    "outputId": "75edac07-a990-42ca-821b-451ff023a71a"
   },
   "source": [
    "training_set = train_datagen.flow_from_directory(loc+'/train',\n",
    "                                                target_size=(224, 224),\n",
    "                                                batch_size=32,\n",
    "                                                class_mode='categorical')\n",
    "\n",
    "testing_set = test_datagen.flow_from_directory(loc+'/test',\n",
    "                                               target_size=(224, 224),\n",
    "                                               batch_size=32,\n",
    "                                               class_mode='categorical')\n"
   ],
   "execution_count": 243,
   "outputs": [
    {
     "output_type": "stream",
     "text": [
      "Found 5229 images belonging to 2 classes.\n",
      "Found 624 images belonging to 2 classes.\n"
     ],
     "name": "stdout"
    }
   ]
  },
  {
   "cell_type": "code",
   "metadata": {
    "id": "cZ5eZ3NR5Vbb",
    "colab_type": "code",
    "colab": {
     "base_uri": "https://localhost:8080/",
     "height": 867
    },
    "outputId": "2759d163-de7a-47aa-8f3d-920afa52ae23"
   },
   "source": [
    "f = model.fit_generator(training_set,\n",
    "              validation_data = testing_set,\n",
    "              epochs=25,\n",
    "              steps_per_epoch = len(training_set),\n",
    "              validation_steps = len(testing_set)\n",
    "             )"
   ],
   "execution_count": 248,
   "outputs": [
    {
     "output_type": "stream",
     "text": [
      "Epoch 1/25\n",
      "164/164 [==============================] - 178s 1s/step - loss: 0.0414 - acc: 0.9857 - val_loss: 0.1939 - val_acc: 0.9247\n",
      "Epoch 2/25\n",
      "164/164 [==============================] - 175s 1s/step - loss: 0.0338 - acc: 0.9882 - val_loss: 0.3341 - val_acc: 0.8670\n",
      "Epoch 3/25\n",
      "164/164 [==============================] - 181s 1s/step - loss: 0.0376 - acc: 0.9866 - val_loss: 0.3172 - val_acc: 0.9087\n",
      "Epoch 4/25\n",
      "164/164 [==============================] - 180s 1s/step - loss: 0.0306 - acc: 0.9888 - val_loss: 0.2379 - val_acc: 0.9263\n",
      "Epoch 5/25\n",
      "164/164 [==============================] - 179s 1s/step - loss: 0.0257 - acc: 0.9910 - val_loss: 0.2215 - val_acc: 0.9215\n",
      "Epoch 6/25\n",
      "164/164 [==============================] - 173s 1s/step - loss: 0.0328 - acc: 0.9878 - val_loss: 0.2937 - val_acc: 0.9071\n",
      "Epoch 7/25\n",
      "164/164 [==============================] - 172s 1s/step - loss: 0.0262 - acc: 0.9916 - val_loss: 0.3706 - val_acc: 0.8686\n",
      "Epoch 8/25\n",
      "164/164 [==============================] - 175s 1s/step - loss: 0.0233 - acc: 0.9916 - val_loss: 0.2358 - val_acc: 0.9247\n",
      "Epoch 9/25\n",
      "164/164 [==============================] - 173s 1s/step - loss: 0.0307 - acc: 0.9889 - val_loss: 0.3309 - val_acc: 0.8846\n",
      "Epoch 10/25\n",
      "164/164 [==============================] - 174s 1s/step - loss: 0.0435 - acc: 0.9859 - val_loss: 0.1829 - val_acc: 0.9135\n",
      "Epoch 11/25\n",
      "164/164 [==============================] - 174s 1s/step - loss: 0.0225 - acc: 0.9918 - val_loss: 0.4384 - val_acc: 0.8718\n",
      "Epoch 12/25\n",
      "164/164 [==============================] - 172s 1s/step - loss: 0.0252 - acc: 0.9909 - val_loss: 0.1816 - val_acc: 0.9295\n",
      "Epoch 13/25\n",
      "164/164 [==============================] - 169s 1s/step - loss: 0.0184 - acc: 0.9933 - val_loss: 0.4338 - val_acc: 0.8846\n",
      "Epoch 14/25\n",
      "164/164 [==============================] - 170s 1s/step - loss: 0.0271 - acc: 0.9923 - val_loss: 0.1295 - val_acc: 0.9535\n",
      "Epoch 15/25\n",
      "164/164 [==============================] - 170s 1s/step - loss: 0.0284 - acc: 0.9893 - val_loss: 0.2493 - val_acc: 0.8958\n",
      "Epoch 16/25\n",
      "164/164 [==============================] - 176s 1s/step - loss: 0.0444 - acc: 0.9838 - val_loss: 0.4567 - val_acc: 0.8429\n",
      "Epoch 17/25\n",
      "164/164 [==============================] - 182s 1s/step - loss: 0.0252 - acc: 0.9914 - val_loss: 0.4830 - val_acc: 0.8317\n",
      "Epoch 18/25\n",
      "164/164 [==============================] - 181s 1s/step - loss: 0.0197 - acc: 0.9941 - val_loss: 0.2197 - val_acc: 0.9215\n",
      "Epoch 19/25\n",
      "164/164 [==============================] - 178s 1s/step - loss: 0.0237 - acc: 0.9910 - val_loss: 0.2502 - val_acc: 0.9151\n",
      "Epoch 20/25\n",
      "164/164 [==============================] - 174s 1s/step - loss: 0.0455 - acc: 0.9877 - val_loss: 0.3116 - val_acc: 0.9087\n",
      "Epoch 21/25\n",
      "164/164 [==============================] - 173s 1s/step - loss: 0.0267 - acc: 0.9910 - val_loss: 0.3760 - val_acc: 0.8734\n",
      "Epoch 22/25\n",
      "164/164 [==============================] - 174s 1s/step - loss: 0.0299 - acc: 0.9889 - val_loss: 0.2806 - val_acc: 0.8750\n",
      "Epoch 23/25\n",
      "164/164 [==============================] - 177s 1s/step - loss: 0.0186 - acc: 0.9933 - val_loss: 0.1727 - val_acc: 0.9503\n",
      "Epoch 24/25\n",
      "164/164 [==============================] - 176s 1s/step - loss: 0.0229 - acc: 0.9922 - val_loss: 0.6880 - val_acc: 0.8045\n",
      "Epoch 25/25\n",
      "164/164 [==============================] - 177s 1s/step - loss: 0.0203 - acc: 0.9939 - val_loss: 0.3984 - val_acc: 0.8670\n"
     ],
     "name": "stdout"
    }
   ]
  },
  {
   "cell_type": "code",
   "metadata": {
    "id": "_pMN5iES79cd",
    "colab_type": "code",
    "colab": {
     "base_uri": "https://localhost:8080/",
     "height": 503
    },
    "outputId": "399f7b7b-d7c1-4fcc-dc28-7d22b95134a5"
   },
   "source": [
    "plt.figure(figsize = (20,8))\n",
    "plt.plot(f.history['loss'], label = 'Data loss')\n",
    "plt.plot(f.history['val_loss'] , label = 'Validation loss')\n",
    "plt.legend()"
   ],
   "execution_count": 249,
   "outputs": [
    {
     "output_type": "execute_result",
     "data": {
      "text/plain": [
       "<matplotlib.legend.Legend at 0x7ff244b3f630>"
      ]
     },
     "metadata": {
      "tags": []
     },
     "execution_count": 249
    },
    {
     "output_type": "display_data",
     "data": {
      "image/png": "[encoded data removed]",
      "text/plain": [
       "<Figure size 1440x576 with 1 Axes>"
      ]
     },
     "metadata": {
      "tags": []
     }
    }
   ]
  },
  {
   "cell_type": "code",
   "metadata": {
    "id": "F2RuWrHeQ1qA",
    "colab_type": "code",
    "colab": {
     "base_uri": "https://localhost:8080/",
     "height": 503
    },
    "outputId": "e50ba7e1-612f-470d-b13d-f16091ccf6df"
   },
   "source": [
    "plt.figure(figsize = (20,8))\n",
    "plt.plot(f.history['acc'], label = ' Data Accuracy')\n",
    "plt.plot(f.history['val_acc'] , label = 'Validation accuracy')\n",
    "plt.legend()"
   ],
   "execution_count": 251,
   "outputs": [
    {
     "output_type": "execute_result",
     "data": {
      "text/plain": [
       "<matplotlib.legend.Legend at 0x7ff24d1560b8>"
      ]
     },
     "metadata": {
      "tags": []
     },
     "execution_count": 251
    },
    {
     "output_type": "display_data",
     "data": {
      "image/png": "[encoded data removed]",
      "text/plain": [
       "<Figure size 1440x576 with 1 Axes>"
      ]
     },
     "metadata": {
      "tags": []
     }
    }
   ]
  },
  {
   "cell_type": "code",
   "metadata": {
    "id": "MZozoSJFiaK7",
    "colab_type": "code",
    "colab": {}
   },
   "source": [
    "from keras.preprocessing.image import image\n",
    "from keras.applications.inception_v3 import preprocess_input\n",
    "import math"
   ],
   "execution_count": 0,
   "outputs": []
  },
  {
   "cell_type": "code",
   "metadata": {
    "id": "RwfhJXgiirDv",
    "colab_type": "code",
    "colab": {
     "base_uri": "https://localhost:8080/",
     "height": 241
    },
    "outputId": "55d361cd-5a45-408e-e569-7060113e9a8a"
   },
   "source": [
    "img = image.load_img(loc+'/val/PNEUMONIA/person1950_bacteria_4881.jpeg', target_size=(224, 224))\n",
    "img"
   ],
   "execution_count": 260,
   "outputs": [
    {
     "output_type": "execute_result",
     "data": {
      "image/png": "[encoded data removed]",
      "text/plain": [
       "<PIL.Image.Image image mode=RGB size=224x224 at 0x7FF24D11A748>"
      ]
     },
     "metadata": {
      "tags": []
     },
     "execution_count": 260
    }
   ]
  },
  {
   "cell_type": "code",
   "metadata": {
    "id": "WmPryA_SjzuZ",
    "colab_type": "code",
    "colab": {}
   },
   "source": [
    "img = image.img_to_array(img)\n",
    "img = np.expand_dims(img, axis=0)"
   ],
   "execution_count": 0,
   "outputs": []
  },
  {
   "cell_type": "code",
   "metadata": {
    "id": "4v7CBMPLkxCn",
    "colab_type": "code",
    "colab": {
     "base_uri": "https://localhost:8080/",
     "height": 51
    },
    "outputId": "6b70507c-7967-47c9-ee4d-6bee5a4e9f3c"
   },
   "source": [
    "img = preprocess_input(img)\n",
    "pred = model.predict(img)\n",
    "if pred[0][0]> pred[0][1]:\n",
    "  print('Congratulation Free from Pneumonia')\n",
    "else:\n",
    "  print('Sorry , You have Pneumonia. \\nPlease consult Doctor as soon as')\n"
   ],
   "execution_count": 281,
   "outputs": [
    {
     "output_type": "stream",
     "text": [
      "Sorry , You have Pneumonia. \n",
      "Please consult Doctor as soon as\n"
     ],
     "name": "stdout"
    }
   ]
  },
  {
   "cell_type": "code",
   "metadata": {
    "id": "qaKqBNCYk7gG",
    "colab_type": "code",
    "colab": {
     "base_uri": "https://localhost:8080/",
     "height": 289
    },
    "outputId": "d4d68f79-9315-4a7a-94be-de600dcbb298"
   },
   "source": [
    "for i in os.listdir(loc+'/val'):\n",
    "  if i != '.DS_Store':\n",
    "    \n",
    "    for j in os.listdir(loc+'/val/'+i):\n",
    "      if j != '.DS_Store':\n",
    "        \n",
    "        img1 = image.load_img(loc+'/val/'+i+'/'+j, target_size=(224, 224))\n",
    "        \n",
    "        x = image.img_to_array(img1)\n",
    "        \n",
    "        x = np.expand_dims(x, axis=0)\n",
    "        \n",
    "        image_data = preprocess_input(x)\n",
    "        classes = model.predict(image_data)\n",
    "        print(i,classes[0])"
   ],
   "execution_count": 290,
   "outputs": [
    {
     "output_type": "stream",
     "text": [
      "PNEUMONIA [0.001736   0.86667186]\n",
      "PNEUMONIA [0.04754859 0.6666887 ]\n",
      "PNEUMONIA [0.03778194 0.6519393 ]\n",
      "PNEUMONIA [3.2441696e-04 9.2275167e-01]\n",
      "PNEUMONIA [0.02942887 0.6968192 ]\n",
      "PNEUMONIA [0.26043382 0.47089902]\n",
      "PNEUMONIA [2.8591702e-04 9.2470688e-01]\n",
      "PNEUMONIA [0.05474186 0.61111605]\n",
      "NORMAL [0.98859555 0.00310914]\n",
      "NORMAL [0.0107008  0.78003716]\n",
      "NORMAL [0.9022903  0.02579189]\n",
      "NORMAL [0.69669676 0.15849957]\n",
      "NORMAL [2.879556e-04 9.257846e-01]\n",
      "NORMAL [0.9556075  0.00625437]\n",
      "NORMAL [1.3843561e-04 9.4005299e-01]\n",
      "NORMAL [0.9730374  0.00333784]\n"
     ],
     "name": "stdout"
    }
   ]
  },
  {
   "cell_type": "code",
   "metadata": {
    "id": "KthLW0pmlkCr",
    "colab_type": "code",
    "colab": {}
   },
   "source": [
    "name = 'InceptionV3'\n",
    "\n",
    "model.save(loc+name)"
   ],
   "execution_count": 0,
   "outputs": []
  },
  {
   "cell_type": "code",
   "metadata": {
    "id": "9YSuZYIqn_r2",
    "colab_type": "code",
    "colab": {
     "base_uri": "https://localhost:8080/",
     "height": 85
    },
    "outputId": "d4846294-7f95-41f2-e8f4-ab70709761b1"
   },
   "source": [
    "import os \n",
    "os.listdir('/drive/My Drive/Colab Notebooks')"
   ],
   "execution_count": 297,
   "outputs": [
    {
     "output_type": "execute_result",
     "data": {
      "text/plain": [
       "['chest_xray',\n",
       " 'chest_xrayPneumonia_model.h5',\n",
       " 'Pneumonia.ipynb',\n",
       " 'chest_xrayInceptionV3']"
      ]
     },
     "metadata": {
      "tags": []
     },
     "execution_count": 297
    }
   ]
  }
 ]
}