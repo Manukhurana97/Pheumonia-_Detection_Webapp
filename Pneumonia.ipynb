{
  "nbformat": 4,
  "nbformat_minor": 0,
  "metadata": {
    "colab": {
      "name": "Pneumonia.ipynb",
      "provenance": [],
      "collapsed_sections": []
    },
    "kernelspec": {
      "name": "python3",
      "display_name": "Python 3"
    },
    "accelerator": "GPU"
  },
  "cells": [
    {
      "cell_type": "code",
      "metadata": {
        "id": "Ie4F2mo2p-an",
        "colab_type": "code",
        "colab": {}
      },
      "source": [
        "# https://www.kaggle.com/paultimothymooney/chest-xray-pneumonia"
      ],
      "execution_count": 2,
      "outputs": []
    },
    {
      "cell_type": "code",
      "metadata": {
        "id": "HXEE_1mvZ1Kd",
        "colab_type": "code",
        "colab": {
          "base_uri": "https://localhost:8080/",
          "height": 122
        },
        "outputId": "7d5a907e-2905-4e6b-cb2f-ce545c439eaf"
      },
      "source": [
        "from google.colab import drive\n",
        "drive.mount('/drive')\n"
      ],
      "execution_count": 3,
      "outputs": [
        {
          "output_type": "stream",
          "text": [
            "Go to this URL in a browser: https://accounts.google.com/o/oauth2/auth?client_id=947318989803-6bn6qk8qdgf4n4g3pfee6491hc0brc4i.apps.googleusercontent.com&redirect_uri=urn%3aietf%3awg%3aoauth%3a2.0%3aoob&response_type=code&scope=email%20https%3a%2f%2fwww.googleapis.com%2fauth%2fdocs.test%20https%3a%2f%2fwww.googleapis.com%2fauth%2fdrive%20https%3a%2f%2fwww.googleapis.com%2fauth%2fdrive.photos.readonly%20https%3a%2f%2fwww.googleapis.com%2fauth%2fpeopleapi.readonly\n",
            "\n",
            "Enter your authorization code:\n",
            "··········\n",
            "Mounted at /drive\n"
          ],
          "name": "stdout"
        }
      ]
    },
    {
      "cell_type": "code",
      "metadata": {
        "id": "uEAAti5tZ4bx",
        "colab_type": "code",
        "colab": {
          "base_uri": "https://localhost:8080/",
          "height": 34
        },
        "outputId": "e0c10a76-28b9-41c9-c373-011f60665a68"
      },
      "source": [
        "import os\n",
        "os.listdir('/drive/My Drive/Colab Notebooks/chest_xray')"
      ],
      "execution_count": 4,
      "outputs": [
        {
          "output_type": "execute_result",
          "data": {
            "text/plain": [
              "['train', 'test', 'val']"
            ]
          },
          "metadata": {
            "tags": []
          },
          "execution_count": 4
        }
      ]
    },
    {
      "cell_type": "code",
      "metadata": {
        "id": "pqjbKz12aArx",
        "colab_type": "code",
        "colab": {
          "base_uri": "https://localhost:8080/",
          "height": 34
        },
        "outputId": "f3a442c0-c8b3-43bd-fbc1-5af0edb4311a"
      },
      "source": [
        "loc = '/drive/My Drive/Colab Notebooks/chest_xray'\n",
        "loc"
      ],
      "execution_count": 5,
      "outputs": [
        {
          "output_type": "execute_result",
          "data": {
            "text/plain": [
              "'/drive/My Drive/Colab Notebooks/chest_xray'"
            ]
          },
          "metadata": {
            "tags": []
          },
          "execution_count": 5
        }
      ]
    },
    {
      "cell_type": "code",
      "metadata": {
        "id": "1DsvlfFraRG6",
        "colab_type": "code",
        "colab": {}
      },
      "source": [
        "from keras.models import Model\n",
        "from keras.layers import Flatten, Dense\n",
        "from keras.applications.vgg19 import VGG19\n",
        "from glob import glob\n",
        "import numpy as np \n",
        "import matplotlib.pyplot as plt"
      ],
      "execution_count": 7,
      "outputs": []
    },
    {
      "cell_type": "code",
      "metadata": {
        "id": "MKB_I-xCa8SL",
        "colab_type": "code",
        "colab": {}
      },
      "source": [
        "image_size = [224, 224]"
      ],
      "execution_count": 9,
      "outputs": []
    },
    {
      "cell_type": "markdown",
      "metadata": {
        "id": "BqW0pWhBqM5w",
        "colab_type": "text"
      },
      "source": [
        "#VGG19"
      ]
    },
    {
      "cell_type": "code",
      "metadata": {
        "id": "y05EZd8ubQKP",
        "colab_type": "code",
        "colab": {}
      },
      "source": [
        "train_data = loc + '/train'\n",
        "test_data = loc + '/test'"
      ],
      "execution_count": 11,
      "outputs": []
    },
    {
      "cell_type": "code",
      "metadata": {
        "id": "3-XOLjI8bX5H",
        "colab_type": "code",
        "colab": {
          "base_uri": "https://localhost:8080/",
          "height": 34
        },
        "outputId": "91d234fd-d319-461e-8df2-59c015dffaa7"
      },
      "source": [
        "vgg = VGG19(input_shape = image_size+[3], weights = 'imagenet', include_top = False)\n",
        "vgg"
      ],
      "execution_count": null,
      "outputs": [
        {
          "output_type": "execute_result",
          "data": {
            "text/plain": [
              "<keras.engine.training.Model at 0x7faadf57bbe0>"
            ]
          },
          "metadata": {
            "tags": []
          },
          "execution_count": 91
        }
      ]
    },
    {
      "cell_type": "code",
      "metadata": {
        "id": "CeRAmXZYcPEw",
        "colab_type": "code",
        "colab": {}
      },
      "source": [
        "for layers in vgg.layers:\n",
        "  layers.trainable = False"
      ],
      "execution_count": null,
      "outputs": []
    },
    {
      "cell_type": "code",
      "metadata": {
        "id": "I-tLkFyVcm9F",
        "colab_type": "code",
        "colab": {
          "base_uri": "https://localhost:8080/",
          "height": 51
        },
        "outputId": "58115c90-0a56-4c58-c659-c9b4bcd024aa"
      },
      "source": [
        "folder = glob(train_data+'/*')\n",
        "folder"
      ],
      "execution_count": null,
      "outputs": [
        {
          "output_type": "execute_result",
          "data": {
            "text/plain": [
              "['/drive/My Drive/Colab Notebooks/chest_xray/train/NORMAL',\n",
              " '/drive/My Drive/Colab Notebooks/chest_xray/train/PNEUMONIA']"
            ]
          },
          "metadata": {
            "tags": []
          },
          "execution_count": 9
        }
      ]
    },
    {
      "cell_type": "code",
      "metadata": {
        "id": "ruFu4ZvIiz25",
        "colab_type": "code",
        "colab": {
          "base_uri": "https://localhost:8080/",
          "height": 34
        },
        "outputId": "da6989fe-2986-472e-a79e-ad9841eb9d96"
      },
      "source": [
        "X = Flatten()(vgg.output)\n",
        "X"
      ],
      "execution_count": null,
      "outputs": [
        {
          "output_type": "execute_result",
          "data": {
            "text/plain": [
              "<tf.Tensor 'flatten_2/Reshape:0' shape=(None, None) dtype=float32>"
            ]
          },
          "metadata": {
            "tags": []
          },
          "execution_count": 11
        }
      ]
    },
    {
      "cell_type": "code",
      "metadata": {
        "id": "U8sm7Tw-o-ts",
        "colab_type": "code",
        "colab": {}
      },
      "source": [
        "# n-2 layer\n",
        "x = Dense(1024, activation='relu')(X)\n",
        "\n",
        "# n-1 layer\n",
        "X = Dense(256, activation = 'relu')(X)"
      ],
      "execution_count": null,
      "outputs": []
    },
    {
      "cell_type": "code",
      "metadata": {
        "id": "m4umxkukpc9u",
        "colab_type": "code",
        "colab": {
          "base_uri": "https://localhost:8080/",
          "height": 34
        },
        "outputId": "49a06bce-4797-4959-dc26-2123b2ec94da"
      },
      "source": [
        "prediction = Dense(len(folder), activation = 'softmax')(X)\n",
        "prediction"
      ],
      "execution_count": null,
      "outputs": [
        {
          "output_type": "execute_result",
          "data": {
            "text/plain": [
              "<tf.Tensor 'dense_5/Softmax:0' shape=(None, 2) dtype=float32>"
            ]
          },
          "metadata": {
            "tags": []
          },
          "execution_count": 14
        }
      ]
    },
    {
      "cell_type": "code",
      "metadata": {
        "id": "dmgV-iThpowO",
        "colab_type": "code",
        "colab": {
          "base_uri": "https://localhost:8080/",
          "height": 88
        },
        "outputId": "616e3b1c-44b3-4aa2-c11d-8d5c8c141a4d"
      },
      "source": [
        "model = Model(input = vgg.input, output = prediction)\n",
        "model"
      ],
      "execution_count": null,
      "outputs": [
        {
          "output_type": "stream",
          "text": [
            "/usr/local/lib/python3.6/dist-packages/ipykernel_launcher.py:1: UserWarning: Update your `Model` call to the Keras 2 API: `Model(inputs=Tensor(\"in..., outputs=Tensor(\"de...)`\n",
            "  \"\"\"Entry point for launching an IPython kernel.\n"
          ],
          "name": "stderr"
        },
        {
          "output_type": "execute_result",
          "data": {
            "text/plain": [
              "<keras.engine.training.Model at 0x7fada0041400>"
            ]
          },
          "metadata": {
            "tags": []
          },
          "execution_count": 15
        }
      ]
    },
    {
      "cell_type": "code",
      "metadata": {
        "id": "WsQ2KsxpqCFY",
        "colab_type": "code",
        "colab": {
          "base_uri": "https://localhost:8080/",
          "height": 1000
        },
        "outputId": "c463a832-acfa-4ef1-8d41-0090b8e556e2"
      },
      "source": [
        "model.summary()"
      ],
      "execution_count": null,
      "outputs": [
        {
          "output_type": "stream",
          "text": [
            "Model: \"model_1\"\n",
            "_________________________________________________________________\n",
            "Layer (type)                 Output Shape              Param #   \n",
            "=================================================================\n",
            "input_1 (InputLayer)         (None, 224, 224, 3)       0         \n",
            "_________________________________________________________________\n",
            "block1_conv1 (Conv2D)        (None, 224, 224, 64)      1792      \n",
            "_________________________________________________________________\n",
            "block1_conv2 (Conv2D)        (None, 224, 224, 64)      36928     \n",
            "_________________________________________________________________\n",
            "block1_pool (MaxPooling2D)   (None, 112, 112, 64)      0         \n",
            "_________________________________________________________________\n",
            "block2_conv1 (Conv2D)        (None, 112, 112, 128)     73856     \n",
            "_________________________________________________________________\n",
            "block2_conv2 (Conv2D)        (None, 112, 112, 128)     147584    \n",
            "_________________________________________________________________\n",
            "block2_pool (MaxPooling2D)   (None, 56, 56, 128)       0         \n",
            "_________________________________________________________________\n",
            "block3_conv1 (Conv2D)        (None, 56, 56, 256)       295168    \n",
            "_________________________________________________________________\n",
            "block3_conv2 (Conv2D)        (None, 56, 56, 256)       590080    \n",
            "_________________________________________________________________\n",
            "block3_conv3 (Conv2D)        (None, 56, 56, 256)       590080    \n",
            "_________________________________________________________________\n",
            "block3_conv4 (Conv2D)        (None, 56, 56, 256)       590080    \n",
            "_________________________________________________________________\n",
            "block3_pool (MaxPooling2D)   (None, 28, 28, 256)       0         \n",
            "_________________________________________________________________\n",
            "block4_conv1 (Conv2D)        (None, 28, 28, 512)       1180160   \n",
            "_________________________________________________________________\n",
            "block4_conv2 (Conv2D)        (None, 28, 28, 512)       2359808   \n",
            "_________________________________________________________________\n",
            "block4_conv3 (Conv2D)        (None, 28, 28, 512)       2359808   \n",
            "_________________________________________________________________\n",
            "block4_conv4 (Conv2D)        (None, 28, 28, 512)       2359808   \n",
            "_________________________________________________________________\n",
            "block4_pool (MaxPooling2D)   (None, 14, 14, 512)       0         \n",
            "_________________________________________________________________\n",
            "block5_conv1 (Conv2D)        (None, 14, 14, 512)       2359808   \n",
            "_________________________________________________________________\n",
            "block5_conv2 (Conv2D)        (None, 14, 14, 512)       2359808   \n",
            "_________________________________________________________________\n",
            "block5_conv3 (Conv2D)        (None, 14, 14, 512)       2359808   \n",
            "_________________________________________________________________\n",
            "block5_conv4 (Conv2D)        (None, 14, 14, 512)       2359808   \n",
            "_________________________________________________________________\n",
            "block5_pool (MaxPooling2D)   (None, 7, 7, 512)         0         \n",
            "_________________________________________________________________\n",
            "flatten_2 (Flatten)          (None, 25088)             0         \n",
            "_________________________________________________________________\n",
            "dense_2 (Dense)              (None, 256)               6422784   \n",
            "_________________________________________________________________\n",
            "dense_4 (Dense)              (None, 256)               65792     \n",
            "_________________________________________________________________\n",
            "dense_5 (Dense)              (None, 2)                 514       \n",
            "=================================================================\n",
            "Total params: 26,513,474\n",
            "Trainable params: 6,489,090\n",
            "Non-trainable params: 20,024,384\n",
            "_________________________________________________________________\n"
          ],
          "name": "stdout"
        }
      ]
    },
    {
      "cell_type": "code",
      "metadata": {
        "id": "eA-YiaSnqje7",
        "colab_type": "code",
        "colab": {}
      },
      "source": [
        "model.compile(loss = 'categorical_crossentropy',\n",
        "             optimizer = 'adam', \n",
        "              metrics = ['accuracy'])"
      ],
      "execution_count": null,
      "outputs": []
    },
    {
      "cell_type": "code",
      "metadata": {
        "id": "4m_szSpUwh4R",
        "colab_type": "code",
        "colab": {}
      },
      "source": [
        "from keras.preprocessing.image import ImageDataGenerator"
      ],
      "execution_count": null,
      "outputs": []
    },
    {
      "cell_type": "code",
      "metadata": {
        "id": "1ERfMqRexXfy",
        "colab_type": "code",
        "colab": {}
      },
      "source": [
        "train_datagen = ImageDataGenerator(rescale = 1./255,\n",
        "                                   shear_range = 0.2,\n",
        "                                   zoom_range = 0.2,\n",
        "                                   horizontal_flip=True)\n",
        "                                   \n",
        "test_datagen = ImageDataGenerator(rescale = 1./255)"
      ],
      "execution_count": null,
      "outputs": []
    },
    {
      "cell_type": "code",
      "metadata": {
        "id": "vo-MMjcaxvIA",
        "colab_type": "code",
        "colab": {
          "base_uri": "https://localhost:8080/",
          "height": 51
        },
        "outputId": "c8135641-7490-4181-d35c-ba6a86e2fc22"
      },
      "source": [
        "training_set = train_datagen.flow_from_directory(loc+'/train',\n",
        "                                                target_size=(224, 224),\n",
        "                                                batch_size=32,\n",
        "                                                class_mode='categorical')\n",
        "\n",
        "testing_set = test_datagen.flow_from_directory(loc+'/test',\n",
        "                                               target_size=(224, 224),\n",
        "                                               batch_size=32,\n",
        "                                               class_mode='categorical')"
      ],
      "execution_count": null,
      "outputs": [
        {
          "output_type": "stream",
          "text": [
            "Found 5239 images belonging to 2 classes.\n",
            "Found 624 images belonging to 2 classes.\n"
          ],
          "name": "stdout"
        }
      ]
    },
    {
      "cell_type": "code",
      "metadata": {
        "id": "jVEFTD9-ynwe",
        "colab_type": "code",
        "colab": {
          "base_uri": "https://localhost:8080/",
          "height": 1000
        },
        "outputId": "00ba2870-beed-43c7-fd69-12f1a505281e"
      },
      "source": [
        "f = model.fit_generator(training_set,\n",
        "              validation_data = testing_set,\n",
        "              epochs=40,\n",
        "              steps_per_epoch = len(training_set),\n",
        "              validation_steps = len(testing_set)\n",
        "             )"
      ],
      "execution_count": null,
      "outputs": [
        {
          "output_type": "stream",
          "text": [
            "Epoch 1/40\n",
            "164/164 [==============================] - 1784s 11s/step - loss: 0.2220 - accuracy: 0.9076 - val_loss: 0.2559 - val_accuracy: 0.8846\n",
            "Epoch 2/40\n",
            "164/164 [==============================] - 103s 626ms/step - loss: 0.1645 - accuracy: 0.9391 - val_loss: 0.0832 - val_accuracy: 0.9215\n",
            "Epoch 3/40\n",
            "164/164 [==============================] - 108s 658ms/step - loss: 0.1145 - accuracy: 0.9553 - val_loss: 0.3516 - val_accuracy: 0.9167\n",
            "Epoch 4/40\n",
            "164/164 [==============================] - 108s 661ms/step - loss: 0.1048 - accuracy: 0.9609 - val_loss: 0.0597 - val_accuracy: 0.9087\n",
            "Epoch 5/40\n",
            "164/164 [==============================] - 109s 665ms/step - loss: 0.1042 - accuracy: 0.9618 - val_loss: 0.2540 - val_accuracy: 0.9103\n",
            "Epoch 6/40\n",
            "164/164 [==============================] - 109s 664ms/step - loss: 0.0956 - accuracy: 0.9597 - val_loss: 0.5523 - val_accuracy: 0.8910\n",
            "Epoch 7/40\n",
            "164/164 [==============================] - 109s 665ms/step - loss: 0.1005 - accuracy: 0.9643 - val_loss: 0.0653 - val_accuracy: 0.9006\n",
            "Epoch 8/40\n",
            "164/164 [==============================] - 109s 663ms/step - loss: 0.0860 - accuracy: 0.9685 - val_loss: 0.1202 - val_accuracy: 0.9071\n",
            "Epoch 9/40\n",
            "164/164 [==============================] - 109s 664ms/step - loss: 0.0850 - accuracy: 0.9668 - val_loss: 0.2679 - val_accuracy: 0.9199\n",
            "Epoch 10/40\n",
            "164/164 [==============================] - 109s 666ms/step - loss: 0.0813 - accuracy: 0.9676 - val_loss: 0.5007 - val_accuracy: 0.9006\n",
            "Epoch 11/40\n",
            "164/164 [==============================] - 109s 667ms/step - loss: 0.0814 - accuracy: 0.9685 - val_loss: 0.2418 - val_accuracy: 0.8494\n",
            "Epoch 12/40\n",
            "164/164 [==============================] - 110s 672ms/step - loss: 0.0783 - accuracy: 0.9716 - val_loss: 0.3141 - val_accuracy: 0.8942\n",
            "Epoch 13/40\n",
            "164/164 [==============================] - 110s 670ms/step - loss: 0.0817 - accuracy: 0.9683 - val_loss: 1.5700 - val_accuracy: 0.7917\n",
            "Epoch 14/40\n",
            "164/164 [==============================] - 110s 669ms/step - loss: 0.0837 - accuracy: 0.9666 - val_loss: 0.5917 - val_accuracy: 0.9183\n",
            "Epoch 15/40\n",
            "164/164 [==============================] - 110s 670ms/step - loss: 0.0671 - accuracy: 0.9754 - val_loss: 0.4137 - val_accuracy: 0.8958\n",
            "Epoch 16/40\n",
            "164/164 [==============================] - 109s 666ms/step - loss: 0.0706 - accuracy: 0.9735 - val_loss: 0.4540 - val_accuracy: 0.9215\n",
            "Epoch 17/40\n",
            "164/164 [==============================] - 110s 670ms/step - loss: 0.0631 - accuracy: 0.9748 - val_loss: 0.6364 - val_accuracy: 0.9054\n",
            "Epoch 18/40\n",
            "164/164 [==============================] - 110s 673ms/step - loss: 0.0660 - accuracy: 0.9754 - val_loss: 0.0812 - val_accuracy: 0.9167\n",
            "Epoch 19/40\n",
            "164/164 [==============================] - 111s 677ms/step - loss: 0.0792 - accuracy: 0.9714 - val_loss: 0.2493 - val_accuracy: 0.9103\n",
            "Epoch 20/40\n",
            "164/164 [==============================] - 111s 678ms/step - loss: 0.0694 - accuracy: 0.9729 - val_loss: 0.1393 - val_accuracy: 0.9183\n",
            "Epoch 21/40\n",
            "164/164 [==============================] - 111s 677ms/step - loss: 0.0682 - accuracy: 0.9725 - val_loss: 0.7278 - val_accuracy: 0.9135\n",
            "Epoch 22/40\n",
            "164/164 [==============================] - 112s 680ms/step - loss: 0.0684 - accuracy: 0.9744 - val_loss: 0.4820 - val_accuracy: 0.9279\n",
            "Epoch 23/40\n",
            "164/164 [==============================] - 111s 677ms/step - loss: 0.0634 - accuracy: 0.9769 - val_loss: 0.0724 - val_accuracy: 0.8814\n",
            "Epoch 24/40\n",
            "164/164 [==============================] - 109s 667ms/step - loss: 0.0628 - accuracy: 0.9756 - val_loss: 0.1045 - val_accuracy: 0.9167\n",
            "Epoch 25/40\n",
            "164/164 [==============================] - 109s 664ms/step - loss: 0.0590 - accuracy: 0.9771 - val_loss: 0.5558 - val_accuracy: 0.9087\n",
            "Epoch 26/40\n",
            "164/164 [==============================] - 109s 666ms/step - loss: 0.0626 - accuracy: 0.9777 - val_loss: 0.0849 - val_accuracy: 0.9183\n",
            "Epoch 27/40\n",
            "164/164 [==============================] - 110s 671ms/step - loss: 0.0552 - accuracy: 0.9800 - val_loss: 0.0800 - val_accuracy: 0.9215\n",
            "Epoch 28/40\n",
            "164/164 [==============================] - 109s 666ms/step - loss: 0.0499 - accuracy: 0.9824 - val_loss: 0.1733 - val_accuracy: 0.9183\n",
            "Epoch 29/40\n",
            "164/164 [==============================] - 110s 671ms/step - loss: 0.0552 - accuracy: 0.9798 - val_loss: 0.9492 - val_accuracy: 0.8397\n",
            "Epoch 30/40\n",
            "164/164 [==============================] - 109s 663ms/step - loss: 0.0695 - accuracy: 0.9735 - val_loss: 0.3267 - val_accuracy: 0.9135\n",
            "Epoch 31/40\n",
            "164/164 [==============================] - 109s 666ms/step - loss: 0.0498 - accuracy: 0.9819 - val_loss: 0.4283 - val_accuracy: 0.9183\n",
            "Epoch 32/40\n",
            "164/164 [==============================] - 110s 668ms/step - loss: 0.0462 - accuracy: 0.9838 - val_loss: 0.1283 - val_accuracy: 0.9167\n",
            "Epoch 33/40\n",
            "164/164 [==============================] - 108s 661ms/step - loss: 0.0499 - accuracy: 0.9824 - val_loss: 0.3071 - val_accuracy: 0.9263\n",
            "Epoch 34/40\n",
            "164/164 [==============================] - 109s 664ms/step - loss: 0.0446 - accuracy: 0.9836 - val_loss: 0.7054 - val_accuracy: 0.8894\n",
            "Epoch 35/40\n",
            "164/164 [==============================] - 109s 666ms/step - loss: 0.0419 - accuracy: 0.9840 - val_loss: 0.5988 - val_accuracy: 0.9071\n",
            "Epoch 36/40\n",
            "164/164 [==============================] - 109s 662ms/step - loss: 0.0452 - accuracy: 0.9832 - val_loss: 0.1290 - val_accuracy: 0.9054\n",
            "Epoch 37/40\n",
            "164/164 [==============================] - 109s 667ms/step - loss: 0.0463 - accuracy: 0.9800 - val_loss: 0.4528 - val_accuracy: 0.9199\n",
            "Epoch 38/40\n",
            "164/164 [==============================] - 109s 664ms/step - loss: 0.0561 - accuracy: 0.9792 - val_loss: 0.0162 - val_accuracy: 0.9167\n",
            "Epoch 39/40\n",
            "164/164 [==============================] - 109s 664ms/step - loss: 0.0520 - accuracy: 0.9800 - val_loss: 0.1626 - val_accuracy: 0.9199\n",
            "Epoch 40/40\n",
            "164/164 [==============================] - 108s 659ms/step - loss: 0.0564 - accuracy: 0.9779 - val_loss: 0.1656 - val_accuracy: 0.9151\n"
          ],
          "name": "stdout"
        }
      ]
    },
    {
      "cell_type": "code",
      "metadata": {
        "id": "UHxlWADo0FPc",
        "colab_type": "code",
        "colab": {
          "base_uri": "https://localhost:8080/",
          "height": 609
        },
        "outputId": "cc25225c-a984-4667-9d27-276c88147410"
      },
      "source": [
        "plt.figure(figsize=(20, 10))\n",
        "plt.plot(f.history['loss'], label='training loss')\n",
        "plt.plot(f.history['val_loss'], label='val loss')\n",
        "plt.legend()\n"
      ],
      "execution_count": null,
      "outputs": [
        {
          "output_type": "execute_result",
          "data": {
            "text/plain": [
              "<matplotlib.legend.Legend at 0x7fad37dca240>"
            ]
          },
          "metadata": {
            "tags": []
          },
          "execution_count": 23
        },
        {
          "output_type": "display_data",
          "data": {
            "image/png": "[encoded data removed]",
            "text/plain": [
              "<Figure size 1440x720 with 1 Axes>"
            ]
          },
          "metadata": {
            "tags": [],
            "needs_background": "light"
          }
        }
      ]
    },
    {
      "cell_type": "code",
      "metadata": {
        "id": "eEBUKzThDFA0",
        "colab_type": "code",
        "colab": {
          "base_uri": "https://localhost:8080/",
          "height": 609
        },
        "outputId": "9ca0bfdb-dbcf-4abc-cf03-a54a1fdd4cd9"
      },
      "source": [
        "plt.figure(figsize=(20, 10))\n",
        "plt.plot(f.history['accuracy'], label='training accuracy')\n",
        "plt.plot(f.history['val_loss'], label = 'validation accuracy')\n",
        "plt.legend()"
      ],
      "execution_count": null,
      "outputs": [
        {
          "output_type": "execute_result",
          "data": {
            "text/plain": [
              "<matplotlib.legend.Legend at 0x7fad378cc7b8>"
            ]
          },
          "metadata": {
            "tags": []
          },
          "execution_count": 26
        },
        {
          "output_type": "display_data",
          "data": {
            "image/png": "[encoded data removed]",
            "text/plain": [
              "<Figure size 1440x720 with 1 Axes>"
            ]
          },
          "metadata": {
            "tags": [],
            "needs_background": "light"
          }
        }
      ]
    },
    {
      "cell_type": "code",
      "metadata": {
        "id": "TgcS7BgLNNFB",
        "colab_type": "code",
        "colab": {}
      },
      "source": [
        "import torch\n",
        "name  = 'Pneumonia_model.h5'\n",
        "\n",
        "path = loc+name\n"
      ],
      "execution_count": null,
      "outputs": []
    },
    {
      "cell_type": "code",
      "metadata": {
        "id": "sl3XO2jfPxKT",
        "colab_type": "code",
        "colab": {}
      },
      "source": [
        "model.save(path)"
      ],
      "execution_count": null,
      "outputs": []
    },
    {
      "cell_type": "code",
      "metadata": {
        "id": "jtEZr1KBP0On",
        "colab_type": "code",
        "colab": {}
      },
      "source": [
        "from keras.models import load_model\n",
        "from keras.preprocessing import image\n",
        "from keras.applications.vgg16 import preprocess_input\n",
        "import numpy as np"
      ],
      "execution_count": null,
      "outputs": []
    },
    {
      "cell_type": "code",
      "metadata": {
        "id": "byRJ1IrBP2aF",
        "colab_type": "code",
        "colab": {
          "base_uri": "https://localhost:8080/",
          "height": 34
        },
        "outputId": "f1404938-ba98-4b80-8ee6-50862f90f1df"
      },
      "source": [
        "os.listdir(loc)"
      ],
      "execution_count": null,
      "outputs": [
        {
          "output_type": "execute_result",
          "data": {
            "text/plain": [
              "['train', 'test', 'val']"
            ]
          },
          "metadata": {
            "tags": []
          },
          "execution_count": 31
        }
      ]
    },
    {
      "cell_type": "code",
      "metadata": {
        "id": "CspdXju9QQsB",
        "colab_type": "code",
        "colab": {
          "base_uri": "https://localhost:8080/",
          "height": 241
        },
        "outputId": "98ddadfb-fbe4-4c23-dcf6-16456c87d589"
      },
      "source": [
        "img = image.load_img(loc+'/val/PNEUMONIA/person1954_bacteria_4886.jpeg', target_size = (224, 224))\n",
        "img"
      ],
      "execution_count": null,
      "outputs": [
        {
          "output_type": "execute_result",
          "data": {
            "image/png": "[encoded data removed]",
            "text/plain": [
              "<PIL.Image.Image image mode=RGB size=224x224 at 0x7FAD1C95AB00>"
            ]
          },
          "metadata": {
            "tags": []
          },
          "execution_count": 32
        }
      ]
    },
    {
      "cell_type": "code",
      "metadata": {
        "id": "SbeeLg4fRC1l",
        "colab_type": "code",
        "colab": {}
      },
      "source": [
        "#  converting to array\n",
        "\n",
        "x = image.img_to_array(img)\n",
        "\n",
        "x = np.expand_dims(x, axis=0)"
      ],
      "execution_count": null,
      "outputs": []
    },
    {
      "cell_type": "code",
      "metadata": {
        "id": "JGhv2aFyRVQE",
        "colab_type": "code",
        "colab": {
          "base_uri": "https://localhost:8080/",
          "height": 51
        },
        "outputId": "4e5c23ed-bbaa-4ed2-fa3c-b858a88ccc8e"
      },
      "source": [
        "image_data = preprocess_input(x)\n",
        "classes = model.predict(image_data)\n",
        "\n",
        "if classes[0][1] ==0.0:\n",
        "  print('Congratulation Free from Pneumonia')\n",
        "else:\n",
        "  print('Sorry , You have Pneumonia. \\nPlease consult Doctor as soon as')\n"
      ],
      "execution_count": null,
      "outputs": [
        {
          "output_type": "stream",
          "text": [
            "Sorry , You have Pneumonia. \n",
            "Please consult Doctor as soon as\n"
          ],
          "name": "stdout"
        }
      ]
    },
    {
      "cell_type": "code",
      "metadata": {
        "id": "x8qUT20gRunX",
        "colab_type": "code",
        "colab": {
          "base_uri": "https://localhost:8080/",
          "height": 289
        },
        "outputId": "ded78ea7-fccf-4d08-f224-1440d36677c3"
      },
      "source": [
        "import os\n",
        "\n",
        "for i in os.listdir(loc+'/val'):\n",
        "  if i != '.DS_Store':\n",
        "    \n",
        "    for j in os.listdir(loc+'/val/'+i):\n",
        "      if j != '.DS_Store':\n",
        "        \n",
        "        img1 = image.load_img(loc+'/val/'+i+'/'+j, target_size=(224, 224))\n",
        "        \n",
        "        x = image.img_to_array(img1)\n",
        "        \n",
        "        x = np.expand_dims(x, axis=0)\n",
        "        \n",
        "        image_data = preprocess_input(x)\n",
        "        classes = model.predict(image_data)\n",
        "        print(i,classes[0])\n",
        "        \n",
        "#  0: No pneumonia\n",
        "#  1: Pneumonia "
      ],
      "execution_count": null,
      "outputs": [
        {
          "output_type": "stream",
          "text": [
            "PNEUMONIA 1.0\n",
            "PNEUMONIA 1.0\n",
            "PNEUMONIA 1.0\n",
            "PNEUMONIA 1.0\n",
            "PNEUMONIA 1.0\n",
            "PNEUMONIA 1.0\n",
            "PNEUMONIA 1.0\n",
            "PNEUMONIA 1.0\n",
            "NORMAL 0.0\n",
            "NORMAL 0.0019224132\n",
            "NORMAL 1.0\n",
            "NORMAL 1.0\n",
            "NORMAL 0.0\n",
            "NORMAL 0.0\n",
            "NORMAL 0.0\n",
            "NORMAL 0.99683374\n"
          ],
          "name": "stdout"
        }
      ]
    },
    {
      "cell_type": "markdown",
      "metadata": {
        "id": "Xa209BEtTRXf",
        "colab_type": "text"
      },
      "source": [
        "# InceptionV3\n"
      ]
    },
    {
      "cell_type": "code",
      "metadata": {
        "id": "Rm9mtm6lkFw1",
        "colab_type": "code",
        "colab": {}
      },
      "source": [
        "from keras.models import Sequential, Model\n",
        "from keras.layers import Dense, Activation\n",
        "from keras.layers import Dropout, Flatten,GlobalAveragePooling2D\n",
        "from keras.layers import Conv2D,BatchNormalization, MaxPooling2D\n",
        "from keras.applications.inception_v3 import InceptionV3"
      ],
      "execution_count": 20,
      "outputs": []
    },
    {
      "cell_type": "code",
      "metadata": {
        "id": "zGujMwusqwHa",
        "colab_type": "code",
        "colab": {
          "base_uri": "https://localhost:8080/",
          "height": 51
        },
        "outputId": "a9241875-766a-4cf2-ab2f-decb9794f5ea"
      },
      "source": [
        "inc_model = InceptionV3(input_shape = (224, 224, 3), weights = 'imagenet', include_top=False)"
      ],
      "execution_count": 21,
      "outputs": [
        {
          "output_type": "stream",
          "text": [
            "Downloading data from https://github.com/fchollet/deep-learning-models/releases/download/v0.5/inception_v3_weights_tf_dim_ordering_tf_kernels_notop.h5\n",
            "87916544/87910968 [==============================] - 1s 0us/step\n"
          ],
          "name": "stdout"
        }
      ]
    },
    {
      "cell_type": "code",
      "metadata": {
        "id": "l8xDw6YXr3Ou",
        "colab_type": "code",
        "colab": {
          "base_uri": "https://localhost:8080/",
          "height": 34
        },
        "outputId": "2c444f49-a5a0-43a6-c4d0-c3d1542171bb"
      },
      "source": [
        "x = inc_model.output\n",
        "x"
      ],
      "execution_count": 22,
      "outputs": [
        {
          "output_type": "execute_result",
          "data": {
            "text/plain": [
              "<tf.Tensor 'mixed10/concat:0' shape=(None, 5, 5, 2048) dtype=float32>"
            ]
          },
          "metadata": {
            "tags": []
          },
          "execution_count": 22
        }
      ]
    },
    {
      "cell_type": "code",
      "metadata": {
        "id": "0p8Fsc1vtIHi",
        "colab_type": "code",
        "colab": {
          "base_uri": "https://localhost:8080/",
          "height": 34
        },
        "outputId": "0906baf3-615b-4f71-b007-6b74761e066b"
      },
      "source": [
        "x = Dropout(.3)(x)\n",
        "x"
      ],
      "execution_count": 23,
      "outputs": [
        {
          "output_type": "execute_result",
          "data": {
            "text/plain": [
              "<tf.Tensor 'dropout_1/cond/Identity:0' shape=(None, 5, 5, 2048) dtype=float32>"
            ]
          },
          "metadata": {
            "tags": []
          },
          "execution_count": 23
        }
      ]
    },
    {
      "cell_type": "code",
      "metadata": {
        "id": "sACAUHI6uT0_",
        "colab_type": "code",
        "colab": {
          "base_uri": "https://localhost:8080/",
          "height": 34
        },
        "outputId": "a5ad5d5a-4237-4000-eade-214481543358"
      },
      "source": [
        "x = GlobalAveragePooling2D()(x)\n",
        "x"
      ],
      "execution_count": 24,
      "outputs": [
        {
          "output_type": "execute_result",
          "data": {
            "text/plain": [
              "<tf.Tensor 'global_average_pooling2d_2/Mean:0' shape=(None, 2048) dtype=float32>"
            ]
          },
          "metadata": {
            "tags": []
          },
          "execution_count": 24
        }
      ]
    },
    {
      "cell_type": "code",
      "metadata": {
        "id": "SIJTt__duXAW",
        "colab_type": "code",
        "colab": {
          "base_uri": "https://localhost:8080/",
          "height": 34
        },
        "outputId": "db002ea2-56b1-426c-f25b-b59f5315dde4"
      },
      "source": [
        "# densely-connected NN layer.\n",
        "x = Dense(128, activation = 'relu')(x)\n",
        "x"
      ],
      "execution_count": 25,
      "outputs": [
        {
          "output_type": "execute_result",
          "data": {
            "text/plain": [
              "<tf.Tensor 'dense_3/Relu:0' shape=(None, 128) dtype=float32>"
            ]
          },
          "metadata": {
            "tags": []
          },
          "execution_count": 25
        }
      ]
    },
    {
      "cell_type": "code",
      "metadata": {
        "id": "emRSM4YRuY7G",
        "colab_type": "code",
        "colab": {
          "base_uri": "https://localhost:8080/",
          "height": 34
        },
        "outputId": "19c11e26-e91e-4d0c-8ff7-23ab05054cfe"
      },
      "source": [
        "# Normalize the activations of the previous layer al every batch\n",
        "x  = BatchNormalization()(x)\n",
        "x"
      ],
      "execution_count": 26,
      "outputs": [
        {
          "output_type": "execute_result",
          "data": {
            "text/plain": [
              "<tf.Tensor 'batch_normalization_147/cond/Identity:0' shape=(None, 128) dtype=float32>"
            ]
          },
          "metadata": {
            "tags": []
          },
          "execution_count": 26
        }
      ]
    },
    {
      "cell_type": "code",
      "metadata": {
        "id": "zbKI63xCub_P",
        "colab_type": "code",
        "colab": {
          "base_uri": "https://localhost:8080/",
          "height": 34
        },
        "outputId": "1fc9ad03-fdee-42e1-82bb-eace51d1c2ae"
      },
      "source": [
        "#  Last Layer\n",
        "prediction = Dense(2, activation='sigmoid')(x)\n",
        "prediction"
      ],
      "execution_count": 28,
      "outputs": [
        {
          "output_type": "execute_result",
          "data": {
            "text/plain": [
              "<tf.Tensor 'dense_5/Sigmoid:0' shape=(None, 2) dtype=float32>"
            ]
          },
          "metadata": {
            "tags": []
          },
          "execution_count": 28
        }
      ]
    },
    {
      "cell_type": "code",
      "metadata": {
        "id": "tFMgPx23ufGm",
        "colab_type": "code",
        "colab": {
          "base_uri": "https://localhost:8080/",
          "height": 71
        },
        "outputId": "a21fe6c6-f4e7-488a-980a-9bb0ed17a246"
      },
      "source": [
        "model = Model(input = inc_model.input, output = prediction)"
      ],
      "execution_count": 29,
      "outputs": [
        {
          "output_type": "stream",
          "text": [
            "/usr/local/lib/python3.6/dist-packages/ipykernel_launcher.py:1: UserWarning: Update your `Model` call to the Keras 2 API: `Model(inputs=Tensor(\"in..., outputs=Tensor(\"de...)`\n",
            "  \"\"\"Entry point for launching an IPython kernel.\n"
          ],
          "name": "stderr"
        }
      ]
    },
    {
      "cell_type": "code",
      "metadata": {
        "id": "7mrlyFIv54dt",
        "colab_type": "code",
        "colab": {}
      },
      "source": [
        "model.compile(loss = 'categorical_crossentropy', \n",
        "             optimizer = 'adam',\n",
        "             metrics = ['accuracy'])"
      ],
      "execution_count": 30,
      "outputs": []
    },
    {
      "cell_type": "code",
      "metadata": {
        "id": "YppOXPdcvVii",
        "colab_type": "code",
        "colab": {
          "base_uri": "https://localhost:8080/",
          "height": 1000
        },
        "outputId": "3ef5433c-397e-4af9-a41c-8068d3211b78"
      },
      "source": [
        "model.summary()"
      ],
      "execution_count": 31,
      "outputs": [
        {
          "output_type": "stream",
          "text": [
            "Model: \"model_2\"\n",
            "__________________________________________________________________________________________________\n",
            "Layer (type)                    Output Shape         Param #     Connected to                     \n",
            "==================================================================================================\n",
            "input_1 (InputLayer)            (None, 224, 224, 3)  0                                            \n",
            "__________________________________________________________________________________________________\n",
            "conv2d_35 (Conv2D)              (None, 111, 111, 32) 864         input_1[0][0]                    \n",
            "__________________________________________________________________________________________________\n",
            "batch_normalization_53 (BatchNo (None, 111, 111, 32) 96          conv2d_35[0][0]                  \n",
            "__________________________________________________________________________________________________\n",
            "activation_1 (Activation)       (None, 111, 111, 32) 0           batch_normalization_53[0][0]     \n",
            "__________________________________________________________________________________________________\n",
            "conv2d_36 (Conv2D)              (None, 109, 109, 32) 9216        activation_1[0][0]               \n",
            "__________________________________________________________________________________________________\n",
            "batch_normalization_54 (BatchNo (None, 109, 109, 32) 96          conv2d_36[0][0]                  \n",
            "__________________________________________________________________________________________________\n",
            "activation_2 (Activation)       (None, 109, 109, 32) 0           batch_normalization_54[0][0]     \n",
            "__________________________________________________________________________________________________\n",
            "conv2d_37 (Conv2D)              (None, 109, 109, 64) 18432       activation_2[0][0]               \n",
            "__________________________________________________________________________________________________\n",
            "batch_normalization_55 (BatchNo (None, 109, 109, 64) 192         conv2d_37[0][0]                  \n",
            "__________________________________________________________________________________________________\n",
            "activation_3 (Activation)       (None, 109, 109, 64) 0           batch_normalization_55[0][0]     \n",
            "__________________________________________________________________________________________________\n",
            "max_pooling2d_1 (MaxPooling2D)  (None, 54, 54, 64)   0           activation_3[0][0]               \n",
            "__________________________________________________________________________________________________\n",
            "conv2d_38 (Conv2D)              (None, 54, 54, 80)   5120        max_pooling2d_1[0][0]            \n",
            "__________________________________________________________________________________________________\n",
            "batch_normalization_56 (BatchNo (None, 54, 54, 80)   240         conv2d_38[0][0]                  \n",
            "__________________________________________________________________________________________________\n",
            "activation_4 (Activation)       (None, 54, 54, 80)   0           batch_normalization_56[0][0]     \n",
            "__________________________________________________________________________________________________\n",
            "conv2d_39 (Conv2D)              (None, 52, 52, 192)  138240      activation_4[0][0]               \n",
            "__________________________________________________________________________________________________\n",
            "batch_normalization_57 (BatchNo (None, 52, 52, 192)  576         conv2d_39[0][0]                  \n",
            "__________________________________________________________________________________________________\n",
            "activation_5 (Activation)       (None, 52, 52, 192)  0           batch_normalization_57[0][0]     \n",
            "__________________________________________________________________________________________________\n",
            "max_pooling2d_2 (MaxPooling2D)  (None, 25, 25, 192)  0           activation_5[0][0]               \n",
            "__________________________________________________________________________________________________\n",
            "conv2d_43 (Conv2D)              (None, 25, 25, 64)   12288       max_pooling2d_2[0][0]            \n",
            "__________________________________________________________________________________________________\n",
            "batch_normalization_61 (BatchNo (None, 25, 25, 64)   192         conv2d_43[0][0]                  \n",
            "__________________________________________________________________________________________________\n",
            "activation_9 (Activation)       (None, 25, 25, 64)   0           batch_normalization_61[0][0]     \n",
            "__________________________________________________________________________________________________\n",
            "conv2d_41 (Conv2D)              (None, 25, 25, 48)   9216        max_pooling2d_2[0][0]            \n",
            "__________________________________________________________________________________________________\n",
            "conv2d_44 (Conv2D)              (None, 25, 25, 96)   55296       activation_9[0][0]               \n",
            "__________________________________________________________________________________________________\n",
            "batch_normalization_59 (BatchNo (None, 25, 25, 48)   144         conv2d_41[0][0]                  \n",
            "__________________________________________________________________________________________________\n",
            "batch_normalization_62 (BatchNo (None, 25, 25, 96)   288         conv2d_44[0][0]                  \n",
            "__________________________________________________________________________________________________\n",
            "activation_7 (Activation)       (None, 25, 25, 48)   0           batch_normalization_59[0][0]     \n",
            "__________________________________________________________________________________________________\n",
            "activation_10 (Activation)      (None, 25, 25, 96)   0           batch_normalization_62[0][0]     \n",
            "__________________________________________________________________________________________________\n",
            "average_pooling2d_1 (AveragePoo (None, 25, 25, 192)  0           max_pooling2d_2[0][0]            \n",
            "__________________________________________________________________________________________________\n",
            "conv2d_40 (Conv2D)              (None, 25, 25, 64)   12288       max_pooling2d_2[0][0]            \n",
            "__________________________________________________________________________________________________\n",
            "conv2d_42 (Conv2D)              (None, 25, 25, 64)   76800       activation_7[0][0]               \n",
            "__________________________________________________________________________________________________\n",
            "conv2d_45 (Conv2D)              (None, 25, 25, 96)   82944       activation_10[0][0]              \n",
            "__________________________________________________________________________________________________\n",
            "conv2d_46 (Conv2D)              (None, 25, 25, 32)   6144        average_pooling2d_1[0][0]        \n",
            "__________________________________________________________________________________________________\n",
            "batch_normalization_58 (BatchNo (None, 25, 25, 64)   192         conv2d_40[0][0]                  \n",
            "__________________________________________________________________________________________________\n",
            "batch_normalization_60 (BatchNo (None, 25, 25, 64)   192         conv2d_42[0][0]                  \n",
            "__________________________________________________________________________________________________\n",
            "batch_normalization_63 (BatchNo (None, 25, 25, 96)   288         conv2d_45[0][0]                  \n",
            "__________________________________________________________________________________________________\n",
            "batch_normalization_64 (BatchNo (None, 25, 25, 32)   96          conv2d_46[0][0]                  \n",
            "__________________________________________________________________________________________________\n",
            "activation_6 (Activation)       (None, 25, 25, 64)   0           batch_normalization_58[0][0]     \n",
            "__________________________________________________________________________________________________\n",
            "activation_8 (Activation)       (None, 25, 25, 64)   0           batch_normalization_60[0][0]     \n",
            "__________________________________________________________________________________________________\n",
            "activation_11 (Activation)      (None, 25, 25, 96)   0           batch_normalization_63[0][0]     \n",
            "__________________________________________________________________________________________________\n",
            "activation_12 (Activation)      (None, 25, 25, 32)   0           batch_normalization_64[0][0]     \n",
            "__________________________________________________________________________________________________\n",
            "mixed0 (Concatenate)            (None, 25, 25, 256)  0           activation_6[0][0]               \n",
            "                                                                 activation_8[0][0]               \n",
            "                                                                 activation_11[0][0]              \n",
            "                                                                 activation_12[0][0]              \n",
            "__________________________________________________________________________________________________\n",
            "conv2d_50 (Conv2D)              (None, 25, 25, 64)   16384       mixed0[0][0]                     \n",
            "__________________________________________________________________________________________________\n",
            "batch_normalization_68 (BatchNo (None, 25, 25, 64)   192         conv2d_50[0][0]                  \n",
            "__________________________________________________________________________________________________\n",
            "activation_16 (Activation)      (None, 25, 25, 64)   0           batch_normalization_68[0][0]     \n",
            "__________________________________________________________________________________________________\n",
            "conv2d_48 (Conv2D)              (None, 25, 25, 48)   12288       mixed0[0][0]                     \n",
            "__________________________________________________________________________________________________\n",
            "conv2d_51 (Conv2D)              (None, 25, 25, 96)   55296       activation_16[0][0]              \n",
            "__________________________________________________________________________________________________\n",
            "batch_normalization_66 (BatchNo (None, 25, 25, 48)   144         conv2d_48[0][0]                  \n",
            "__________________________________________________________________________________________________\n",
            "batch_normalization_69 (BatchNo (None, 25, 25, 96)   288         conv2d_51[0][0]                  \n",
            "__________________________________________________________________________________________________\n",
            "activation_14 (Activation)      (None, 25, 25, 48)   0           batch_normalization_66[0][0]     \n",
            "__________________________________________________________________________________________________\n",
            "activation_17 (Activation)      (None, 25, 25, 96)   0           batch_normalization_69[0][0]     \n",
            "__________________________________________________________________________________________________\n",
            "average_pooling2d_2 (AveragePoo (None, 25, 25, 256)  0           mixed0[0][0]                     \n",
            "__________________________________________________________________________________________________\n",
            "conv2d_47 (Conv2D)              (None, 25, 25, 64)   16384       mixed0[0][0]                     \n",
            "__________________________________________________________________________________________________\n",
            "conv2d_49 (Conv2D)              (None, 25, 25, 64)   76800       activation_14[0][0]              \n",
            "__________________________________________________________________________________________________\n",
            "conv2d_52 (Conv2D)              (None, 25, 25, 96)   82944       activation_17[0][0]              \n",
            "__________________________________________________________________________________________________\n",
            "conv2d_53 (Conv2D)              (None, 25, 25, 64)   16384       average_pooling2d_2[0][0]        \n",
            "__________________________________________________________________________________________________\n",
            "batch_normalization_65 (BatchNo (None, 25, 25, 64)   192         conv2d_47[0][0]                  \n",
            "__________________________________________________________________________________________________\n",
            "batch_normalization_67 (BatchNo (None, 25, 25, 64)   192         conv2d_49[0][0]                  \n",
            "__________________________________________________________________________________________________\n",
            "batch_normalization_70 (BatchNo (None, 25, 25, 96)   288         conv2d_52[0][0]                  \n",
            "__________________________________________________________________________________________________\n",
            "batch_normalization_71 (BatchNo (None, 25, 25, 64)   192         conv2d_53[0][0]                  \n",
            "__________________________________________________________________________________________________\n",
            "activation_13 (Activation)      (None, 25, 25, 64)   0           batch_normalization_65[0][0]     \n",
            "__________________________________________________________________________________________________\n",
            "activation_15 (Activation)      (None, 25, 25, 64)   0           batch_normalization_67[0][0]     \n",
            "__________________________________________________________________________________________________\n",
            "activation_18 (Activation)      (None, 25, 25, 96)   0           batch_normalization_70[0][0]     \n",
            "__________________________________________________________________________________________________\n",
            "activation_19 (Activation)      (None, 25, 25, 64)   0           batch_normalization_71[0][0]     \n",
            "__________________________________________________________________________________________________\n",
            "mixed1 (Concatenate)            (None, 25, 25, 288)  0           activation_13[0][0]              \n",
            "                                                                 activation_15[0][0]              \n",
            "                                                                 activation_18[0][0]              \n",
            "                                                                 activation_19[0][0]              \n",
            "__________________________________________________________________________________________________\n",
            "conv2d_57 (Conv2D)              (None, 25, 25, 64)   18432       mixed1[0][0]                     \n",
            "__________________________________________________________________________________________________\n",
            "batch_normalization_75 (BatchNo (None, 25, 25, 64)   192         conv2d_57[0][0]                  \n",
            "__________________________________________________________________________________________________\n",
            "activation_23 (Activation)      (None, 25, 25, 64)   0           batch_normalization_75[0][0]     \n",
            "__________________________________________________________________________________________________\n",
            "conv2d_55 (Conv2D)              (None, 25, 25, 48)   13824       mixed1[0][0]                     \n",
            "__________________________________________________________________________________________________\n",
            "conv2d_58 (Conv2D)              (None, 25, 25, 96)   55296       activation_23[0][0]              \n",
            "__________________________________________________________________________________________________\n",
            "batch_normalization_73 (BatchNo (None, 25, 25, 48)   144         conv2d_55[0][0]                  \n",
            "__________________________________________________________________________________________________\n",
            "batch_normalization_76 (BatchNo (None, 25, 25, 96)   288         conv2d_58[0][0]                  \n",
            "__________________________________________________________________________________________________\n",
            "activation_21 (Activation)      (None, 25, 25, 48)   0           batch_normalization_73[0][0]     \n",
            "__________________________________________________________________________________________________\n",
            "activation_24 (Activation)      (None, 25, 25, 96)   0           batch_normalization_76[0][0]     \n",
            "__________________________________________________________________________________________________\n",
            "average_pooling2d_3 (AveragePoo (None, 25, 25, 288)  0           mixed1[0][0]                     \n",
            "__________________________________________________________________________________________________\n",
            "conv2d_54 (Conv2D)              (None, 25, 25, 64)   18432       mixed1[0][0]                     \n",
            "__________________________________________________________________________________________________\n",
            "conv2d_56 (Conv2D)              (None, 25, 25, 64)   76800       activation_21[0][0]              \n",
            "__________________________________________________________________________________________________\n",
            "conv2d_59 (Conv2D)              (None, 25, 25, 96)   82944       activation_24[0][0]              \n",
            "__________________________________________________________________________________________________\n",
            "conv2d_60 (Conv2D)              (None, 25, 25, 64)   18432       average_pooling2d_3[0][0]        \n",
            "__________________________________________________________________________________________________\n",
            "batch_normalization_72 (BatchNo (None, 25, 25, 64)   192         conv2d_54[0][0]                  \n",
            "__________________________________________________________________________________________________\n",
            "batch_normalization_74 (BatchNo (None, 25, 25, 64)   192         conv2d_56[0][0]                  \n",
            "__________________________________________________________________________________________________\n",
            "batch_normalization_77 (BatchNo (None, 25, 25, 96)   288         conv2d_59[0][0]                  \n",
            "__________________________________________________________________________________________________\n",
            "batch_normalization_78 (BatchNo (None, 25, 25, 64)   192         conv2d_60[0][0]                  \n",
            "__________________________________________________________________________________________________\n",
            "activation_20 (Activation)      (None, 25, 25, 64)   0           batch_normalization_72[0][0]     \n",
            "__________________________________________________________________________________________________\n",
            "activation_22 (Activation)      (None, 25, 25, 64)   0           batch_normalization_74[0][0]     \n",
            "__________________________________________________________________________________________________\n",
            "activation_25 (Activation)      (None, 25, 25, 96)   0           batch_normalization_77[0][0]     \n",
            "__________________________________________________________________________________________________\n",
            "activation_26 (Activation)      (None, 25, 25, 64)   0           batch_normalization_78[0][0]     \n",
            "__________________________________________________________________________________________________\n",
            "mixed2 (Concatenate)            (None, 25, 25, 288)  0           activation_20[0][0]              \n",
            "                                                                 activation_22[0][0]              \n",
            "                                                                 activation_25[0][0]              \n",
            "                                                                 activation_26[0][0]              \n",
            "__________________________________________________________________________________________________\n",
            "conv2d_62 (Conv2D)              (None, 25, 25, 64)   18432       mixed2[0][0]                     \n",
            "__________________________________________________________________________________________________\n",
            "batch_normalization_80 (BatchNo (None, 25, 25, 64)   192         conv2d_62[0][0]                  \n",
            "__________________________________________________________________________________________________\n",
            "activation_28 (Activation)      (None, 25, 25, 64)   0           batch_normalization_80[0][0]     \n",
            "__________________________________________________________________________________________________\n",
            "conv2d_63 (Conv2D)              (None, 25, 25, 96)   55296       activation_28[0][0]              \n",
            "__________________________________________________________________________________________________\n",
            "batch_normalization_81 (BatchNo (None, 25, 25, 96)   288         conv2d_63[0][0]                  \n",
            "__________________________________________________________________________________________________\n",
            "activation_29 (Activation)      (None, 25, 25, 96)   0           batch_normalization_81[0][0]     \n",
            "__________________________________________________________________________________________________\n",
            "conv2d_61 (Conv2D)              (None, 12, 12, 384)  995328      mixed2[0][0]                     \n",
            "__________________________________________________________________________________________________\n",
            "conv2d_64 (Conv2D)              (None, 12, 12, 96)   82944       activation_29[0][0]              \n",
            "__________________________________________________________________________________________________\n",
            "batch_normalization_79 (BatchNo (None, 12, 12, 384)  1152        conv2d_61[0][0]                  \n",
            "__________________________________________________________________________________________________\n",
            "batch_normalization_82 (BatchNo (None, 12, 12, 96)   288         conv2d_64[0][0]                  \n",
            "__________________________________________________________________________________________________\n",
            "activation_27 (Activation)      (None, 12, 12, 384)  0           batch_normalization_79[0][0]     \n",
            "__________________________________________________________________________________________________\n",
            "activation_30 (Activation)      (None, 12, 12, 96)   0           batch_normalization_82[0][0]     \n",
            "__________________________________________________________________________________________________\n",
            "max_pooling2d_3 (MaxPooling2D)  (None, 12, 12, 288)  0           mixed2[0][0]                     \n",
            "__________________________________________________________________________________________________\n",
            "mixed3 (Concatenate)            (None, 12, 12, 768)  0           activation_27[0][0]              \n",
            "                                                                 activation_30[0][0]              \n",
            "                                                                 max_pooling2d_3[0][0]            \n",
            "__________________________________________________________________________________________________\n",
            "conv2d_69 (Conv2D)              (None, 12, 12, 128)  98304       mixed3[0][0]                     \n",
            "__________________________________________________________________________________________________\n",
            "batch_normalization_87 (BatchNo (None, 12, 12, 128)  384         conv2d_69[0][0]                  \n",
            "__________________________________________________________________________________________________\n",
            "activation_35 (Activation)      (None, 12, 12, 128)  0           batch_normalization_87[0][0]     \n",
            "__________________________________________________________________________________________________\n",
            "conv2d_70 (Conv2D)              (None, 12, 12, 128)  114688      activation_35[0][0]              \n",
            "__________________________________________________________________________________________________\n",
            "batch_normalization_88 (BatchNo (None, 12, 12, 128)  384         conv2d_70[0][0]                  \n",
            "__________________________________________________________________________________________________\n",
            "activation_36 (Activation)      (None, 12, 12, 128)  0           batch_normalization_88[0][0]     \n",
            "__________________________________________________________________________________________________\n",
            "conv2d_66 (Conv2D)              (None, 12, 12, 128)  98304       mixed3[0][0]                     \n",
            "__________________________________________________________________________________________________\n",
            "conv2d_71 (Conv2D)              (None, 12, 12, 128)  114688      activation_36[0][0]              \n",
            "__________________________________________________________________________________________________\n",
            "batch_normalization_84 (BatchNo (None, 12, 12, 128)  384         conv2d_66[0][0]                  \n",
            "__________________________________________________________________________________________________\n",
            "batch_normalization_89 (BatchNo (None, 12, 12, 128)  384         conv2d_71[0][0]                  \n",
            "__________________________________________________________________________________________________\n",
            "activation_32 (Activation)      (None, 12, 12, 128)  0           batch_normalization_84[0][0]     \n",
            "__________________________________________________________________________________________________\n",
            "activation_37 (Activation)      (None, 12, 12, 128)  0           batch_normalization_89[0][0]     \n",
            "__________________________________________________________________________________________________\n",
            "conv2d_67 (Conv2D)              (None, 12, 12, 128)  114688      activation_32[0][0]              \n",
            "__________________________________________________________________________________________________\n",
            "conv2d_72 (Conv2D)              (None, 12, 12, 128)  114688      activation_37[0][0]              \n",
            "__________________________________________________________________________________________________\n",
            "batch_normalization_85 (BatchNo (None, 12, 12, 128)  384         conv2d_67[0][0]                  \n",
            "__________________________________________________________________________________________________\n",
            "batch_normalization_90 (BatchNo (None, 12, 12, 128)  384         conv2d_72[0][0]                  \n",
            "__________________________________________________________________________________________________\n",
            "activation_33 (Activation)      (None, 12, 12, 128)  0           batch_normalization_85[0][0]     \n",
            "__________________________________________________________________________________________________\n",
            "activation_38 (Activation)      (None, 12, 12, 128)  0           batch_normalization_90[0][0]     \n",
            "__________________________________________________________________________________________________\n",
            "average_pooling2d_4 (AveragePoo (None, 12, 12, 768)  0           mixed3[0][0]                     \n",
            "__________________________________________________________________________________________________\n",
            "conv2d_65 (Conv2D)              (None, 12, 12, 192)  147456      mixed3[0][0]                     \n",
            "__________________________________________________________________________________________________\n",
            "conv2d_68 (Conv2D)              (None, 12, 12, 192)  172032      activation_33[0][0]              \n",
            "__________________________________________________________________________________________________\n",
            "conv2d_73 (Conv2D)              (None, 12, 12, 192)  172032      activation_38[0][0]              \n",
            "__________________________________________________________________________________________________\n",
            "conv2d_74 (Conv2D)              (None, 12, 12, 192)  147456      average_pooling2d_4[0][0]        \n",
            "__________________________________________________________________________________________________\n",
            "batch_normalization_83 (BatchNo (None, 12, 12, 192)  576         conv2d_65[0][0]                  \n",
            "__________________________________________________________________________________________________\n",
            "batch_normalization_86 (BatchNo (None, 12, 12, 192)  576         conv2d_68[0][0]                  \n",
            "__________________________________________________________________________________________________\n",
            "batch_normalization_91 (BatchNo (None, 12, 12, 192)  576         conv2d_73[0][0]                  \n",
            "__________________________________________________________________________________________________\n",
            "batch_normalization_92 (BatchNo (None, 12, 12, 192)  576         conv2d_74[0][0]                  \n",
            "__________________________________________________________________________________________________\n",
            "activation_31 (Activation)      (None, 12, 12, 192)  0           batch_normalization_83[0][0]     \n",
            "__________________________________________________________________________________________________\n",
            "activation_34 (Activation)      (None, 12, 12, 192)  0           batch_normalization_86[0][0]     \n",
            "__________________________________________________________________________________________________\n",
            "activation_39 (Activation)      (None, 12, 12, 192)  0           batch_normalization_91[0][0]     \n",
            "__________________________________________________________________________________________________\n",
            "activation_40 (Activation)      (None, 12, 12, 192)  0           batch_normalization_92[0][0]     \n",
            "__________________________________________________________________________________________________\n",
            "mixed4 (Concatenate)            (None, 12, 12, 768)  0           activation_31[0][0]              \n",
            "                                                                 activation_34[0][0]              \n",
            "                                                                 activation_39[0][0]              \n",
            "                                                                 activation_40[0][0]              \n",
            "__________________________________________________________________________________________________\n",
            "conv2d_79 (Conv2D)              (None, 12, 12, 160)  122880      mixed4[0][0]                     \n",
            "__________________________________________________________________________________________________\n",
            "batch_normalization_97 (BatchNo (None, 12, 12, 160)  480         conv2d_79[0][0]                  \n",
            "__________________________________________________________________________________________________\n",
            "activation_45 (Activation)      (None, 12, 12, 160)  0           batch_normalization_97[0][0]     \n",
            "__________________________________________________________________________________________________\n",
            "conv2d_80 (Conv2D)              (None, 12, 12, 160)  179200      activation_45[0][0]              \n",
            "__________________________________________________________________________________________________\n",
            "batch_normalization_98 (BatchNo (None, 12, 12, 160)  480         conv2d_80[0][0]                  \n",
            "__________________________________________________________________________________________________\n",
            "activation_46 (Activation)      (None, 12, 12, 160)  0           batch_normalization_98[0][0]     \n",
            "__________________________________________________________________________________________________\n",
            "conv2d_76 (Conv2D)              (None, 12, 12, 160)  122880      mixed4[0][0]                     \n",
            "__________________________________________________________________________________________________\n",
            "conv2d_81 (Conv2D)              (None, 12, 12, 160)  179200      activation_46[0][0]              \n",
            "__________________________________________________________________________________________________\n",
            "batch_normalization_94 (BatchNo (None, 12, 12, 160)  480         conv2d_76[0][0]                  \n",
            "__________________________________________________________________________________________________\n",
            "batch_normalization_99 (BatchNo (None, 12, 12, 160)  480         conv2d_81[0][0]                  \n",
            "__________________________________________________________________________________________________\n",
            "activation_42 (Activation)      (None, 12, 12, 160)  0           batch_normalization_94[0][0]     \n",
            "__________________________________________________________________________________________________\n",
            "activation_47 (Activation)      (None, 12, 12, 160)  0           batch_normalization_99[0][0]     \n",
            "__________________________________________________________________________________________________\n",
            "conv2d_77 (Conv2D)              (None, 12, 12, 160)  179200      activation_42[0][0]              \n",
            "__________________________________________________________________________________________________\n",
            "conv2d_82 (Conv2D)              (None, 12, 12, 160)  179200      activation_47[0][0]              \n",
            "__________________________________________________________________________________________________\n",
            "batch_normalization_95 (BatchNo (None, 12, 12, 160)  480         conv2d_77[0][0]                  \n",
            "__________________________________________________________________________________________________\n",
            "batch_normalization_100 (BatchN (None, 12, 12, 160)  480         conv2d_82[0][0]                  \n",
            "__________________________________________________________________________________________________\n",
            "activation_43 (Activation)      (None, 12, 12, 160)  0           batch_normalization_95[0][0]     \n",
            "__________________________________________________________________________________________________\n",
            "activation_48 (Activation)      (None, 12, 12, 160)  0           batch_normalization_100[0][0]    \n",
            "__________________________________________________________________________________________________\n",
            "average_pooling2d_5 (AveragePoo (None, 12, 12, 768)  0           mixed4[0][0]                     \n",
            "__________________________________________________________________________________________________\n",
            "conv2d_75 (Conv2D)              (None, 12, 12, 192)  147456      mixed4[0][0]                     \n",
            "__________________________________________________________________________________________________\n",
            "conv2d_78 (Conv2D)              (None, 12, 12, 192)  215040      activation_43[0][0]              \n",
            "__________________________________________________________________________________________________\n",
            "conv2d_83 (Conv2D)              (None, 12, 12, 192)  215040      activation_48[0][0]              \n",
            "__________________________________________________________________________________________________\n",
            "conv2d_84 (Conv2D)              (None, 12, 12, 192)  147456      average_pooling2d_5[0][0]        \n",
            "__________________________________________________________________________________________________\n",
            "batch_normalization_93 (BatchNo (None, 12, 12, 192)  576         conv2d_75[0][0]                  \n",
            "__________________________________________________________________________________________________\n",
            "batch_normalization_96 (BatchNo (None, 12, 12, 192)  576         conv2d_78[0][0]                  \n",
            "__________________________________________________________________________________________________\n",
            "batch_normalization_101 (BatchN (None, 12, 12, 192)  576         conv2d_83[0][0]                  \n",
            "__________________________________________________________________________________________________\n",
            "batch_normalization_102 (BatchN (None, 12, 12, 192)  576         conv2d_84[0][0]                  \n",
            "__________________________________________________________________________________________________\n",
            "activation_41 (Activation)      (None, 12, 12, 192)  0           batch_normalization_93[0][0]     \n",
            "__________________________________________________________________________________________________\n",
            "activation_44 (Activation)      (None, 12, 12, 192)  0           batch_normalization_96[0][0]     \n",
            "__________________________________________________________________________________________________\n",
            "activation_49 (Activation)      (None, 12, 12, 192)  0           batch_normalization_101[0][0]    \n",
            "__________________________________________________________________________________________________\n",
            "activation_50 (Activation)      (None, 12, 12, 192)  0           batch_normalization_102[0][0]    \n",
            "__________________________________________________________________________________________________\n",
            "mixed5 (Concatenate)            (None, 12, 12, 768)  0           activation_41[0][0]              \n",
            "                                                                 activation_44[0][0]              \n",
            "                                                                 activation_49[0][0]              \n",
            "                                                                 activation_50[0][0]              \n",
            "__________________________________________________________________________________________________\n",
            "conv2d_89 (Conv2D)              (None, 12, 12, 160)  122880      mixed5[0][0]                     \n",
            "__________________________________________________________________________________________________\n",
            "batch_normalization_107 (BatchN (None, 12, 12, 160)  480         conv2d_89[0][0]                  \n",
            "__________________________________________________________________________________________________\n",
            "activation_55 (Activation)      (None, 12, 12, 160)  0           batch_normalization_107[0][0]    \n",
            "__________________________________________________________________________________________________\n",
            "conv2d_90 (Conv2D)              (None, 12, 12, 160)  179200      activation_55[0][0]              \n",
            "__________________________________________________________________________________________________\n",
            "batch_normalization_108 (BatchN (None, 12, 12, 160)  480         conv2d_90[0][0]                  \n",
            "__________________________________________________________________________________________________\n",
            "activation_56 (Activation)      (None, 12, 12, 160)  0           batch_normalization_108[0][0]    \n",
            "__________________________________________________________________________________________________\n",
            "conv2d_86 (Conv2D)              (None, 12, 12, 160)  122880      mixed5[0][0]                     \n",
            "__________________________________________________________________________________________________\n",
            "conv2d_91 (Conv2D)              (None, 12, 12, 160)  179200      activation_56[0][0]              \n",
            "__________________________________________________________________________________________________\n",
            "batch_normalization_104 (BatchN (None, 12, 12, 160)  480         conv2d_86[0][0]                  \n",
            "__________________________________________________________________________________________________\n",
            "batch_normalization_109 (BatchN (None, 12, 12, 160)  480         conv2d_91[0][0]                  \n",
            "__________________________________________________________________________________________________\n",
            "activation_52 (Activation)      (None, 12, 12, 160)  0           batch_normalization_104[0][0]    \n",
            "__________________________________________________________________________________________________\n",
            "activation_57 (Activation)      (None, 12, 12, 160)  0           batch_normalization_109[0][0]    \n",
            "__________________________________________________________________________________________________\n",
            "conv2d_87 (Conv2D)              (None, 12, 12, 160)  179200      activation_52[0][0]              \n",
            "__________________________________________________________________________________________________\n",
            "conv2d_92 (Conv2D)              (None, 12, 12, 160)  179200      activation_57[0][0]              \n",
            "__________________________________________________________________________________________________\n",
            "batch_normalization_105 (BatchN (None, 12, 12, 160)  480         conv2d_87[0][0]                  \n",
            "__________________________________________________________________________________________________\n",
            "batch_normalization_110 (BatchN (None, 12, 12, 160)  480         conv2d_92[0][0]                  \n",
            "__________________________________________________________________________________________________\n",
            "activation_53 (Activation)      (None, 12, 12, 160)  0           batch_normalization_105[0][0]    \n",
            "__________________________________________________________________________________________________\n",
            "activation_58 (Activation)      (None, 12, 12, 160)  0           batch_normalization_110[0][0]    \n",
            "__________________________________________________________________________________________________\n",
            "average_pooling2d_6 (AveragePoo (None, 12, 12, 768)  0           mixed5[0][0]                     \n",
            "__________________________________________________________________________________________________\n",
            "conv2d_85 (Conv2D)              (None, 12, 12, 192)  147456      mixed5[0][0]                     \n",
            "__________________________________________________________________________________________________\n",
            "conv2d_88 (Conv2D)              (None, 12, 12, 192)  215040      activation_53[0][0]              \n",
            "__________________________________________________________________________________________________\n",
            "conv2d_93 (Conv2D)              (None, 12, 12, 192)  215040      activation_58[0][0]              \n",
            "__________________________________________________________________________________________________\n",
            "conv2d_94 (Conv2D)              (None, 12, 12, 192)  147456      average_pooling2d_6[0][0]        \n",
            "__________________________________________________________________________________________________\n",
            "batch_normalization_103 (BatchN (None, 12, 12, 192)  576         conv2d_85[0][0]                  \n",
            "__________________________________________________________________________________________________\n",
            "batch_normalization_106 (BatchN (None, 12, 12, 192)  576         conv2d_88[0][0]                  \n",
            "__________________________________________________________________________________________________\n",
            "batch_normalization_111 (BatchN (None, 12, 12, 192)  576         conv2d_93[0][0]                  \n",
            "__________________________________________________________________________________________________\n",
            "batch_normalization_112 (BatchN (None, 12, 12, 192)  576         conv2d_94[0][0]                  \n",
            "__________________________________________________________________________________________________\n",
            "activation_51 (Activation)      (None, 12, 12, 192)  0           batch_normalization_103[0][0]    \n",
            "__________________________________________________________________________________________________\n",
            "activation_54 (Activation)      (None, 12, 12, 192)  0           batch_normalization_106[0][0]    \n",
            "__________________________________________________________________________________________________\n",
            "activation_59 (Activation)      (None, 12, 12, 192)  0           batch_normalization_111[0][0]    \n",
            "__________________________________________________________________________________________________\n",
            "activation_60 (Activation)      (None, 12, 12, 192)  0           batch_normalization_112[0][0]    \n",
            "__________________________________________________________________________________________________\n",
            "mixed6 (Concatenate)            (None, 12, 12, 768)  0           activation_51[0][0]              \n",
            "                                                                 activation_54[0][0]              \n",
            "                                                                 activation_59[0][0]              \n",
            "                                                                 activation_60[0][0]              \n",
            "__________________________________________________________________________________________________\n",
            "conv2d_99 (Conv2D)              (None, 12, 12, 192)  147456      mixed6[0][0]                     \n",
            "__________________________________________________________________________________________________\n",
            "batch_normalization_117 (BatchN (None, 12, 12, 192)  576         conv2d_99[0][0]                  \n",
            "__________________________________________________________________________________________________\n",
            "activation_65 (Activation)      (None, 12, 12, 192)  0           batch_normalization_117[0][0]    \n",
            "__________________________________________________________________________________________________\n",
            "conv2d_100 (Conv2D)             (None, 12, 12, 192)  258048      activation_65[0][0]              \n",
            "__________________________________________________________________________________________________\n",
            "batch_normalization_118 (BatchN (None, 12, 12, 192)  576         conv2d_100[0][0]                 \n",
            "__________________________________________________________________________________________________\n",
            "activation_66 (Activation)      (None, 12, 12, 192)  0           batch_normalization_118[0][0]    \n",
            "__________________________________________________________________________________________________\n",
            "conv2d_96 (Conv2D)              (None, 12, 12, 192)  147456      mixed6[0][0]                     \n",
            "__________________________________________________________________________________________________\n",
            "conv2d_101 (Conv2D)             (None, 12, 12, 192)  258048      activation_66[0][0]              \n",
            "__________________________________________________________________________________________________\n",
            "batch_normalization_114 (BatchN (None, 12, 12, 192)  576         conv2d_96[0][0]                  \n",
            "__________________________________________________________________________________________________\n",
            "batch_normalization_119 (BatchN (None, 12, 12, 192)  576         conv2d_101[0][0]                 \n",
            "__________________________________________________________________________________________________\n",
            "activation_62 (Activation)      (None, 12, 12, 192)  0           batch_normalization_114[0][0]    \n",
            "__________________________________________________________________________________________________\n",
            "activation_67 (Activation)      (None, 12, 12, 192)  0           batch_normalization_119[0][0]    \n",
            "__________________________________________________________________________________________________\n",
            "conv2d_97 (Conv2D)              (None, 12, 12, 192)  258048      activation_62[0][0]              \n",
            "__________________________________________________________________________________________________\n",
            "conv2d_102 (Conv2D)             (None, 12, 12, 192)  258048      activation_67[0][0]              \n",
            "__________________________________________________________________________________________________\n",
            "batch_normalization_115 (BatchN (None, 12, 12, 192)  576         conv2d_97[0][0]                  \n",
            "__________________________________________________________________________________________________\n",
            "batch_normalization_120 (BatchN (None, 12, 12, 192)  576         conv2d_102[0][0]                 \n",
            "__________________________________________________________________________________________________\n",
            "activation_63 (Activation)      (None, 12, 12, 192)  0           batch_normalization_115[0][0]    \n",
            "__________________________________________________________________________________________________\n",
            "activation_68 (Activation)      (None, 12, 12, 192)  0           batch_normalization_120[0][0]    \n",
            "__________________________________________________________________________________________________\n",
            "average_pooling2d_7 (AveragePoo (None, 12, 12, 768)  0           mixed6[0][0]                     \n",
            "__________________________________________________________________________________________________\n",
            "conv2d_95 (Conv2D)              (None, 12, 12, 192)  147456      mixed6[0][0]                     \n",
            "__________________________________________________________________________________________________\n",
            "conv2d_98 (Conv2D)              (None, 12, 12, 192)  258048      activation_63[0][0]              \n",
            "__________________________________________________________________________________________________\n",
            "conv2d_103 (Conv2D)             (None, 12, 12, 192)  258048      activation_68[0][0]              \n",
            "__________________________________________________________________________________________________\n",
            "conv2d_104 (Conv2D)             (None, 12, 12, 192)  147456      average_pooling2d_7[0][0]        \n",
            "__________________________________________________________________________________________________\n",
            "batch_normalization_113 (BatchN (None, 12, 12, 192)  576         conv2d_95[0][0]                  \n",
            "__________________________________________________________________________________________________\n",
            "batch_normalization_116 (BatchN (None, 12, 12, 192)  576         conv2d_98[0][0]                  \n",
            "__________________________________________________________________________________________________\n",
            "batch_normalization_121 (BatchN (None, 12, 12, 192)  576         conv2d_103[0][0]                 \n",
            "__________________________________________________________________________________________________\n",
            "batch_normalization_122 (BatchN (None, 12, 12, 192)  576         conv2d_104[0][0]                 \n",
            "__________________________________________________________________________________________________\n",
            "activation_61 (Activation)      (None, 12, 12, 192)  0           batch_normalization_113[0][0]    \n",
            "__________________________________________________________________________________________________\n",
            "activation_64 (Activation)      (None, 12, 12, 192)  0           batch_normalization_116[0][0]    \n",
            "__________________________________________________________________________________________________\n",
            "activation_69 (Activation)      (None, 12, 12, 192)  0           batch_normalization_121[0][0]    \n",
            "__________________________________________________________________________________________________\n",
            "activation_70 (Activation)      (None, 12, 12, 192)  0           batch_normalization_122[0][0]    \n",
            "__________________________________________________________________________________________________\n",
            "mixed7 (Concatenate)            (None, 12, 12, 768)  0           activation_61[0][0]              \n",
            "                                                                 activation_64[0][0]              \n",
            "                                                                 activation_69[0][0]              \n",
            "                                                                 activation_70[0][0]              \n",
            "__________________________________________________________________________________________________\n",
            "conv2d_107 (Conv2D)             (None, 12, 12, 192)  147456      mixed7[0][0]                     \n",
            "__________________________________________________________________________________________________\n",
            "batch_normalization_125 (BatchN (None, 12, 12, 192)  576         conv2d_107[0][0]                 \n",
            "__________________________________________________________________________________________________\n",
            "activation_73 (Activation)      (None, 12, 12, 192)  0           batch_normalization_125[0][0]    \n",
            "__________________________________________________________________________________________________\n",
            "conv2d_108 (Conv2D)             (None, 12, 12, 192)  258048      activation_73[0][0]              \n",
            "__________________________________________________________________________________________________\n",
            "batch_normalization_126 (BatchN (None, 12, 12, 192)  576         conv2d_108[0][0]                 \n",
            "__________________________________________________________________________________________________\n",
            "activation_74 (Activation)      (None, 12, 12, 192)  0           batch_normalization_126[0][0]    \n",
            "__________________________________________________________________________________________________\n",
            "conv2d_105 (Conv2D)             (None, 12, 12, 192)  147456      mixed7[0][0]                     \n",
            "__________________________________________________________________________________________________\n",
            "conv2d_109 (Conv2D)             (None, 12, 12, 192)  258048      activation_74[0][0]              \n",
            "__________________________________________________________________________________________________\n",
            "batch_normalization_123 (BatchN (None, 12, 12, 192)  576         conv2d_105[0][0]                 \n",
            "__________________________________________________________________________________________________\n",
            "batch_normalization_127 (BatchN (None, 12, 12, 192)  576         conv2d_109[0][0]                 \n",
            "__________________________________________________________________________________________________\n",
            "activation_71 (Activation)      (None, 12, 12, 192)  0           batch_normalization_123[0][0]    \n",
            "__________________________________________________________________________________________________\n",
            "activation_75 (Activation)      (None, 12, 12, 192)  0           batch_normalization_127[0][0]    \n",
            "__________________________________________________________________________________________________\n",
            "conv2d_106 (Conv2D)             (None, 5, 5, 320)    552960      activation_71[0][0]              \n",
            "__________________________________________________________________________________________________\n",
            "conv2d_110 (Conv2D)             (None, 5, 5, 192)    331776      activation_75[0][0]              \n",
            "__________________________________________________________________________________________________\n",
            "batch_normalization_124 (BatchN (None, 5, 5, 320)    960         conv2d_106[0][0]                 \n",
            "__________________________________________________________________________________________________\n",
            "batch_normalization_128 (BatchN (None, 5, 5, 192)    576         conv2d_110[0][0]                 \n",
            "__________________________________________________________________________________________________\n",
            "activation_72 (Activation)      (None, 5, 5, 320)    0           batch_normalization_124[0][0]    \n",
            "__________________________________________________________________________________________________\n",
            "activation_76 (Activation)      (None, 5, 5, 192)    0           batch_normalization_128[0][0]    \n",
            "__________________________________________________________________________________________________\n",
            "max_pooling2d_4 (MaxPooling2D)  (None, 5, 5, 768)    0           mixed7[0][0]                     \n",
            "__________________________________________________________________________________________________\n",
            "mixed8 (Concatenate)            (None, 5, 5, 1280)   0           activation_72[0][0]              \n",
            "                                                                 activation_76[0][0]              \n",
            "                                                                 max_pooling2d_4[0][0]            \n",
            "__________________________________________________________________________________________________\n",
            "conv2d_115 (Conv2D)             (None, 5, 5, 448)    573440      mixed8[0][0]                     \n",
            "__________________________________________________________________________________________________\n",
            "batch_normalization_133 (BatchN (None, 5, 5, 448)    1344        conv2d_115[0][0]                 \n",
            "__________________________________________________________________________________________________\n",
            "activation_81 (Activation)      (None, 5, 5, 448)    0           batch_normalization_133[0][0]    \n",
            "__________________________________________________________________________________________________\n",
            "conv2d_112 (Conv2D)             (None, 5, 5, 384)    491520      mixed8[0][0]                     \n",
            "__________________________________________________________________________________________________\n",
            "conv2d_116 (Conv2D)             (None, 5, 5, 384)    1548288     activation_81[0][0]              \n",
            "__________________________________________________________________________________________________\n",
            "batch_normalization_130 (BatchN (None, 5, 5, 384)    1152        conv2d_112[0][0]                 \n",
            "__________________________________________________________________________________________________\n",
            "batch_normalization_134 (BatchN (None, 5, 5, 384)    1152        conv2d_116[0][0]                 \n",
            "__________________________________________________________________________________________________\n",
            "activation_78 (Activation)      (None, 5, 5, 384)    0           batch_normalization_130[0][0]    \n",
            "__________________________________________________________________________________________________\n",
            "activation_82 (Activation)      (None, 5, 5, 384)    0           batch_normalization_134[0][0]    \n",
            "__________________________________________________________________________________________________\n",
            "conv2d_113 (Conv2D)             (None, 5, 5, 384)    442368      activation_78[0][0]              \n",
            "__________________________________________________________________________________________________\n",
            "conv2d_114 (Conv2D)             (None, 5, 5, 384)    442368      activation_78[0][0]              \n",
            "__________________________________________________________________________________________________\n",
            "conv2d_117 (Conv2D)             (None, 5, 5, 384)    442368      activation_82[0][0]              \n",
            "__________________________________________________________________________________________________\n",
            "conv2d_118 (Conv2D)             (None, 5, 5, 384)    442368      activation_82[0][0]              \n",
            "__________________________________________________________________________________________________\n",
            "average_pooling2d_8 (AveragePoo (None, 5, 5, 1280)   0           mixed8[0][0]                     \n",
            "__________________________________________________________________________________________________\n",
            "conv2d_111 (Conv2D)             (None, 5, 5, 320)    409600      mixed8[0][0]                     \n",
            "__________________________________________________________________________________________________\n",
            "batch_normalization_131 (BatchN (None, 5, 5, 384)    1152        conv2d_113[0][0]                 \n",
            "__________________________________________________________________________________________________\n",
            "batch_normalization_132 (BatchN (None, 5, 5, 384)    1152        conv2d_114[0][0]                 \n",
            "__________________________________________________________________________________________________\n",
            "batch_normalization_135 (BatchN (None, 5, 5, 384)    1152        conv2d_117[0][0]                 \n",
            "__________________________________________________________________________________________________\n",
            "batch_normalization_136 (BatchN (None, 5, 5, 384)    1152        conv2d_118[0][0]                 \n",
            "__________________________________________________________________________________________________\n",
            "conv2d_119 (Conv2D)             (None, 5, 5, 192)    245760      average_pooling2d_8[0][0]        \n",
            "__________________________________________________________________________________________________\n",
            "batch_normalization_129 (BatchN (None, 5, 5, 320)    960         conv2d_111[0][0]                 \n",
            "__________________________________________________________________________________________________\n",
            "activation_79 (Activation)      (None, 5, 5, 384)    0           batch_normalization_131[0][0]    \n",
            "__________________________________________________________________________________________________\n",
            "activation_80 (Activation)      (None, 5, 5, 384)    0           batch_normalization_132[0][0]    \n",
            "__________________________________________________________________________________________________\n",
            "activation_83 (Activation)      (None, 5, 5, 384)    0           batch_normalization_135[0][0]    \n",
            "__________________________________________________________________________________________________\n",
            "activation_84 (Activation)      (None, 5, 5, 384)    0           batch_normalization_136[0][0]    \n",
            "__________________________________________________________________________________________________\n",
            "batch_normalization_137 (BatchN (None, 5, 5, 192)    576         conv2d_119[0][0]                 \n",
            "__________________________________________________________________________________________________\n",
            "activation_77 (Activation)      (None, 5, 5, 320)    0           batch_normalization_129[0][0]    \n",
            "__________________________________________________________________________________________________\n",
            "mixed9_0 (Concatenate)          (None, 5, 5, 768)    0           activation_79[0][0]              \n",
            "                                                                 activation_80[0][0]              \n",
            "__________________________________________________________________________________________________\n",
            "concatenate_1 (Concatenate)     (None, 5, 5, 768)    0           activation_83[0][0]              \n",
            "                                                                 activation_84[0][0]              \n",
            "__________________________________________________________________________________________________\n",
            "activation_85 (Activation)      (None, 5, 5, 192)    0           batch_normalization_137[0][0]    \n",
            "__________________________________________________________________________________________________\n",
            "mixed9 (Concatenate)            (None, 5, 5, 2048)   0           activation_77[0][0]              \n",
            "                                                                 mixed9_0[0][0]                   \n",
            "                                                                 concatenate_1[0][0]              \n",
            "                                                                 activation_85[0][0]              \n",
            "__________________________________________________________________________________________________\n",
            "conv2d_124 (Conv2D)             (None, 5, 5, 448)    917504      mixed9[0][0]                     \n",
            "__________________________________________________________________________________________________\n",
            "batch_normalization_142 (BatchN (None, 5, 5, 448)    1344        conv2d_124[0][0]                 \n",
            "__________________________________________________________________________________________________\n",
            "activation_90 (Activation)      (None, 5, 5, 448)    0           batch_normalization_142[0][0]    \n",
            "__________________________________________________________________________________________________\n",
            "conv2d_121 (Conv2D)             (None, 5, 5, 384)    786432      mixed9[0][0]                     \n",
            "__________________________________________________________________________________________________\n",
            "conv2d_125 (Conv2D)             (None, 5, 5, 384)    1548288     activation_90[0][0]              \n",
            "__________________________________________________________________________________________________\n",
            "batch_normalization_139 (BatchN (None, 5, 5, 384)    1152        conv2d_121[0][0]                 \n",
            "__________________________________________________________________________________________________\n",
            "batch_normalization_143 (BatchN (None, 5, 5, 384)    1152        conv2d_125[0][0]                 \n",
            "__________________________________________________________________________________________________\n",
            "activation_87 (Activation)      (None, 5, 5, 384)    0           batch_normalization_139[0][0]    \n",
            "__________________________________________________________________________________________________\n",
            "activation_91 (Activation)      (None, 5, 5, 384)    0           batch_normalization_143[0][0]    \n",
            "__________________________________________________________________________________________________\n",
            "conv2d_122 (Conv2D)             (None, 5, 5, 384)    442368      activation_87[0][0]              \n",
            "__________________________________________________________________________________________________\n",
            "conv2d_123 (Conv2D)             (None, 5, 5, 384)    442368      activation_87[0][0]              \n",
            "__________________________________________________________________________________________________\n",
            "conv2d_126 (Conv2D)             (None, 5, 5, 384)    442368      activation_91[0][0]              \n",
            "__________________________________________________________________________________________________\n",
            "conv2d_127 (Conv2D)             (None, 5, 5, 384)    442368      activation_91[0][0]              \n",
            "__________________________________________________________________________________________________\n",
            "average_pooling2d_9 (AveragePoo (None, 5, 5, 2048)   0           mixed9[0][0]                     \n",
            "__________________________________________________________________________________________________\n",
            "conv2d_120 (Conv2D)             (None, 5, 5, 320)    655360      mixed9[0][0]                     \n",
            "__________________________________________________________________________________________________\n",
            "batch_normalization_140 (BatchN (None, 5, 5, 384)    1152        conv2d_122[0][0]                 \n",
            "__________________________________________________________________________________________________\n",
            "batch_normalization_141 (BatchN (None, 5, 5, 384)    1152        conv2d_123[0][0]                 \n",
            "__________________________________________________________________________________________________\n",
            "batch_normalization_144 (BatchN (None, 5, 5, 384)    1152        conv2d_126[0][0]                 \n",
            "__________________________________________________________________________________________________\n",
            "batch_normalization_145 (BatchN (None, 5, 5, 384)    1152        conv2d_127[0][0]                 \n",
            "__________________________________________________________________________________________________\n",
            "conv2d_128 (Conv2D)             (None, 5, 5, 192)    393216      average_pooling2d_9[0][0]        \n",
            "__________________________________________________________________________________________________\n",
            "batch_normalization_138 (BatchN (None, 5, 5, 320)    960         conv2d_120[0][0]                 \n",
            "__________________________________________________________________________________________________\n",
            "activation_88 (Activation)      (None, 5, 5, 384)    0           batch_normalization_140[0][0]    \n",
            "__________________________________________________________________________________________________\n",
            "activation_89 (Activation)      (None, 5, 5, 384)    0           batch_normalization_141[0][0]    \n",
            "__________________________________________________________________________________________________\n",
            "activation_92 (Activation)      (None, 5, 5, 384)    0           batch_normalization_144[0][0]    \n",
            "__________________________________________________________________________________________________\n",
            "activation_93 (Activation)      (None, 5, 5, 384)    0           batch_normalization_145[0][0]    \n",
            "__________________________________________________________________________________________________\n",
            "batch_normalization_146 (BatchN (None, 5, 5, 192)    576         conv2d_128[0][0]                 \n",
            "__________________________________________________________________________________________________\n",
            "activation_86 (Activation)      (None, 5, 5, 320)    0           batch_normalization_138[0][0]    \n",
            "__________________________________________________________________________________________________\n",
            "mixed9_1 (Concatenate)          (None, 5, 5, 768)    0           activation_88[0][0]              \n",
            "                                                                 activation_89[0][0]              \n",
            "__________________________________________________________________________________________________\n",
            "concatenate_2 (Concatenate)     (None, 5, 5, 768)    0           activation_92[0][0]              \n",
            "                                                                 activation_93[0][0]              \n",
            "__________________________________________________________________________________________________\n",
            "activation_94 (Activation)      (None, 5, 5, 192)    0           batch_normalization_146[0][0]    \n",
            "__________________________________________________________________________________________________\n",
            "mixed10 (Concatenate)           (None, 5, 5, 2048)   0           activation_86[0][0]              \n",
            "                                                                 mixed9_1[0][0]                   \n",
            "                                                                 concatenate_2[0][0]              \n",
            "                                                                 activation_94[0][0]              \n",
            "__________________________________________________________________________________________________\n",
            "dropout_1 (Dropout)             (None, 5, 5, 2048)   0           mixed10[0][0]                    \n",
            "__________________________________________________________________________________________________\n",
            "global_average_pooling2d_2 (Glo (None, 2048)         0           dropout_1[0][0]                  \n",
            "__________________________________________________________________________________________________\n",
            "dense_3 (Dense)                 (None, 128)          262272      global_average_pooling2d_2[0][0] \n",
            "__________________________________________________________________________________________________\n",
            "batch_normalization_147 (BatchN (None, 128)          512         dense_3[0][0]                    \n",
            "__________________________________________________________________________________________________\n",
            "dense_5 (Dense)                 (None, 2)            258         batch_normalization_147[0][0]    \n",
            "==================================================================================================\n",
            "Total params: 22,065,826\n",
            "Trainable params: 22,031,138\n",
            "Non-trainable params: 34,688\n",
            "__________________________________________________________________________________________________\n"
          ],
          "name": "stdout"
        }
      ]
    },
    {
      "cell_type": "code",
      "metadata": {
        "id": "kK8W2SkHvbT_",
        "colab_type": "code",
        "colab": {}
      },
      "source": [
        "from keras.preprocessing.image import ImageDataGenerator"
      ],
      "execution_count": 32,
      "outputs": []
    },
    {
      "cell_type": "code",
      "metadata": {
        "id": "wRC78sWe2DRF",
        "colab_type": "code",
        "colab": {}
      },
      "source": [
        "traindatagen = ImageDataGenerator(rescale=1./255,\n",
        "                                  zoom_range = 0.2,\n",
        "                                  horizontal_flip=True)\n",
        "\n",
        "test_datagen = ImageDataGenerator(rescale=1./255)\n",
        "\n",
        "\n",
        "                                 "
      ],
      "execution_count": 33,
      "outputs": []
    },
    {
      "cell_type": "code",
      "metadata": {
        "id": "9Xf4lBj53aWF",
        "colab_type": "code",
        "colab": {
          "base_uri": "https://localhost:8080/",
          "height": 51
        },
        "outputId": "9433d99a-21cb-4c99-ad31-1cfc9841804b"
      },
      "source": [
        "training_set = train_datagen.flow_from_directory(loc+'/train',\n",
        "                                                target_size=(224, 224),\n",
        "                                                batch_size=32,\n",
        "                                                class_mode='categorical')\n",
        "\n",
        "testing_set = test_datagen.flow_from_directory(loc+'/test',\n",
        "                                               target_size=(224, 224),\n",
        "                                               batch_size=32,\n",
        "                                               class_mode='categorical')\n"
      ],
      "execution_count": 34,
      "outputs": [
        {
          "output_type": "stream",
          "text": [
            "Found 5239 images belonging to 2 classes.\n",
            "Found 624 images belonging to 2 classes.\n"
          ],
          "name": "stdout"
        }
      ]
    },
    {
      "cell_type": "code",
      "metadata": {
        "id": "cZ5eZ3NR5Vbb",
        "colab_type": "code",
        "colab": {
          "base_uri": "https://localhost:8080/",
          "height": 867
        },
        "outputId": "92026f39-3fff-470c-84dc-4fb5ff2f86b8"
      },
      "source": [
        "f = model.fit_generator(training_set,\n",
        "              validation_data = testing_set,\n",
        "              epochs=25,\n",
        "              steps_per_epoch = len(training_set),\n",
        "              validation_steps = len(testing_set)\n",
        "             )"
      ],
      "execution_count": 35,
      "outputs": [
        {
          "output_type": "stream",
          "text": [
            "Epoch 1/25\n",
            "164/164 [==============================] - 220s 1s/step - loss: 0.2144 - accuracy: 0.9112 - val_loss: 0.3125 - val_accuracy: 0.8814\n",
            "Epoch 2/25\n",
            "164/164 [==============================] - 184s 1s/step - loss: 0.1194 - accuracy: 0.9586 - val_loss: 0.0714 - val_accuracy: 0.8910\n",
            "Epoch 3/25\n",
            "164/164 [==============================] - 188s 1s/step - loss: 0.0958 - accuracy: 0.9660 - val_loss: 0.1772 - val_accuracy: 0.8638\n",
            "Epoch 4/25\n",
            "164/164 [==============================] - 189s 1s/step - loss: 0.0977 - accuracy: 0.9634 - val_loss: 0.3694 - val_accuracy: 0.8782\n",
            "Epoch 5/25\n",
            "164/164 [==============================] - 187s 1s/step - loss: 0.0656 - accuracy: 0.9794 - val_loss: 0.4022 - val_accuracy: 0.9183\n",
            "Epoch 6/25\n",
            "164/164 [==============================] - 187s 1s/step - loss: 0.0711 - accuracy: 0.9759 - val_loss: 0.6609 - val_accuracy: 0.7933\n",
            "Epoch 7/25\n",
            "164/164 [==============================] - 188s 1s/step - loss: 0.0725 - accuracy: 0.9750 - val_loss: 0.4409 - val_accuracy: 0.9247\n",
            "Epoch 8/25\n",
            "164/164 [==============================] - 189s 1s/step - loss: 0.0608 - accuracy: 0.9775 - val_loss: 0.7226 - val_accuracy: 0.7917\n",
            "Epoch 9/25\n",
            "164/164 [==============================] - 191s 1s/step - loss: 0.0497 - accuracy: 0.9819 - val_loss: 1.3738 - val_accuracy: 0.8542\n",
            "Epoch 10/25\n",
            "164/164 [==============================] - 193s 1s/step - loss: 0.0540 - accuracy: 0.9817 - val_loss: 0.5932 - val_accuracy: 0.9103\n",
            "Epoch 11/25\n",
            "164/164 [==============================] - 188s 1s/step - loss: 0.0595 - accuracy: 0.9798 - val_loss: 0.1580 - val_accuracy: 0.9135\n",
            "Epoch 12/25\n",
            "164/164 [==============================] - 189s 1s/step - loss: 0.0456 - accuracy: 0.9826 - val_loss: 0.6123 - val_accuracy: 0.8862\n",
            "Epoch 13/25\n",
            "164/164 [==============================] - 186s 1s/step - loss: 0.0473 - accuracy: 0.9834 - val_loss: 0.2368 - val_accuracy: 0.8926\n",
            "Epoch 14/25\n",
            "164/164 [==============================] - 188s 1s/step - loss: 0.0528 - accuracy: 0.9790 - val_loss: 0.3748 - val_accuracy: 0.7869\n",
            "Epoch 15/25\n",
            "164/164 [==============================] - 188s 1s/step - loss: 0.0602 - accuracy: 0.9759 - val_loss: 1.1269 - val_accuracy: 0.8686\n",
            "Epoch 16/25\n",
            "164/164 [==============================] - 187s 1s/step - loss: 0.0432 - accuracy: 0.9845 - val_loss: 0.2380 - val_accuracy: 0.9279\n",
            "Epoch 17/25\n",
            "164/164 [==============================] - 188s 1s/step - loss: 0.0562 - accuracy: 0.9794 - val_loss: 0.9650 - val_accuracy: 0.8221\n",
            "Epoch 18/25\n",
            "164/164 [==============================] - 189s 1s/step - loss: 0.0473 - accuracy: 0.9805 - val_loss: 0.3680 - val_accuracy: 0.9215\n",
            "Epoch 19/25\n",
            "164/164 [==============================] - 187s 1s/step - loss: 0.0376 - accuracy: 0.9870 - val_loss: 0.3199 - val_accuracy: 0.9343\n",
            "Epoch 20/25\n",
            "164/164 [==============================] - 189s 1s/step - loss: 0.0343 - accuracy: 0.9874 - val_loss: 0.0601 - val_accuracy: 0.9151\n",
            "Epoch 21/25\n",
            "164/164 [==============================] - 187s 1s/step - loss: 0.0516 - accuracy: 0.9807 - val_loss: 0.5704 - val_accuracy: 0.7772\n",
            "Epoch 22/25\n",
            "164/164 [==============================] - 189s 1s/step - loss: 0.0551 - accuracy: 0.9803 - val_loss: 0.1282 - val_accuracy: 0.9006\n",
            "Epoch 23/25\n",
            "164/164 [==============================] - 188s 1s/step - loss: 0.0444 - accuracy: 0.9819 - val_loss: 0.4606 - val_accuracy: 0.6747\n",
            "Epoch 24/25\n",
            "164/164 [==============================] - 187s 1s/step - loss: 0.0735 - accuracy: 0.9740 - val_loss: 0.3961 - val_accuracy: 0.9215\n",
            "Epoch 25/25\n",
            "164/164 [==============================] - 189s 1s/step - loss: 0.0467 - accuracy: 0.9840 - val_loss: 0.5377 - val_accuracy: 0.9135\n"
          ],
          "name": "stdout"
        }
      ]
    },
    {
      "cell_type": "code",
      "metadata": {
        "id": "_pMN5iES79cd",
        "colab_type": "code",
        "colab": {
          "base_uri": "https://localhost:8080/",
          "height": 500
        },
        "outputId": "67bcfff4-c98f-4a8e-e26c-573fc584ec2a"
      },
      "source": [
        "plt.figure(figsize = (20,8))\n",
        "plt.plot(f.history['loss'], label = 'Data loss')\n",
        "plt.plot(f.history['val_loss'] , label = 'Validation loss')\n",
        "plt.legend()"
      ],
      "execution_count": 36,
      "outputs": [
        {
          "output_type": "execute_result",
          "data": {
            "text/plain": [
              "<matplotlib.legend.Legend at 0x7fef26bae828>"
            ]
          },
          "metadata": {
            "tags": []
          },
          "execution_count": 36
        },
        {
          "output_type": "display_data",
          "data": {
            "image/png": "[encoded data removed]",
            "text/plain": [
              "<Figure size 1440x576 with 1 Axes>"
            ]
          },
          "metadata": {
            "tags": [],
            "needs_background": "light"
          }
        }
      ]
    },
    {
      "cell_type": "code",
      "metadata": {
        "id": "F2RuWrHeQ1qA",
        "colab_type": "code",
        "colab": {
          "base_uri": "https://localhost:8080/",
          "height": 500
        },
        "outputId": "ff6d43af-270d-4a3d-9166-7f0facc2dd70"
      },
      "source": [
        "plt.figure(figsize = (20,8))\n",
        "plt.plot(f.history['accuracy'], label = ' Data Accuracy')\n",
        "plt.plot(f.history['val_accuracy'] , label = 'Validation accuracy')\n",
        "plt.legend()"
      ],
      "execution_count": 37,
      "outputs": [
        {
          "output_type": "execute_result",
          "data": {
            "text/plain": [
              "<matplotlib.legend.Legend at 0x7fef28d76400>"
            ]
          },
          "metadata": {
            "tags": []
          },
          "execution_count": 37
        },
        {
          "output_type": "display_data",
          "data": {
            "image/png": "[encoded data removed]",
            "text/plain": [
              "<Figure size 1440x576 with 1 Axes>"
            ]
          },
          "metadata": {
            "tags": [],
            "needs_background": "light"
          }
        }
      ]
    },
    {
      "cell_type": "code",
      "metadata": {
        "id": "MZozoSJFiaK7",
        "colab_type": "code",
        "colab": {}
      },
      "source": [
        "from keras.preprocessing.image import image\n",
        "from keras.applications.inception_v3 import preprocess_input\n",
        "import math"
      ],
      "execution_count": 38,
      "outputs": []
    },
    {
      "cell_type": "code",
      "metadata": {
        "id": "RwfhJXgiirDv",
        "colab_type": "code",
        "colab": {
          "base_uri": "https://localhost:8080/",
          "height": 241
        },
        "outputId": "55d3dbbd-14bc-4f32-9e8b-9d64a51ee79b"
      },
      "source": [
        "img = image.load_img(loc+'/val/PNEUMONIA/person1950_bacteria_4881.jpeg', target_size=(224, 224))\n",
        "img"
      ],
      "execution_count": 39,
      "outputs": [
        {
          "output_type": "execute_result",
          "data": {
            "image/png": "[encoded data removed]",
            "text/plain": [
              "<PIL.Image.Image image mode=RGB size=224x224 at 0x7FEF28DC3898>"
            ]
          },
          "metadata": {
            "tags": []
          },
          "execution_count": 39
        }
      ]
    },
    {
      "cell_type": "code",
      "metadata": {
        "id": "WmPryA_SjzuZ",
        "colab_type": "code",
        "colab": {}
      },
      "source": [
        "img = image.img_to_array(img)\n",
        "img = np.expand_dims(img, axis=0)"
      ],
      "execution_count": 40,
      "outputs": []
    },
    {
      "cell_type": "code",
      "metadata": {
        "id": "4v7CBMPLkxCn",
        "colab_type": "code",
        "colab": {
          "base_uri": "https://localhost:8080/",
          "height": 51
        },
        "outputId": "e5cac0fb-4678-484c-e262-622da18a462f"
      },
      "source": [
        "img = preprocess_input(img)\n",
        "pred = model.predict(img)\n",
        "if pred[0][0]> pred[0][1]:\n",
        "  print('Congratulation Free from Pneumonia')\n",
        "else:\n",
        "  print('Sorry , You have Pneumonia. \\nPlease consult Doctor as soon as')\n"
      ],
      "execution_count": 41,
      "outputs": [
        {
          "output_type": "stream",
          "text": [
            "Sorry , You have Pneumonia. \n",
            "Please consult Doctor as soon as\n"
          ],
          "name": "stdout"
        }
      ]
    },
    {
      "cell_type": "code",
      "metadata": {
        "id": "qaKqBNCYk7gG",
        "colab_type": "code",
        "colab": {
          "base_uri": "https://localhost:8080/",
          "height": 714
        },
        "outputId": "4f0bb491-2e6a-4096-d261-f9ebb40a20b9"
      },
      "source": [
        "for i in os.listdir(loc+'/val'):\n",
        "  if i != '.DS_Store':\n",
        "    \n",
        "    for j in os.listdir(loc+'/val/'+i):\n",
        "      if j != '.DS_Store':\n",
        "        \n",
        "        img1 = image.load_img(loc+'/val/'+i+'/'+j, target_size=(224, 224))\n",
        "        \n",
        "        x = image.img_to_array(img1)\n",
        "        \n",
        "        x = np.expand_dims(x, axis=0)\n",
        "        \n",
        "        image_data = preprocess_input(x)\n",
        "        classes = model.predict(image_data)\n",
        "        if classes[0][0]> classes[0][1]:\n",
        "            print(i, 'Congratulation Free from Pneumonia\\n')\n",
        "        else:\n",
        "            print(i, 'Sorry, You have Pneumonia. \\nPlease consult Doctor as soon as\\n')\n"
      ],
      "execution_count": 42,
      "outputs": [
        {
          "output_type": "stream",
          "text": [
            "PNEUMONIA Sorry, You have Pneumonia. \n",
            "Please consult Doctor as soon as\n",
            "\n",
            "PNEUMONIA Sorry, You have Pneumonia. \n",
            "Please consult Doctor as soon as\n",
            "\n",
            "PNEUMONIA Sorry, You have Pneumonia. \n",
            "Please consult Doctor as soon as\n",
            "\n",
            "PNEUMONIA Congratulation Free from Pneumonia\n",
            "\n",
            "PNEUMONIA Sorry, You have Pneumonia. \n",
            "Please consult Doctor as soon as\n",
            "\n",
            "PNEUMONIA Sorry, You have Pneumonia. \n",
            "Please consult Doctor as soon as\n",
            "\n",
            "PNEUMONIA Sorry, You have Pneumonia. \n",
            "Please consult Doctor as soon as\n",
            "\n",
            "PNEUMONIA Sorry, You have Pneumonia. \n",
            "Please consult Doctor as soon as\n",
            "\n",
            "NORMAL Sorry, You have Pneumonia. \n",
            "Please consult Doctor as soon as\n",
            "\n",
            "NORMAL Congratulation Free from Pneumonia\n",
            "\n",
            "NORMAL Congratulation Free from Pneumonia\n",
            "\n",
            "NORMAL Congratulation Free from Pneumonia\n",
            "\n",
            "NORMAL Congratulation Free from Pneumonia\n",
            "\n",
            "NORMAL Sorry, You have Pneumonia. \n",
            "Please consult Doctor as soon as\n",
            "\n",
            "NORMAL Congratulation Free from Pneumonia\n",
            "\n",
            "NORMAL Congratulation Free from Pneumonia\n",
            "\n"
          ],
          "name": "stdout"
        }
      ]
    },
    {
      "cell_type": "code",
      "metadata": {
        "id": "C5JJmGHFsKFN",
        "colab_type": "code",
        "colab": {}
      },
      "source": [
        "import torch\n",
        "name  = 'Pneumonia_model.h5'\n",
        "\n",
        "path = loc+name\n",
        "\n",
        "\n",
        "model.save(path)"
      ],
      "execution_count": 43,
      "outputs": []
    },
    {
      "cell_type": "markdown",
      "metadata": {
        "id": "FvjKljmK-4X8",
        "colab_type": "text"
      },
      "source": [
        "# Resnet 50\n"
      ]
    },
    {
      "cell_type": "code",
      "metadata": {
        "id": "KthLW0pmlkCr",
        "colab_type": "code",
        "colab": {}
      },
      "source": [
        "from keras.layers import ZeroPadding2D\n",
        "from keras.layers import Conv2D, BatchNormalization, DepthwiseConv2D, ReLU\n",
        "from keras.applications.resnet50 import ResNet50\n",
        "from keras.layers import Dense\n",
        "from keras.layers import GlobalAveragePooling2D, Dropout\n",
        "from keras.optimizers import Adam\n",
        "from keras.preprocessing.image import ImageDataGenerator"
      ],
      "execution_count": null,
      "outputs": []
    },
    {
      "cell_type": "code",
      "metadata": {
        "id": "HlyWiVZqAfdf",
        "colab_type": "code",
        "colab": {
          "base_uri": "https://localhost:8080/",
          "height": 105
        },
        "outputId": "d4f6413a-45ee-42d0-9d27-91497eceb421"
      },
      "source": [
        "inc_model = ResNet50(input_shape = (224, 224, 3), weights = 'imagenet', include_top=False)"
      ],
      "execution_count": null,
      "outputs": [
        {
          "output_type": "stream",
          "text": [
            "/usr/local/lib/python3.6/dist-packages/keras_applications/resnet50.py:265: UserWarning: The output shape of `ResNet50(include_top=False)` has been changed since Keras 2.2.0.\n",
            "  warnings.warn('The output shape of `ResNet50(include_top=False)` '\n"
          ],
          "name": "stderr"
        },
        {
          "output_type": "stream",
          "text": [
            "Downloading data from https://github.com/fchollet/deep-learning-models/releases/download/v0.2/resnet50_weights_tf_dim_ordering_tf_kernels_notop.h5\n",
            "94658560/94653016 [==============================] - 8s 0us/step\n"
          ],
          "name": "stdout"
        }
      ]
    },
    {
      "cell_type": "code",
      "metadata": {
        "id": "N5br0R_OA1Rx",
        "colab_type": "code",
        "colab": {
          "base_uri": "https://localhost:8080/",
          "height": 34
        },
        "outputId": "a73bc135-a3ab-4ac1-e523-c299e265f533"
      },
      "source": [
        "x = inc_model.output\n",
        "x = GlobalAveragePooling2D()(x)\n",
        "x = Dense(1024, activation='relu')(x)\n",
        "x = Dense(512, activation='relu')(x)\n",
        "out = Dense(2, activation='softmax')(x)\n",
        "out"
      ],
      "execution_count": null,
      "outputs": [
        {
          "output_type": "execute_result",
          "data": {
            "text/plain": [
              "<tf.Tensor 'dense_6/Softmax:0' shape=(None, 2) dtype=float32>"
            ]
          },
          "metadata": {
            "tags": []
          },
          "execution_count": 16
        }
      ]
    },
    {
      "cell_type": "code",
      "metadata": {
        "id": "iPyGr2mPIL39",
        "colab_type": "code",
        "colab": {
          "base_uri": "https://localhost:8080/",
          "height": 1000
        },
        "outputId": "6872d8a4-b3ca-4571-bf8f-3b15b29632ad"
      },
      "source": [
        "model = Model(input = inc_model.input, output = out)\n",
        "model.summary()"
      ],
      "execution_count": null,
      "outputs": [
        {
          "output_type": "stream",
          "text": [
            "Model: \"model_1\"\n",
            "__________________________________________________________________________________________________\n",
            "Layer (type)                    Output Shape         Param #     Connected to                     \n",
            "==================================================================================================\n",
            "input_1 (InputLayer)            (None, 224, 224, 3)  0                                            \n",
            "__________________________________________________________________________________________________\n",
            "conv1_pad (ZeroPadding2D)       (None, 230, 230, 3)  0           input_1[0][0]                    \n",
            "__________________________________________________________________________________________________\n",
            "conv1 (Conv2D)                  (None, 112, 112, 64) 9472        conv1_pad[0][0]                  \n",
            "__________________________________________________________________________________________________\n",
            "bn_conv1 (BatchNormalization)   (None, 112, 112, 64) 256         conv1[0][0]                      \n",
            "__________________________________________________________________________________________________\n",
            "activation_1 (Activation)       (None, 112, 112, 64) 0           bn_conv1[0][0]                   \n",
            "__________________________________________________________________________________________________\n",
            "pool1_pad (ZeroPadding2D)       (None, 114, 114, 64) 0           activation_1[0][0]               \n",
            "__________________________________________________________________________________________________\n",
            "max_pooling2d_1 (MaxPooling2D)  (None, 56, 56, 64)   0           pool1_pad[0][0]                  \n",
            "__________________________________________________________________________________________________\n",
            "res2a_branch2a (Conv2D)         (None, 56, 56, 64)   4160        max_pooling2d_1[0][0]            \n",
            "__________________________________________________________________________________________________\n",
            "bn2a_branch2a (BatchNormalizati (None, 56, 56, 64)   256         res2a_branch2a[0][0]             \n",
            "__________________________________________________________________________________________________\n",
            "activation_2 (Activation)       (None, 56, 56, 64)   0           bn2a_branch2a[0][0]              \n",
            "__________________________________________________________________________________________________\n",
            "res2a_branch2b (Conv2D)         (None, 56, 56, 64)   36928       activation_2[0][0]               \n",
            "__________________________________________________________________________________________________\n",
            "bn2a_branch2b (BatchNormalizati (None, 56, 56, 64)   256         res2a_branch2b[0][0]             \n",
            "__________________________________________________________________________________________________\n",
            "activation_3 (Activation)       (None, 56, 56, 64)   0           bn2a_branch2b[0][0]              \n",
            "__________________________________________________________________________________________________\n",
            "res2a_branch2c (Conv2D)         (None, 56, 56, 256)  16640       activation_3[0][0]               \n",
            "__________________________________________________________________________________________________\n",
            "res2a_branch1 (Conv2D)          (None, 56, 56, 256)  16640       max_pooling2d_1[0][0]            \n",
            "__________________________________________________________________________________________________\n",
            "bn2a_branch2c (BatchNormalizati (None, 56, 56, 256)  1024        res2a_branch2c[0][0]             \n",
            "__________________________________________________________________________________________________\n",
            "bn2a_branch1 (BatchNormalizatio (None, 56, 56, 256)  1024        res2a_branch1[0][0]              \n",
            "__________________________________________________________________________________________________\n",
            "add_1 (Add)                     (None, 56, 56, 256)  0           bn2a_branch2c[0][0]              \n",
            "                                                                 bn2a_branch1[0][0]               \n",
            "__________________________________________________________________________________________________\n",
            "activation_4 (Activation)       (None, 56, 56, 256)  0           add_1[0][0]                      \n",
            "__________________________________________________________________________________________________\n",
            "res2b_branch2a (Conv2D)         (None, 56, 56, 64)   16448       activation_4[0][0]               \n",
            "__________________________________________________________________________________________________\n",
            "bn2b_branch2a (BatchNormalizati (None, 56, 56, 64)   256         res2b_branch2a[0][0]             \n",
            "__________________________________________________________________________________________________\n",
            "activation_5 (Activation)       (None, 56, 56, 64)   0           bn2b_branch2a[0][0]              \n",
            "__________________________________________________________________________________________________\n",
            "res2b_branch2b (Conv2D)         (None, 56, 56, 64)   36928       activation_5[0][0]               \n",
            "__________________________________________________________________________________________________\n",
            "bn2b_branch2b (BatchNormalizati (None, 56, 56, 64)   256         res2b_branch2b[0][0]             \n",
            "__________________________________________________________________________________________________\n",
            "activation_6 (Activation)       (None, 56, 56, 64)   0           bn2b_branch2b[0][0]              \n",
            "__________________________________________________________________________________________________\n",
            "res2b_branch2c (Conv2D)         (None, 56, 56, 256)  16640       activation_6[0][0]               \n",
            "__________________________________________________________________________________________________\n",
            "bn2b_branch2c (BatchNormalizati (None, 56, 56, 256)  1024        res2b_branch2c[0][0]             \n",
            "__________________________________________________________________________________________________\n",
            "add_2 (Add)                     (None, 56, 56, 256)  0           bn2b_branch2c[0][0]              \n",
            "                                                                 activation_4[0][0]               \n",
            "__________________________________________________________________________________________________\n",
            "activation_7 (Activation)       (None, 56, 56, 256)  0           add_2[0][0]                      \n",
            "__________________________________________________________________________________________________\n",
            "res2c_branch2a (Conv2D)         (None, 56, 56, 64)   16448       activation_7[0][0]               \n",
            "__________________________________________________________________________________________________\n",
            "bn2c_branch2a (BatchNormalizati (None, 56, 56, 64)   256         res2c_branch2a[0][0]             \n",
            "__________________________________________________________________________________________________\n",
            "activation_8 (Activation)       (None, 56, 56, 64)   0           bn2c_branch2a[0][0]              \n",
            "__________________________________________________________________________________________________\n",
            "res2c_branch2b (Conv2D)         (None, 56, 56, 64)   36928       activation_8[0][0]               \n",
            "__________________________________________________________________________________________________\n",
            "bn2c_branch2b (BatchNormalizati (None, 56, 56, 64)   256         res2c_branch2b[0][0]             \n",
            "__________________________________________________________________________________________________\n",
            "activation_9 (Activation)       (None, 56, 56, 64)   0           bn2c_branch2b[0][0]              \n",
            "__________________________________________________________________________________________________\n",
            "res2c_branch2c (Conv2D)         (None, 56, 56, 256)  16640       activation_9[0][0]               \n",
            "__________________________________________________________________________________________________\n",
            "bn2c_branch2c (BatchNormalizati (None, 56, 56, 256)  1024        res2c_branch2c[0][0]             \n",
            "__________________________________________________________________________________________________\n",
            "add_3 (Add)                     (None, 56, 56, 256)  0           bn2c_branch2c[0][0]              \n",
            "                                                                 activation_7[0][0]               \n",
            "__________________________________________________________________________________________________\n",
            "activation_10 (Activation)      (None, 56, 56, 256)  0           add_3[0][0]                      \n",
            "__________________________________________________________________________________________________\n",
            "res3a_branch2a (Conv2D)         (None, 28, 28, 128)  32896       activation_10[0][0]              \n",
            "__________________________________________________________________________________________________\n",
            "bn3a_branch2a (BatchNormalizati (None, 28, 28, 128)  512         res3a_branch2a[0][0]             \n",
            "__________________________________________________________________________________________________\n",
            "activation_11 (Activation)      (None, 28, 28, 128)  0           bn3a_branch2a[0][0]              \n",
            "__________________________________________________________________________________________________\n",
            "res3a_branch2b (Conv2D)         (None, 28, 28, 128)  147584      activation_11[0][0]              \n",
            "__________________________________________________________________________________________________\n",
            "bn3a_branch2b (BatchNormalizati (None, 28, 28, 128)  512         res3a_branch2b[0][0]             \n",
            "__________________________________________________________________________________________________\n",
            "activation_12 (Activation)      (None, 28, 28, 128)  0           bn3a_branch2b[0][0]              \n",
            "__________________________________________________________________________________________________\n",
            "res3a_branch2c (Conv2D)         (None, 28, 28, 512)  66048       activation_12[0][0]              \n",
            "__________________________________________________________________________________________________\n",
            "res3a_branch1 (Conv2D)          (None, 28, 28, 512)  131584      activation_10[0][0]              \n",
            "__________________________________________________________________________________________________\n",
            "bn3a_branch2c (BatchNormalizati (None, 28, 28, 512)  2048        res3a_branch2c[0][0]             \n",
            "__________________________________________________________________________________________________\n",
            "bn3a_branch1 (BatchNormalizatio (None, 28, 28, 512)  2048        res3a_branch1[0][0]              \n",
            "__________________________________________________________________________________________________\n",
            "add_4 (Add)                     (None, 28, 28, 512)  0           bn3a_branch2c[0][0]              \n",
            "                                                                 bn3a_branch1[0][0]               \n",
            "__________________________________________________________________________________________________\n",
            "activation_13 (Activation)      (None, 28, 28, 512)  0           add_4[0][0]                      \n",
            "__________________________________________________________________________________________________\n",
            "res3b_branch2a (Conv2D)         (None, 28, 28, 128)  65664       activation_13[0][0]              \n",
            "__________________________________________________________________________________________________\n",
            "bn3b_branch2a (BatchNormalizati (None, 28, 28, 128)  512         res3b_branch2a[0][0]             \n",
            "__________________________________________________________________________________________________\n",
            "activation_14 (Activation)      (None, 28, 28, 128)  0           bn3b_branch2a[0][0]              \n",
            "__________________________________________________________________________________________________\n",
            "res3b_branch2b (Conv2D)         (None, 28, 28, 128)  147584      activation_14[0][0]              \n",
            "__________________________________________________________________________________________________\n",
            "bn3b_branch2b (BatchNormalizati (None, 28, 28, 128)  512         res3b_branch2b[0][0]             \n",
            "__________________________________________________________________________________________________\n",
            "activation_15 (Activation)      (None, 28, 28, 128)  0           bn3b_branch2b[0][0]              \n",
            "__________________________________________________________________________________________________\n",
            "res3b_branch2c (Conv2D)         (None, 28, 28, 512)  66048       activation_15[0][0]              \n",
            "__________________________________________________________________________________________________\n",
            "bn3b_branch2c (BatchNormalizati (None, 28, 28, 512)  2048        res3b_branch2c[0][0]             \n",
            "__________________________________________________________________________________________________\n",
            "add_5 (Add)                     (None, 28, 28, 512)  0           bn3b_branch2c[0][0]              \n",
            "                                                                 activation_13[0][0]              \n",
            "__________________________________________________________________________________________________\n",
            "activation_16 (Activation)      (None, 28, 28, 512)  0           add_5[0][0]                      \n",
            "__________________________________________________________________________________________________\n",
            "res3c_branch2a (Conv2D)         (None, 28, 28, 128)  65664       activation_16[0][0]              \n",
            "__________________________________________________________________________________________________\n",
            "bn3c_branch2a (BatchNormalizati (None, 28, 28, 128)  512         res3c_branch2a[0][0]             \n",
            "__________________________________________________________________________________________________\n",
            "activation_17 (Activation)      (None, 28, 28, 128)  0           bn3c_branch2a[0][0]              \n",
            "__________________________________________________________________________________________________\n",
            "res3c_branch2b (Conv2D)         (None, 28, 28, 128)  147584      activation_17[0][0]              \n",
            "__________________________________________________________________________________________________\n",
            "bn3c_branch2b (BatchNormalizati (None, 28, 28, 128)  512         res3c_branch2b[0][0]             \n",
            "__________________________________________________________________________________________________\n",
            "activation_18 (Activation)      (None, 28, 28, 128)  0           bn3c_branch2b[0][0]              \n",
            "__________________________________________________________________________________________________\n",
            "res3c_branch2c (Conv2D)         (None, 28, 28, 512)  66048       activation_18[0][0]              \n",
            "__________________________________________________________________________________________________\n",
            "bn3c_branch2c (BatchNormalizati (None, 28, 28, 512)  2048        res3c_branch2c[0][0]             \n",
            "__________________________________________________________________________________________________\n",
            "add_6 (Add)                     (None, 28, 28, 512)  0           bn3c_branch2c[0][0]              \n",
            "                                                                 activation_16[0][0]              \n",
            "__________________________________________________________________________________________________\n",
            "activation_19 (Activation)      (None, 28, 28, 512)  0           add_6[0][0]                      \n",
            "__________________________________________________________________________________________________\n",
            "res3d_branch2a (Conv2D)         (None, 28, 28, 128)  65664       activation_19[0][0]              \n",
            "__________________________________________________________________________________________________\n",
            "bn3d_branch2a (BatchNormalizati (None, 28, 28, 128)  512         res3d_branch2a[0][0]             \n",
            "__________________________________________________________________________________________________\n",
            "activation_20 (Activation)      (None, 28, 28, 128)  0           bn3d_branch2a[0][0]              \n",
            "__________________________________________________________________________________________________\n",
            "res3d_branch2b (Conv2D)         (None, 28, 28, 128)  147584      activation_20[0][0]              \n",
            "__________________________________________________________________________________________________\n",
            "bn3d_branch2b (BatchNormalizati (None, 28, 28, 128)  512         res3d_branch2b[0][0]             \n",
            "__________________________________________________________________________________________________\n",
            "activation_21 (Activation)      (None, 28, 28, 128)  0           bn3d_branch2b[0][0]              \n",
            "__________________________________________________________________________________________________\n",
            "res3d_branch2c (Conv2D)         (None, 28, 28, 512)  66048       activation_21[0][0]              \n",
            "__________________________________________________________________________________________________\n",
            "bn3d_branch2c (BatchNormalizati (None, 28, 28, 512)  2048        res3d_branch2c[0][0]             \n",
            "__________________________________________________________________________________________________\n",
            "add_7 (Add)                     (None, 28, 28, 512)  0           bn3d_branch2c[0][0]              \n",
            "                                                                 activation_19[0][0]              \n",
            "__________________________________________________________________________________________________\n",
            "activation_22 (Activation)      (None, 28, 28, 512)  0           add_7[0][0]                      \n",
            "__________________________________________________________________________________________________\n",
            "res4a_branch2a (Conv2D)         (None, 14, 14, 256)  131328      activation_22[0][0]              \n",
            "__________________________________________________________________________________________________\n",
            "bn4a_branch2a (BatchNormalizati (None, 14, 14, 256)  1024        res4a_branch2a[0][0]             \n",
            "__________________________________________________________________________________________________\n",
            "activation_23 (Activation)      (None, 14, 14, 256)  0           bn4a_branch2a[0][0]              \n",
            "__________________________________________________________________________________________________\n",
            "res4a_branch2b (Conv2D)         (None, 14, 14, 256)  590080      activation_23[0][0]              \n",
            "__________________________________________________________________________________________________\n",
            "bn4a_branch2b (BatchNormalizati (None, 14, 14, 256)  1024        res4a_branch2b[0][0]             \n",
            "__________________________________________________________________________________________________\n",
            "activation_24 (Activation)      (None, 14, 14, 256)  0           bn4a_branch2b[0][0]              \n",
            "__________________________________________________________________________________________________\n",
            "res4a_branch2c (Conv2D)         (None, 14, 14, 1024) 263168      activation_24[0][0]              \n",
            "__________________________________________________________________________________________________\n",
            "res4a_branch1 (Conv2D)          (None, 14, 14, 1024) 525312      activation_22[0][0]              \n",
            "__________________________________________________________________________________________________\n",
            "bn4a_branch2c (BatchNormalizati (None, 14, 14, 1024) 4096        res4a_branch2c[0][0]             \n",
            "__________________________________________________________________________________________________\n",
            "bn4a_branch1 (BatchNormalizatio (None, 14, 14, 1024) 4096        res4a_branch1[0][0]              \n",
            "__________________________________________________________________________________________________\n",
            "add_8 (Add)                     (None, 14, 14, 1024) 0           bn4a_branch2c[0][0]              \n",
            "                                                                 bn4a_branch1[0][0]               \n",
            "__________________________________________________________________________________________________\n",
            "activation_25 (Activation)      (None, 14, 14, 1024) 0           add_8[0][0]                      \n",
            "__________________________________________________________________________________________________\n",
            "res4b_branch2a (Conv2D)         (None, 14, 14, 256)  262400      activation_25[0][0]              \n",
            "__________________________________________________________________________________________________\n",
            "bn4b_branch2a (BatchNormalizati (None, 14, 14, 256)  1024        res4b_branch2a[0][0]             \n",
            "__________________________________________________________________________________________________\n",
            "activation_26 (Activation)      (None, 14, 14, 256)  0           bn4b_branch2a[0][0]              \n",
            "__________________________________________________________________________________________________\n",
            "res4b_branch2b (Conv2D)         (None, 14, 14, 256)  590080      activation_26[0][0]              \n",
            "__________________________________________________________________________________________________\n",
            "bn4b_branch2b (BatchNormalizati (None, 14, 14, 256)  1024        res4b_branch2b[0][0]             \n",
            "__________________________________________________________________________________________________\n",
            "activation_27 (Activation)      (None, 14, 14, 256)  0           bn4b_branch2b[0][0]              \n",
            "__________________________________________________________________________________________________\n",
            "res4b_branch2c (Conv2D)         (None, 14, 14, 1024) 263168      activation_27[0][0]              \n",
            "__________________________________________________________________________________________________\n",
            "bn4b_branch2c (BatchNormalizati (None, 14, 14, 1024) 4096        res4b_branch2c[0][0]             \n",
            "__________________________________________________________________________________________________\n",
            "add_9 (Add)                     (None, 14, 14, 1024) 0           bn4b_branch2c[0][0]              \n",
            "                                                                 activation_25[0][0]              \n",
            "__________________________________________________________________________________________________\n",
            "activation_28 (Activation)      (None, 14, 14, 1024) 0           add_9[0][0]                      \n",
            "__________________________________________________________________________________________________\n",
            "res4c_branch2a (Conv2D)         (None, 14, 14, 256)  262400      activation_28[0][0]              \n",
            "__________________________________________________________________________________________________\n",
            "bn4c_branch2a (BatchNormalizati (None, 14, 14, 256)  1024        res4c_branch2a[0][0]             \n",
            "__________________________________________________________________________________________________\n",
            "activation_29 (Activation)      (None, 14, 14, 256)  0           bn4c_branch2a[0][0]              \n",
            "__________________________________________________________________________________________________\n",
            "res4c_branch2b (Conv2D)         (None, 14, 14, 256)  590080      activation_29[0][0]              \n",
            "__________________________________________________________________________________________________\n",
            "bn4c_branch2b (BatchNormalizati (None, 14, 14, 256)  1024        res4c_branch2b[0][0]             \n",
            "__________________________________________________________________________________________________\n",
            "activation_30 (Activation)      (None, 14, 14, 256)  0           bn4c_branch2b[0][0]              \n",
            "__________________________________________________________________________________________________\n",
            "res4c_branch2c (Conv2D)         (None, 14, 14, 1024) 263168      activation_30[0][0]              \n",
            "__________________________________________________________________________________________________\n",
            "bn4c_branch2c (BatchNormalizati (None, 14, 14, 1024) 4096        res4c_branch2c[0][0]             \n",
            "__________________________________________________________________________________________________\n",
            "add_10 (Add)                    (None, 14, 14, 1024) 0           bn4c_branch2c[0][0]              \n",
            "                                                                 activation_28[0][0]              \n",
            "__________________________________________________________________________________________________\n",
            "activation_31 (Activation)      (None, 14, 14, 1024) 0           add_10[0][0]                     \n",
            "__________________________________________________________________________________________________\n",
            "res4d_branch2a (Conv2D)         (None, 14, 14, 256)  262400      activation_31[0][0]              \n",
            "__________________________________________________________________________________________________\n",
            "bn4d_branch2a (BatchNormalizati (None, 14, 14, 256)  1024        res4d_branch2a[0][0]             \n",
            "__________________________________________________________________________________________________\n",
            "activation_32 (Activation)      (None, 14, 14, 256)  0           bn4d_branch2a[0][0]              \n",
            "__________________________________________________________________________________________________\n",
            "res4d_branch2b (Conv2D)         (None, 14, 14, 256)  590080      activation_32[0][0]              \n",
            "__________________________________________________________________________________________________\n",
            "bn4d_branch2b (BatchNormalizati (None, 14, 14, 256)  1024        res4d_branch2b[0][0]             \n",
            "__________________________________________________________________________________________________\n",
            "activation_33 (Activation)      (None, 14, 14, 256)  0           bn4d_branch2b[0][0]              \n",
            "__________________________________________________________________________________________________\n",
            "res4d_branch2c (Conv2D)         (None, 14, 14, 1024) 263168      activation_33[0][0]              \n",
            "__________________________________________________________________________________________________\n",
            "bn4d_branch2c (BatchNormalizati (None, 14, 14, 1024) 4096        res4d_branch2c[0][0]             \n",
            "__________________________________________________________________________________________________\n",
            "add_11 (Add)                    (None, 14, 14, 1024) 0           bn4d_branch2c[0][0]              \n",
            "                                                                 activation_31[0][0]              \n",
            "__________________________________________________________________________________________________\n",
            "activation_34 (Activation)      (None, 14, 14, 1024) 0           add_11[0][0]                     \n",
            "__________________________________________________________________________________________________\n",
            "res4e_branch2a (Conv2D)         (None, 14, 14, 256)  262400      activation_34[0][0]              \n",
            "__________________________________________________________________________________________________\n",
            "bn4e_branch2a (BatchNormalizati (None, 14, 14, 256)  1024        res4e_branch2a[0][0]             \n",
            "__________________________________________________________________________________________________\n",
            "activation_35 (Activation)      (None, 14, 14, 256)  0           bn4e_branch2a[0][0]              \n",
            "__________________________________________________________________________________________________\n",
            "res4e_branch2b (Conv2D)         (None, 14, 14, 256)  590080      activation_35[0][0]              \n",
            "__________________________________________________________________________________________________\n",
            "bn4e_branch2b (BatchNormalizati (None, 14, 14, 256)  1024        res4e_branch2b[0][0]             \n",
            "__________________________________________________________________________________________________\n",
            "activation_36 (Activation)      (None, 14, 14, 256)  0           bn4e_branch2b[0][0]              \n",
            "__________________________________________________________________________________________________\n",
            "res4e_branch2c (Conv2D)         (None, 14, 14, 1024) 263168      activation_36[0][0]              \n",
            "__________________________________________________________________________________________________\n",
            "bn4e_branch2c (BatchNormalizati (None, 14, 14, 1024) 4096        res4e_branch2c[0][0]             \n",
            "__________________________________________________________________________________________________\n",
            "add_12 (Add)                    (None, 14, 14, 1024) 0           bn4e_branch2c[0][0]              \n",
            "                                                                 activation_34[0][0]              \n",
            "__________________________________________________________________________________________________\n",
            "activation_37 (Activation)      (None, 14, 14, 1024) 0           add_12[0][0]                     \n",
            "__________________________________________________________________________________________________\n",
            "res4f_branch2a (Conv2D)         (None, 14, 14, 256)  262400      activation_37[0][0]              \n",
            "__________________________________________________________________________________________________\n",
            "bn4f_branch2a (BatchNormalizati (None, 14, 14, 256)  1024        res4f_branch2a[0][0]             \n",
            "__________________________________________________________________________________________________\n",
            "activation_38 (Activation)      (None, 14, 14, 256)  0           bn4f_branch2a[0][0]              \n",
            "__________________________________________________________________________________________________\n",
            "res4f_branch2b (Conv2D)         (None, 14, 14, 256)  590080      activation_38[0][0]              \n",
            "__________________________________________________________________________________________________\n",
            "bn4f_branch2b (BatchNormalizati (None, 14, 14, 256)  1024        res4f_branch2b[0][0]             \n",
            "__________________________________________________________________________________________________\n",
            "activation_39 (Activation)      (None, 14, 14, 256)  0           bn4f_branch2b[0][0]              \n",
            "__________________________________________________________________________________________________\n",
            "res4f_branch2c (Conv2D)         (None, 14, 14, 1024) 263168      activation_39[0][0]              \n",
            "__________________________________________________________________________________________________\n",
            "bn4f_branch2c (BatchNormalizati (None, 14, 14, 1024) 4096        res4f_branch2c[0][0]             \n",
            "__________________________________________________________________________________________________\n",
            "add_13 (Add)                    (None, 14, 14, 1024) 0           bn4f_branch2c[0][0]              \n",
            "                                                                 activation_37[0][0]              \n",
            "__________________________________________________________________________________________________\n",
            "activation_40 (Activation)      (None, 14, 14, 1024) 0           add_13[0][0]                     \n",
            "__________________________________________________________________________________________________\n",
            "res5a_branch2a (Conv2D)         (None, 7, 7, 512)    524800      activation_40[0][0]              \n",
            "__________________________________________________________________________________________________\n",
            "bn5a_branch2a (BatchNormalizati (None, 7, 7, 512)    2048        res5a_branch2a[0][0]             \n",
            "__________________________________________________________________________________________________\n",
            "activation_41 (Activation)      (None, 7, 7, 512)    0           bn5a_branch2a[0][0]              \n",
            "__________________________________________________________________________________________________\n",
            "res5a_branch2b (Conv2D)         (None, 7, 7, 512)    2359808     activation_41[0][0]              \n",
            "__________________________________________________________________________________________________\n",
            "bn5a_branch2b (BatchNormalizati (None, 7, 7, 512)    2048        res5a_branch2b[0][0]             \n",
            "__________________________________________________________________________________________________\n",
            "activation_42 (Activation)      (None, 7, 7, 512)    0           bn5a_branch2b[0][0]              \n",
            "__________________________________________________________________________________________________\n",
            "res5a_branch2c (Conv2D)         (None, 7, 7, 2048)   1050624     activation_42[0][0]              \n",
            "__________________________________________________________________________________________________\n",
            "res5a_branch1 (Conv2D)          (None, 7, 7, 2048)   2099200     activation_40[0][0]              \n",
            "__________________________________________________________________________________________________\n",
            "bn5a_branch2c (BatchNormalizati (None, 7, 7, 2048)   8192        res5a_branch2c[0][0]             \n",
            "__________________________________________________________________________________________________\n",
            "bn5a_branch1 (BatchNormalizatio (None, 7, 7, 2048)   8192        res5a_branch1[0][0]              \n",
            "__________________________________________________________________________________________________\n",
            "add_14 (Add)                    (None, 7, 7, 2048)   0           bn5a_branch2c[0][0]              \n",
            "                                                                 bn5a_branch1[0][0]               \n",
            "__________________________________________________________________________________________________\n",
            "activation_43 (Activation)      (None, 7, 7, 2048)   0           add_14[0][0]                     \n",
            "__________________________________________________________________________________________________\n",
            "res5b_branch2a (Conv2D)         (None, 7, 7, 512)    1049088     activation_43[0][0]              \n",
            "__________________________________________________________________________________________________\n",
            "bn5b_branch2a (BatchNormalizati (None, 7, 7, 512)    2048        res5b_branch2a[0][0]             \n",
            "__________________________________________________________________________________________________\n",
            "activation_44 (Activation)      (None, 7, 7, 512)    0           bn5b_branch2a[0][0]              \n",
            "__________________________________________________________________________________________________\n",
            "res5b_branch2b (Conv2D)         (None, 7, 7, 512)    2359808     activation_44[0][0]              \n",
            "__________________________________________________________________________________________________\n",
            "bn5b_branch2b (BatchNormalizati (None, 7, 7, 512)    2048        res5b_branch2b[0][0]             \n",
            "__________________________________________________________________________________________________\n",
            "activation_45 (Activation)      (None, 7, 7, 512)    0           bn5b_branch2b[0][0]              \n",
            "__________________________________________________________________________________________________\n",
            "res5b_branch2c (Conv2D)         (None, 7, 7, 2048)   1050624     activation_45[0][0]              \n",
            "__________________________________________________________________________________________________\n",
            "bn5b_branch2c (BatchNormalizati (None, 7, 7, 2048)   8192        res5b_branch2c[0][0]             \n",
            "__________________________________________________________________________________________________\n",
            "add_15 (Add)                    (None, 7, 7, 2048)   0           bn5b_branch2c[0][0]              \n",
            "                                                                 activation_43[0][0]              \n",
            "__________________________________________________________________________________________________\n",
            "activation_46 (Activation)      (None, 7, 7, 2048)   0           add_15[0][0]                     \n",
            "__________________________________________________________________________________________________\n",
            "res5c_branch2a (Conv2D)         (None, 7, 7, 512)    1049088     activation_46[0][0]              \n",
            "__________________________________________________________________________________________________\n",
            "bn5c_branch2a (BatchNormalizati (None, 7, 7, 512)    2048        res5c_branch2a[0][0]             \n",
            "__________________________________________________________________________________________________\n",
            "activation_47 (Activation)      (None, 7, 7, 512)    0           bn5c_branch2a[0][0]              \n",
            "__________________________________________________________________________________________________\n",
            "res5c_branch2b (Conv2D)         (None, 7, 7, 512)    2359808     activation_47[0][0]              \n",
            "__________________________________________________________________________________________________\n",
            "bn5c_branch2b (BatchNormalizati (None, 7, 7, 512)    2048        res5c_branch2b[0][0]             \n",
            "__________________________________________________________________________________________________\n",
            "activation_48 (Activation)      (None, 7, 7, 512)    0           bn5c_branch2b[0][0]              \n",
            "__________________________________________________________________________________________________\n",
            "res5c_branch2c (Conv2D)         (None, 7, 7, 2048)   1050624     activation_48[0][0]              \n",
            "__________________________________________________________________________________________________\n",
            "bn5c_branch2c (BatchNormalizati (None, 7, 7, 2048)   8192        res5c_branch2c[0][0]             \n",
            "__________________________________________________________________________________________________\n",
            "add_16 (Add)                    (None, 7, 7, 2048)   0           bn5c_branch2c[0][0]              \n",
            "                                                                 activation_46[0][0]              \n",
            "__________________________________________________________________________________________________\n",
            "activation_49 (Activation)      (None, 7, 7, 2048)   0           add_16[0][0]                     \n",
            "__________________________________________________________________________________________________\n",
            "global_average_pooling2d_2 (Glo (None, 2048)         0           activation_49[0][0]              \n",
            "__________________________________________________________________________________________________\n",
            "dense_4 (Dense)                 (None, 1024)         2098176     global_average_pooling2d_2[0][0] \n",
            "__________________________________________________________________________________________________\n",
            "dense_5 (Dense)                 (None, 512)          524800      dense_4[0][0]                    \n",
            "__________________________________________________________________________________________________\n",
            "dense_6 (Dense)                 (None, 2)            1026        dense_5[0][0]                    \n",
            "==================================================================================================\n",
            "Total params: 26,211,714\n",
            "Trainable params: 26,158,594\n",
            "Non-trainable params: 53,120\n",
            "__________________________________________________________________________________________________\n"
          ],
          "name": "stdout"
        },
        {
          "output_type": "stream",
          "text": [
            "/usr/local/lib/python3.6/dist-packages/ipykernel_launcher.py:1: UserWarning: Update your `Model` call to the Keras 2 API: `Model(inputs=Tensor(\"in..., outputs=Tensor(\"de...)`\n",
            "  \"\"\"Entry point for launching an IPython kernel.\n"
          ],
          "name": "stderr"
        }
      ]
    },
    {
      "cell_type": "code",
      "metadata": {
        "id": "cUHNQ6RrIkFj",
        "colab_type": "code",
        "colab": {}
      },
      "source": [
        "opt = Adam(lr=0.0001, decay=1e-5)\n",
        "\n",
        "model.compile(loss='binary_crossentropy', optimizer = opt, metrics=['accuracy'])"
      ],
      "execution_count": null,
      "outputs": []
    },
    {
      "cell_type": "code",
      "metadata": {
        "id": "avenVVvCKIUF",
        "colab_type": "code",
        "colab": {}
      },
      "source": [
        "train_datagen = ImageDataGenerator(rescale = 1./255,\n",
        "                                   shear_range = 0.2,\n",
        "                                   zoom_range = 0.2,\n",
        "                                   horizontal_flip=True)\n",
        "                                   \n",
        "test_datagen = ImageDataGenerator(rescale = 1./255)"
      ],
      "execution_count": null,
      "outputs": []
    },
    {
      "cell_type": "code",
      "metadata": {
        "id": "XjDXzaq9KLhf",
        "colab_type": "code",
        "colab": {
          "base_uri": "https://localhost:8080/",
          "height": 51
        },
        "outputId": "6a7b0023-0653-496a-e7d2-eb2e1d5f2d17"
      },
      "source": [
        "training_set = train_datagen.flow_from_directory(loc+'/train',\n",
        "                                                target_size=(224, 224),\n",
        "                                                batch_size=32,\n",
        "                                                class_mode='categorical')\n",
        "\n",
        "testing_set = test_datagen.flow_from_directory(loc+'/test',\n",
        "                                               target_size=(224, 224),\n",
        "                                               batch_size=32,\n",
        "                                               class_mode='categorical')"
      ],
      "execution_count": null,
      "outputs": [
        {
          "output_type": "stream",
          "text": [
            "Found 5239 images belonging to 2 classes.\n",
            "Found 624 images belonging to 2 classes.\n"
          ],
          "name": "stdout"
        }
      ]
    },
    {
      "cell_type": "code",
      "metadata": {
        "id": "XWSHRvcmIlsz",
        "colab_type": "code",
        "colab": {
          "base_uri": "https://localhost:8080/",
          "height": 751
        },
        "outputId": "699e793d-868a-45e4-9f2e-5bd0cbedd852"
      },
      "source": [
        "info = model.fit_generator(training_set, \n",
        "                           epochs=20, \n",
        "                           validation_data = testing_set,\n",
        "                           steps_per_epoch = len(training_set),\n",
        "                           validation_steps = len(testing_set),\n",
        "                           )"
      ],
      "execution_count": null,
      "outputs": [
        {
          "output_type": "stream",
          "text": [
            "Epoch 1/20\n",
            " 65/164 [==========>...................] - ETA: 19:08 - loss: 0.0665 - accuracy: 0.9778"
          ],
          "name": "stdout"
        },
        {
          "output_type": "stream",
          "text": [
            "/usr/local/lib/python3.6/dist-packages/keras/utils/data_utils.py:616: UserWarning: The input 78 could not be retrieved. It could be because a worker has died.\n",
            "  UserWarning)\n"
          ],
          "name": "stderr"
        },
        {
          "output_type": "stream",
          "text": [
            "164/164 [==============================] - 1804s 11s/step - loss: 0.0722 - accuracy: 0.9758 - val_loss: 1.1345 - val_accuracy: 0.6250\n",
            "Epoch 2/20\n",
            "164/164 [==============================] - 139s 850ms/step - loss: 0.0547 - accuracy: 0.9788 - val_loss: 1.3701 - val_accuracy: 0.6250\n",
            "Epoch 3/20\n",
            "164/164 [==============================] - 143s 874ms/step - loss: 0.0426 - accuracy: 0.9845 - val_loss: 1.1881 - val_accuracy: 0.6250\n",
            "Epoch 4/20\n",
            "164/164 [==============================] - 144s 875ms/step - loss: 0.0373 - accuracy: 0.9861 - val_loss: 3.1328 - val_accuracy: 0.6218\n",
            "Epoch 5/20\n",
            "164/164 [==============================] - 143s 873ms/step - loss: 0.0362 - accuracy: 0.9872 - val_loss: 6.3026 - val_accuracy: 0.6250\n",
            "Epoch 6/20\n",
            "164/164 [==============================] - 143s 875ms/step - loss: 0.0362 - accuracy: 0.9863 - val_loss: 0.1503 - val_accuracy: 0.9071\n",
            "Epoch 7/20\n",
            "164/164 [==============================] - 143s 871ms/step - loss: 0.0317 - accuracy: 0.9874 - val_loss: 0.0112 - val_accuracy: 0.9183\n",
            "Epoch 8/20\n",
            "164/164 [==============================] - 143s 874ms/step - loss: 0.0287 - accuracy: 0.9884 - val_loss: 0.0351 - val_accuracy: 0.9311\n",
            "Epoch 9/20\n",
            "164/164 [==============================] - 144s 878ms/step - loss: 0.0235 - accuracy: 0.9912 - val_loss: 0.1901 - val_accuracy: 0.8013\n",
            "Epoch 10/20\n",
            "164/164 [==============================] - 145s 886ms/step - loss: 0.0307 - accuracy: 0.9895 - val_loss: 1.6759 - val_accuracy: 0.8397\n",
            "Epoch 11/20\n",
            "164/164 [==============================] - 145s 884ms/step - loss: 0.0240 - accuracy: 0.9916 - val_loss: 1.0029 - val_accuracy: 0.9247\n",
            "Epoch 12/20\n",
            "164/164 [==============================] - 145s 884ms/step - loss: 0.0275 - accuracy: 0.9916 - val_loss: 0.3445 - val_accuracy: 0.9103\n",
            "Epoch 13/20\n",
            "164/164 [==============================] - 143s 874ms/step - loss: 0.0221 - accuracy: 0.9922 - val_loss: 2.0346 - val_accuracy: 0.8093\n",
            "Epoch 14/20\n",
            "164/164 [==============================] - 143s 870ms/step - loss: 0.0243 - accuracy: 0.9912 - val_loss: 0.6427 - val_accuracy: 0.8942\n",
            "Epoch 15/20\n",
            "164/164 [==============================] - 143s 870ms/step - loss: 0.0243 - accuracy: 0.9920 - val_loss: 0.2675 - val_accuracy: 0.8125\n",
            "Epoch 16/20\n",
            "164/164 [==============================] - 144s 878ms/step - loss: 0.0166 - accuracy: 0.9941 - val_loss: 0.2980 - val_accuracy: 0.9375\n",
            "Epoch 17/20\n",
            "164/164 [==============================] - 145s 881ms/step - loss: 0.0172 - accuracy: 0.9941 - val_loss: 0.0349 - val_accuracy: 0.9006\n",
            "Epoch 18/20\n",
            "164/164 [==============================] - 145s 882ms/step - loss: 0.0219 - accuracy: 0.9912 - val_loss: 0.1836 - val_accuracy: 0.8878\n",
            "Epoch 19/20\n",
            "164/164 [==============================] - 145s 883ms/step - loss: 0.0107 - accuracy: 0.9962 - val_loss: 0.2476 - val_accuracy: 0.8878\n",
            "Epoch 20/20\n",
            "164/164 [==============================] - 145s 884ms/step - loss: 0.0042 - accuracy: 0.9987 - val_loss: 7.9515e-04 - val_accuracy: 0.9215\n"
          ],
          "name": "stdout"
        }
      ]
    },
    {
      "cell_type": "code",
      "metadata": {
        "id": "DsKgpS0xIlwV",
        "colab_type": "code",
        "colab": {
          "base_uri": "https://localhost:8080/",
          "height": 500
        },
        "outputId": "318d5d77-ceff-41c1-9b97-b6b499a0d0ed"
      },
      "source": [
        "plt.figure(figsize = (20,8))\n",
        "plt.plot(info.history['loss'], label = 'Data loss')\n",
        "plt.plot(info.history['val_loss'] , label = 'Validation loss')\n",
        "plt.legend()"
      ],
      "execution_count": null,
      "outputs": [
        {
          "output_type": "execute_result",
          "data": {
            "text/plain": [
              "<matplotlib.legend.Legend at 0x7f6fe9f2fe10>"
            ]
          },
          "metadata": {
            "tags": []
          },
          "execution_count": 24
        },
        {
          "output_type": "display_data",
          "data": {
            "image/png": "[encoded data removed]",
            "text/plain": [
              "<Figure size 1440x576 with 1 Axes>"
            ]
          },
          "metadata": {
            "tags": [],
            "needs_background": "light"
          }
        }
      ]
    },
    {
      "cell_type": "code",
      "metadata": {
        "id": "YFsK0OMIIlzh",
        "colab_type": "code",
        "colab": {
          "base_uri": "https://localhost:8080/",
          "height": 500
        },
        "outputId": "74a37169-c051-4ead-ed70-e554530e324b"
      },
      "source": [
        "plt.figure(figsize = (20,8))\n",
        "plt.plot(info.history['accuracy'], label = ' accuracy')\n",
        "plt.plot(info.history['val_accuracy'] , label = 'Validation accuracy')\n",
        "plt.legend()"
      ],
      "execution_count": null,
      "outputs": [
        {
          "output_type": "execute_result",
          "data": {
            "text/plain": [
              "<matplotlib.legend.Legend at 0x7f6fe99510f0>"
            ]
          },
          "metadata": {
            "tags": []
          },
          "execution_count": 27
        },
        {
          "output_type": "display_data",
          "data": {
            "image/png": "[encoded data removed]",
            "text/plain": [
              "<Figure size 1440x576 with 1 Axes>"
            ]
          },
          "metadata": {
            "tags": [],
            "needs_background": "light"
          }
        }
      ]
    },
    {
      "cell_type": "code",
      "metadata": {
        "id": "JEfb28G-_coV",
        "colab_type": "code",
        "colab": {}
      },
      "source": [
        "from keras.preprocessing.image import image\n",
        "from keras.applications.inception_v3 import preprocess_input\n",
        "import math"
      ],
      "execution_count": null,
      "outputs": []
    },
    {
      "cell_type": "code",
      "metadata": {
        "id": "co6dTL04_dqM",
        "colab_type": "code",
        "colab": {
          "base_uri": "https://localhost:8080/",
          "height": 241
        },
        "outputId": "6ea86d94-8da8-4eea-ac0d-0321ad03400b"
      },
      "source": [
        "img = image.load_img(loc+'/val/PNEUMONIA/person1950_bacteria_4881.jpeg', target_size=(224, 224))\n",
        "img"
      ],
      "execution_count": null,
      "outputs": [
        {
          "output_type": "execute_result",
          "data": {
            "image/png": "[encoded data removed]",
            "text/plain": [
              "<PIL.Image.Image image mode=RGB size=224x224 at 0x7F6FE995E128>"
            ]
          },
          "metadata": {
            "tags": []
          },
          "execution_count": 29
        }
      ]
    },
    {
      "cell_type": "code",
      "metadata": {
        "id": "Vk8weceQ_9EV",
        "colab_type": "code",
        "colab": {}
      },
      "source": [
        "img = image.img_to_array(img)\n",
        "img = np.expand_dims(img, axis=0)"
      ],
      "execution_count": null,
      "outputs": []
    },
    {
      "cell_type": "code",
      "metadata": {
        "id": "HlUTIG3X_9MF",
        "colab_type": "code",
        "colab": {
          "base_uri": "https://localhost:8080/",
          "height": 51
        },
        "outputId": "c0173368-acaa-48eb-92f8-905241ef9a08"
      },
      "source": [
        "img = preprocess_input(img)\n",
        "pred = model.predict(img)\n",
        "if pred[0][0]> pred[0][1]:\n",
        "  print('Congratulation Free from Pneumonia')\n",
        "else:\n",
        "  print('Sorry , You have Pneumonia. \\nPlease consult Doctor as soon as')\n"
      ],
      "execution_count": null,
      "outputs": [
        {
          "output_type": "stream",
          "text": [
            "Sorry , You have Pneumonia. \n",
            "Please consult Doctor as soon as\n"
          ],
          "name": "stdout"
        }
      ]
    },
    {
      "cell_type": "code",
      "metadata": {
        "id": "srKr6aGv_9Jj",
        "colab_type": "code",
        "colab": {
          "base_uri": "https://localhost:8080/",
          "height": 748
        },
        "outputId": "f4ac47b4-a5e1-4c99-b0f8-41bd50ed900d"
      },
      "source": [
        "for i in os.listdir(loc+'/val'):\n",
        "  if i != '.DS_Store':\n",
        "    \n",
        "    for j in os.listdir(loc+'/val/'+i):\n",
        "      if j != '.DS_Store':\n",
        "        \n",
        "        img1 = image.load_img(loc+'/val/'+i+'/'+j, target_size=(224, 224))\n",
        "        \n",
        "        x = image.img_to_array(img1)\n",
        "        \n",
        "        x = np.expand_dims(x, axis=0)\n",
        "        \n",
        "        image_data = preprocess_input(x)\n",
        "        classes = model.predict(image_data)\n",
        "        if classes[0][0]> classes[0][1]:\n",
        "            print(i, 'Congratulation Free from Pneumonia\\n')\n",
        "        else:\n",
        "            print(i, 'Sorry, You have Pneumonia. \\nPlease consult Doctor as soon as\\n')"
      ],
      "execution_count": null,
      "outputs": [
        {
          "output_type": "stream",
          "text": [
            "PNEUMONIA Sorry, You have Pneumonia. \n",
            "Please consult Doctor as soon as\n",
            "\n",
            "PNEUMONIA Sorry, You have Pneumonia. \n",
            "Please consult Doctor as soon as\n",
            "\n",
            "PNEUMONIA Sorry, You have Pneumonia. \n",
            "Please consult Doctor as soon as\n",
            "\n",
            "PNEUMONIA Sorry, You have Pneumonia. \n",
            "Please consult Doctor as soon as\n",
            "\n",
            "PNEUMONIA Sorry, You have Pneumonia. \n",
            "Please consult Doctor as soon as\n",
            "\n",
            "PNEUMONIA Sorry, You have Pneumonia. \n",
            "Please consult Doctor as soon as\n",
            "\n",
            "PNEUMONIA Sorry, You have Pneumonia. \n",
            "Please consult Doctor as soon as\n",
            "\n",
            "PNEUMONIA Sorry, You have Pneumonia. \n",
            "Please consult Doctor as soon as\n",
            "\n",
            "NORMAL Sorry, You have Pneumonia. \n",
            "Please consult Doctor as soon as\n",
            "\n",
            "NORMAL Congratulation Free from Pneumonia\n",
            "\n",
            "NORMAL Congratulation Free from Pneumonia\n",
            "\n",
            "NORMAL Sorry, You have Pneumonia. \n",
            "Please consult Doctor as soon as\n",
            "\n",
            "NORMAL Congratulation Free from Pneumonia\n",
            "\n",
            "NORMAL Sorry, You have Pneumonia. \n",
            "Please consult Doctor as soon as\n",
            "\n",
            "NORMAL Congratulation Free from Pneumonia\n",
            "\n",
            "NORMAL Congratulation Free from Pneumonia\n",
            "\n"
          ],
          "name": "stdout"
        }
      ]
    },
    {
      "cell_type": "code",
      "metadata": {
        "id": "uluWNv6L_9Hj",
        "colab_type": "code",
        "colab": {}
      },
      "source": [
        "import torch\n",
        "name  = 'Pneumonia_model_restnet_.h5'\n",
        "\n",
        "path = loc+name\n",
        "\n",
        "\n",
        "model.save(path)"
      ],
      "execution_count": null,
      "outputs": []
    },
    {
      "cell_type": "markdown",
      "metadata": {
        "id": "BlCkD-22H1BY",
        "colab_type": "text"
      },
      "source": [
        "# Manual NN\n",
        "\n",
        "### google teachable machine learning model "
      ]
    },
    {
      "cell_type": "code",
      "metadata": {
        "id": "wjygcqPNIMkU",
        "colab_type": "code",
        "colab": {}
      },
      "source": [
        "from keras.layers import Conv2D, Input, ReLU, Dense, Flatten\n",
        "from keras.layers import BatchNormalization\n",
        "from keras.activations import relu\n",
        "from keras.layers import DepthwiseConv2D\n",
        "from keras.layers import ZeroPadding2D\n",
        "from tensorflow.keras import Sequential\n",
        "from keras.layers.merge import Add\n",
        "from keras.layers import GlobalAveragePooling2D\n",
        "from keras.preprocessing.image import ImageDataGenerator\n",
        "from keras.models import Model\n",
        "from keras.optimizers import Adam\n",
        "from keras.preprocessing.image import image\n",
        "from keras.applications.inception_v3 import preprocess_input"
      ],
      "execution_count": 12,
      "outputs": []
    },
    {
      "cell_type": "code",
      "metadata": {
        "id": "1YuCOue3cYHQ",
        "colab_type": "code",
        "colab": {}
      },
      "source": [
        "input_img = Input(shape=(224,224,3), name='Input')\n",
        "\n",
        "x = ZeroPadding2D(padding =([ 0, 1 ], [ 0, 1 ]),  name='ZeroPadding2D1',  trainable=True)(input_img)\n",
        "\n",
        "x = Conv2D(activation='linear',bias_initializer='zeros', data_format='channels_last', filters=16, strides=(2,2),  padding='valid', use_bias=False, kernel_size = (3,3), dilation_rate=(1,1), trainable = True, name='sequential_5/model2/Conv1')(x)\n",
        "\n",
        "x = BatchNormalization( axis=3, momentum=0.999, epsilon=0.001, center=True, scale=True, beta_initializer='zeros', gamma_initializer='ones', moving_mean_initializer='zeros', moving_variance_initializer='ones', trainable=True)(x)\n",
        "\n",
        "x = ReLU(max_value=6, trainable=True)(x)\n",
        "\n",
        "x = DepthwiseConv2D(activation='linear', bias_initializer='zeros', data_format='channels_last', depth_multiplier=1, dilation_rate=(1,1), kernel_size=(3,3), padding='same', strides=(1,1), trainable=True, use_bias=False)(x)\n",
        "\n",
        "x = BatchNormalization( axis=3, momentum=0.999, epsilon=0.001, center=True, scale=True, beta_initializer='zeros', gamma_initializer='ones', moving_mean_initializer='zeros', moving_variance_initializer='ones', trainable=True)(x)\n",
        "\n",
        "x = ReLU(max_value=6, trainable=True)(x)\n",
        "\n",
        "x = Conv2D(activation='linear', bias_initializer='zeros', data_format='channels_last', filters=8, strides=(1,1),  padding='same', use_bias=False, kernel_size = (1,1), dilation_rate=(1,1), trainable = True)(x)\n",
        "\n",
        "x = BatchNormalization( axis=3, momentum=0.999, epsilon=0.001, center=True, scale = True, beta_initializer='zeros', gamma_initializer='ones', moving_mean_initializer='zeros', moving_variance_initializer='ones', trainable=True)(x)\n",
        "\n",
        "x = Conv2D(activation='linear', bias_initializer='zeros', data_format='channels_last', filters=48, strides=(1,1),  padding='same', use_bias=False, kernel_size = (1,1), dilation_rate=(1,1), trainable = True)(x)\n",
        "\n",
        "x = BatchNormalization( axis=3, momentum=0.999, epsilon=0.001, center=True, scale = True, beta_initializer='zeros', gamma_initializer='ones', moving_mean_initializer='zeros', moving_variance_initializer='ones', trainable=True)(x)\n",
        "\n",
        "x = ReLU(max_value=6, trainable=True)(x)\n",
        "\n",
        "x = ZeroPadding2D(padding =([ 0, 1 ], [ 0, 1 ]),  name='ZeroPadding2D2',  trainable=True)(x)\n",
        "\n",
        "x = DepthwiseConv2D(activation='linear', bias_initializer='zeros', data_format='channels_last', depth_multiplier=1, dilation_rate=(1,1), kernel_size=(3,3), padding='valid', strides=(2,2), trainable=True, use_bias=False)(x)\n",
        "\n",
        "x = BatchNormalization( axis=3, momentum=0.999, epsilon=0.001, center=True, scale = True, beta_initializer='zeros', gamma_initializer='ones', moving_mean_initializer='zeros', moving_variance_initializer='ones', trainable=True)(x)\n",
        "\n",
        "x = ReLU(max_value=6, trainable=True)(x)\n",
        "\n",
        "x = Conv2D(activation='linear', bias_initializer='zeros', data_format='channels_last', filters=8, strides=(1,1),  padding='same', use_bias=False, kernel_size = (1,1), dilation_rate=(1,1), trainable = True)(x)\n",
        "\n",
        "x = BatchNormalization( axis=3, momentum=0.999, epsilon=0.001, center=True, scale = True, beta_initializer='zeros', gamma_initializer='ones', moving_mean_initializer='zeros', moving_variance_initializer='ones', trainable=True)(x)\n",
        "\n",
        "\n",
        "x1 = Conv2D(activation='linear', bias_initializer='zeros', data_format='channels_last', filters=48, strides=(1,1),  padding='same', use_bias=False, kernel_size = (1,1), dilation_rate=(1,1), trainable = True)(x)\n",
        "x1 = BatchNormalization(axis=3, momentum=0.999, epsilon=0.001, center=True, scale = True, beta_initializer='zeros', gamma_initializer='ones', moving_mean_initializer='zeros', moving_variance_initializer='ones', trainable=True)(x1)\n",
        "x1 = ReLU(max_value=6, trainable=True)(x1)\n",
        "x1 = DepthwiseConv2D(activation='linear', bias_initializer='zeros', data_format='channels_last', depth_multiplier=1, dilation_rate=(1,1), kernel_size=(3,3), padding='same', strides=(1,1), trainable=True, use_bias=False)(x1)\n",
        "x1 = BatchNormalization(axis=3, momentum=0.999, epsilon=0.001, center=True, scale = True, beta_initializer='zeros', gamma_initializer='ones', moving_mean_initializer='zeros', moving_variance_initializer='ones', trainable=True)(x1)\n",
        "x1 = ReLU(max_value=6, trainable=True)(x1)\n",
        "x1 = Conv2D(activation='linear', bias_initializer='zeros', data_format='channels_last', filters=8, strides=(1,1),  padding='same', use_bias=False, kernel_size = (1,1), dilation_rate=(1,1), trainable = True)(x1)\n",
        "x1 = BatchNormalization(axis=3, momentum=0.999, epsilon=0.001, center=True, scale = True, beta_initializer='zeros', gamma_initializer='ones', moving_mean_initializer='zeros', moving_variance_initializer='ones', trainable=True)(x1)\n",
        "\n",
        "x = Add()([x, x1])\n",
        "\n",
        "\n",
        "x = Conv2D(activation='linear', bias_initializer='zeros', data_format='channels_last', filters=48, strides=(1,1),  padding='same', use_bias=False, kernel_size = (1,1), dilation_rate=(1,1), trainable = True)(x)\n",
        "\n",
        "x = BatchNormalization( axis=3, momentum=0.999, epsilon=0.001, center=True, scale = True, beta_initializer='zeros', gamma_initializer='ones', moving_mean_initializer='zeros', moving_variance_initializer='ones', trainable=True)(x)\n",
        "\n",
        "x = ReLU(max_value=6, trainable=True)(x)\n",
        "\n",
        "x = ZeroPadding2D(padding =([ 0, 1 ], [ 0, 1 ]),  name='ZeroPadding2D3',  trainable=True)(x)\n",
        "\n",
        "x = DepthwiseConv2D(activation='linear', bias_initializer='zeros', data_format='channels_last', depth_multiplier=1, dilation_rate=(1,1), kernel_size=(3,3), padding='valid', strides=(2,2), trainable=True, use_bias=False)(x)\n",
        "\n",
        "x = BatchNormalization( axis=3, momentum=0.999, epsilon=0.001, center=True, scale = True, beta_initializer='zeros', gamma_initializer='ones', moving_mean_initializer='zeros', moving_variance_initializer='ones', trainable=True)(x)\n",
        "\n",
        "x = ReLU(max_value=6, trainable=True)(x)\n",
        "\n",
        "x = Conv2D(activation='linear', bias_initializer='zeros', data_format='channels_last', filters=16, strides=(1,1),  padding='same', use_bias=False, kernel_size = (1,1), dilation_rate=(1,1), trainable = True)(x)\n",
        "\n",
        "x = BatchNormalization( axis=3, momentum=0.999, epsilon=0.001, center=True, scale = True, beta_initializer='zeros', gamma_initializer='ones', moving_mean_initializer='zeros', moving_variance_initializer='ones', trainable=True)(x)\n",
        "\n",
        "\n",
        "\n",
        "x1 = Conv2D(activation='linear', bias_initializer='zeros', data_format='channels_last', filters=96, strides=(1,1),  padding='same', use_bias=False, kernel_size = (1,1), dilation_rate=(1,1), trainable = True)(x)\n",
        "x1 = BatchNormalization(axis=3, momentum=0.999, epsilon=0.001, center=True, scale = True, beta_initializer='zeros', gamma_initializer='ones', moving_mean_initializer='zeros', moving_variance_initializer='ones', trainable=True)(x1)\n",
        "x1 = ReLU(max_value=6, trainable=True)(x1)\n",
        "x1 = DepthwiseConv2D(activation='linear', bias_initializer='zeros', data_format='channels_last', depth_multiplier=1, dilation_rate=(1,1), kernel_size=(3,3), padding='same', strides=(1,1), trainable=True, use_bias=False)(x1)\n",
        "x1 = BatchNormalization(axis=3, momentum=0.999, epsilon=0.001, center=True, scale = True, beta_initializer='zeros', gamma_initializer='ones', moving_mean_initializer='zeros', moving_variance_initializer='ones', trainable=True)(x1)\n",
        "x1 = ReLU(max_value=6, trainable=True)(x1)\n",
        "x1 = Conv2D(activation='linear', bias_initializer='zeros', data_format='channels_last', filters=16, strides=(1,1),  padding='same', use_bias=False, kernel_size = (1,1), dilation_rate=(1,1), trainable = True)(x1)\n",
        "x1 = BatchNormalization(axis=3, momentum=0.999, epsilon=0.001, center=True, scale = True, beta_initializer='zeros', gamma_initializer='ones', moving_mean_initializer='zeros', moving_variance_initializer='ones', trainable=True)(x1)\n",
        "\n",
        "x = Add()([x, x1])\n",
        "\n",
        "x1 = Conv2D(activation='linear', bias_initializer='zeros', data_format='channels_last', filters=96, strides=(1,1),  padding='same', use_bias=False, kernel_size = (1,1), dilation_rate=(1,1), trainable = True)(x)\n",
        "x1 = BatchNormalization(axis=3, momentum=0.999, epsilon=0.001, center=True, scale = True, beta_initializer='zeros', gamma_initializer='ones', moving_mean_initializer='zeros', moving_variance_initializer='ones', trainable=True)(x1)\n",
        "x1 = ReLU(max_value=6, trainable=True)(x1)\n",
        "x1 = DepthwiseConv2D(activation='linear', bias_initializer='zeros', data_format='channels_last', depth_multiplier=1, dilation_rate=(1,1), kernel_size=(3,3), padding='same', strides=(1,1), trainable=True, use_bias=False)(x1)\n",
        "x1 = BatchNormalization(axis=3, momentum=0.999, epsilon=0.001, center=True, scale = True, beta_initializer='zeros', gamma_initializer='ones', moving_mean_initializer='zeros', moving_variance_initializer='ones', trainable=True)(x1)\n",
        "x1 = ReLU(max_value=6, trainable=True)(x1)\n",
        "x1 = Conv2D(activation='linear', bias_initializer='zeros', data_format='channels_last', filters=16, strides=(1,1),  padding='same', use_bias=False, kernel_size = (1,1), dilation_rate=(1,1), trainable = True)(x1)\n",
        "x1 = BatchNormalization(axis=3, momentum=0.999, epsilon=0.001, center=True, scale = True, beta_initializer='zeros', gamma_initializer='ones', moving_mean_initializer='zeros', moving_variance_initializer='ones', trainable=True)(x1)\n",
        "\n",
        "x = Add()([x, x1])\n",
        "\n",
        "\n",
        "\n",
        "x = Conv2D(activation='linear', bias_initializer='zeros', data_format='channels_last', filters=96, strides=(1,1),  padding='same', use_bias=False, kernel_size = (1,1), dilation_rate=(1,1), trainable = True)(x)\n",
        "\n",
        "x = BatchNormalization( axis=3, momentum=0.999, epsilon=0.001, center=True, scale = True, beta_initializer='zeros', gamma_initializer='ones', moving_mean_initializer='zeros', moving_variance_initializer='ones', trainable=True)(x)\n",
        "\n",
        "x = ReLU(max_value=6, trainable=True)(x)\n",
        "\n",
        "x = ZeroPadding2D(padding =([ 0, 1 ], [ 0, 1 ]),  name='ZeroPadding2D4',  trainable=True)(x)\n",
        "\n",
        "x = DepthwiseConv2D(activation='linear', bias_initializer='zeros', data_format='channels_last', depth_multiplier=1, dilation_rate=(1,1), kernel_size=(3,3), padding='valid', strides=(2,2), trainable=True, use_bias=False)(x)\n",
        "\n",
        "x = BatchNormalization( axis=3, momentum=0.999, epsilon=0.001, center=True, scale = True, beta_initializer='zeros', gamma_initializer='ones', moving_mean_initializer='zeros', moving_variance_initializer='ones', trainable=True)(x)\n",
        "\n",
        "x = ReLU(max_value=6, trainable=True)(x)\n",
        "\n",
        "x = Conv2D(activation='linear', bias_initializer='zeros', data_format='channels_last', filters=24, strides=(1,1),  padding='same', use_bias=False, kernel_size = (1,1), dilation_rate=(1,1), trainable = True)(x)\n",
        "\n",
        "x = BatchNormalization( axis=3, momentum=0.999, epsilon=0.001, center=True, scale = True, beta_initializer='zeros', gamma_initializer='ones', moving_mean_initializer='zeros', moving_variance_initializer='ones', trainable=True)(x)\n",
        "\n",
        "\n",
        "\n",
        "\n",
        "x1 = Conv2D(activation='linear', bias_initializer='zeros', data_format='channels_last', filters=144, strides=(1,1),  padding='same', use_bias=False, kernel_size = (1,1), dilation_rate=(1,1), trainable = True)(x)\n",
        "x1 = BatchNormalization(axis=3, momentum=0.999, epsilon=0.001, center=True, scale = True, beta_initializer='zeros', gamma_initializer='ones', moving_mean_initializer='zeros', moving_variance_initializer='ones', trainable=True)(x1)\n",
        "x1 = ReLU(max_value=6, trainable=True)(x1)\n",
        "x1 = DepthwiseConv2D(activation='linear', bias_initializer='zeros', data_format='channels_last', depth_multiplier=1, dilation_rate=(1,1), kernel_size=(3,3), padding='same', strides=(1,1), trainable=True, use_bias=False)(x1)\n",
        "x1 = BatchNormalization(axis=3, momentum=0.999, epsilon=0.001, center=True, scale = True, beta_initializer='zeros', gamma_initializer='ones', moving_mean_initializer='zeros', moving_variance_initializer='ones', trainable=True)(x1)\n",
        "x1 = ReLU(max_value=6, trainable=True)(x1)\n",
        "x1 = Conv2D(activation='linear', bias_initializer='zeros', data_format='channels_last', filters=24, strides=(1,1),  padding='same', use_bias=False, kernel_size = (1,1), dilation_rate=(1,1), trainable = True)(x1)\n",
        "x1 = BatchNormalization(axis=3, momentum=0.999, epsilon=0.001, center=True, scale = True, beta_initializer='zeros', gamma_initializer='ones', moving_mean_initializer='zeros', moving_variance_initializer='ones', trainable=True)(x1)\n",
        "\n",
        "x = Add()([x, x1])\n",
        "\n",
        "x1 = Conv2D(activation='linear', bias_initializer='zeros', data_format='channels_last', filters=144, strides=(1,1),  padding='same', use_bias=False, kernel_size = (1,1), dilation_rate=(1,1), trainable = True)(x)\n",
        "x1 = BatchNormalization(axis=3, momentum=0.999, epsilon=0.001, center=True, scale = True, beta_initializer='zeros', gamma_initializer='ones', moving_mean_initializer='zeros', moving_variance_initializer='ones', trainable=True)(x1)\n",
        "x1 = ReLU(max_value=6, trainable=True)(x1)\n",
        "x1 = DepthwiseConv2D(activation='linear', bias_initializer='zeros', data_format='channels_last', depth_multiplier=1, dilation_rate=(1,1), kernel_size=(3,3), padding='same', strides=(1,1), trainable=True, use_bias=False)(x1)\n",
        "x1 = BatchNormalization(axis=3, momentum=0.999, epsilon=0.001, center=True, scale = True, beta_initializer='zeros', gamma_initializer='ones', moving_mean_initializer='zeros', moving_variance_initializer='ones', trainable=True)(x1)\n",
        "x1 = ReLU(max_value=6, trainable=True)(x1)\n",
        "x1 = Conv2D(activation='linear', bias_initializer='zeros', data_format='channels_last', filters=24, strides=(1,1),  padding='same', use_bias=False, kernel_size = (1,1), dilation_rate=(1,1), trainable = True)(x1)\n",
        "x1 = BatchNormalization(axis=3, momentum=0.999, epsilon=0.001, center=True, scale = True, beta_initializer='zeros', gamma_initializer='ones', moving_mean_initializer='zeros', moving_variance_initializer='ones', trainable=True)(x1)\n",
        "\n",
        "x = Add()([x, x1])\n",
        "\n",
        "x1 = Conv2D(activation='linear', bias_initializer='zeros', data_format='channels_last', filters=144, strides=(1,1),  padding='same', use_bias=False, kernel_size = (1,1), dilation_rate=(1,1), trainable = True)(x)\n",
        "x1 = BatchNormalization(axis=3, momentum=0.999, epsilon=0.001, center=True, scale = True, beta_initializer='zeros', gamma_initializer='ones', moving_mean_initializer='zeros', moving_variance_initializer='ones', trainable=True)(x1)\n",
        "x1 = ReLU(max_value=6, trainable=True)(x1)\n",
        "x1 = DepthwiseConv2D(activation='linear', bias_initializer='zeros', data_format='channels_last', depth_multiplier=1, dilation_rate=(1,1), kernel_size=(3,3), padding='same', strides=(1,1), trainable=True, use_bias=False)(x1)\n",
        "x1 = BatchNormalization(axis=3, momentum=0.999, epsilon=0.001, center=True, scale = True, beta_initializer='zeros', gamma_initializer='ones', moving_mean_initializer='zeros', moving_variance_initializer='ones', trainable=True)(x1)\n",
        "x1 = ReLU(max_value=6, trainable=True)(x1)\n",
        "x1 = Conv2D(activation='linear', bias_initializer='zeros', data_format='channels_last', filters=24, strides=(1,1),  padding='same', use_bias=False, kernel_size = (1,1), dilation_rate=(1,1), trainable = True)(x1)\n",
        "x1 = BatchNormalization(axis=3, momentum=0.999, epsilon=0.001, center=True, scale = True, beta_initializer='zeros', gamma_initializer='ones', moving_mean_initializer='zeros', moving_variance_initializer='ones', trainable=True)(x1)\n",
        "\n",
        "x = Add()([x, x1])\n",
        "\n",
        "\n",
        "\n",
        "x = Conv2D(activation='linear', bias_initializer='zeros', data_format='channels_last', filters=144, strides=(1,1),  padding='same', use_bias=False, kernel_size = (1,1), dilation_rate=(1,1), trainable = True)(x)\n",
        "\n",
        "x = BatchNormalization( axis=3, momentum=0.999, epsilon=0.001, center=True, scale = True, beta_initializer='zeros', gamma_initializer='ones', moving_mean_initializer='zeros', moving_variance_initializer='ones', trainable=True)(x)\n",
        "\n",
        "x = ReLU(max_value=6, trainable=True)(x)\n",
        "\n",
        "x = DepthwiseConv2D(activation='linear', bias_initializer='zeros', data_format='channels_last', depth_multiplier=1, dilation_rate=(1,1), kernel_size=(3,3), padding='valid', strides=(1,1), trainable=True, use_bias=False)(x)\n",
        "\n",
        "x = BatchNormalization( axis=3, momentum=0.999, epsilon=0.001, center=True, scale = True, beta_initializer='zeros', gamma_initializer='ones', moving_mean_initializer='zeros', moving_variance_initializer='ones', trainable=True)(x)\n",
        "\n",
        "x = ReLU(max_value=6, trainable=True)(x)\n",
        "\n",
        "x = Conv2D(activation='linear', bias_initializer='zeros', data_format='channels_last', filters=32, strides=(1,1),  padding='same', use_bias=False, kernel_size = (1,1), dilation_rate=(1,1), trainable = True)(x)\n",
        "\n",
        "x = BatchNormalization( axis=3, momentum=0.999, epsilon=0.001, center=True, scale = True, beta_initializer='zeros', gamma_initializer='ones', moving_mean_initializer='zeros', moving_variance_initializer='ones', trainable=True)(x)\n",
        "\n",
        "\n",
        "\n",
        "\n",
        "x1 = Conv2D(activation='linear', bias_initializer='zeros', data_format='channels_last', filters=192, strides=(1,1),  padding='same', use_bias=False, kernel_size = (1,1), dilation_rate=(1,1), trainable = True)(x)\n",
        "x1 = BatchNormalization(axis=3, momentum=0.999, epsilon=0.001, center=True, scale = True, beta_initializer='zeros', gamma_initializer='ones', moving_mean_initializer='zeros', moving_variance_initializer='ones', trainable=True)(x1)\n",
        "x1 = ReLU(max_value=6, trainable=True)(x1)\n",
        "x1 = DepthwiseConv2D(activation='linear', bias_initializer='zeros', data_format='channels_last', depth_multiplier=1, dilation_rate=(1,1), kernel_size=(3,3), padding='same', strides=(1,1), trainable=True, use_bias=False)(x1)\n",
        "x1 = BatchNormalization(axis=3, momentum=0.999, epsilon=0.001, center=True, scale = True, beta_initializer='zeros', gamma_initializer='ones', moving_mean_initializer='zeros', moving_variance_initializer='ones', trainable=True)(x1)\n",
        "x1 = ReLU(max_value=6, trainable=True)(x1)\n",
        "x1 = Conv2D(activation='linear', bias_initializer='zeros', data_format='channels_last', filters=32, strides=(1,1),  padding='same', use_bias=False, kernel_size = (1,1), dilation_rate=(1,1), trainable = True)(x1)\n",
        "x1 = BatchNormalization(axis=3, momentum=0.999, epsilon=0.001, center=True, scale = True, beta_initializer='zeros', gamma_initializer='ones', moving_mean_initializer='zeros', moving_variance_initializer='ones', trainable=True)(x1)\n",
        "\n",
        "\n",
        "x = Add()([x, x1])\n",
        "\n",
        "\n",
        "x1 = Conv2D(activation='linear', bias_initializer='zeros', data_format='channels_last', filters=192, strides=(1,1),  padding='same', use_bias=False, kernel_size = (1,1), dilation_rate=(1,1), trainable = True)(x)\n",
        "x1 = BatchNormalization(axis=3, momentum=0.999, epsilon=0.001, center=True, scale = True, beta_initializer='zeros', gamma_initializer='ones', moving_mean_initializer='zeros', moving_variance_initializer='ones', trainable=True)(x1)\n",
        "x1 = ReLU(max_value=6, trainable=True)(x1)\n",
        "x1 = DepthwiseConv2D(activation='linear', bias_initializer='zeros', data_format='channels_last', depth_multiplier=1, dilation_rate=(1,1), kernel_size=(3,3), padding='same', strides=(1,1), trainable=True, use_bias=False)(x1)\n",
        "x1 = BatchNormalization(axis=3, momentum=0.999, epsilon=0.001, center=True, scale = True, beta_initializer='zeros', gamma_initializer='ones', moving_mean_initializer='zeros', moving_variance_initializer='ones', trainable=True)(x1)\n",
        "x1 = ReLU(max_value=6, trainable=True)(x1)\n",
        "x1 = Conv2D(activation='linear', bias_initializer='zeros', data_format='channels_last', filters=32, strides=(1,1),  padding='same', use_bias=False, kernel_size = (1,1), dilation_rate=(1,1), trainable = True)(x1)\n",
        "x1 = BatchNormalization(axis=3, momentum=0.999, epsilon=0.001, center=True, scale = True, beta_initializer='zeros', gamma_initializer='ones', moving_mean_initializer='zeros', moving_variance_initializer='ones', trainable=True)(x1)\n",
        "\n",
        "\n",
        "x = Add()([x, x1])\n",
        "\n",
        "\n",
        "x = Conv2D(activation='linear', bias_initializer='zeros', data_format='channels_last', filters=192, strides=(1,1),  padding='same', use_bias=False, kernel_size = (1,1), dilation_rate=(1,1), trainable = True)(x)\n",
        "\n",
        "x = BatchNormalization( axis=3, momentum=0.999, epsilon=0.001, center=True, scale = True, beta_initializer='zeros', gamma_initializer='ones', moving_mean_initializer='zeros', moving_variance_initializer='ones', trainable=True)(x)\n",
        "\n",
        "x = ReLU(max_value=6, trainable=True)(x)\n",
        "\n",
        "x = ZeroPadding2D(padding =([ 0, 1 ], [ 0, 1 ]),  name='ZeroPadding2D5',  trainable=True)(x)\n",
        "\n",
        "x = DepthwiseConv2D(activation='linear', bias_initializer='zeros', data_format='channels_last', depth_multiplier=1, dilation_rate=(1,1), kernel_size=(3,3), padding='valid', strides=(2,2), trainable=True, use_bias=False)(x)\n",
        "\n",
        "x = BatchNormalization( axis=3, momentum=0.999, epsilon=0.001, center=True, scale = True, beta_initializer='zeros', gamma_initializer='ones', moving_mean_initializer='zeros', moving_variance_initializer='ones', trainable=True)(x)\n",
        "\n",
        "x = ReLU(max_value=6, trainable=True)(x)\n",
        "\n",
        "x = Conv2D(activation='linear', bias_initializer='zeros', data_format='channels_last', filters=56, strides=(1,1),  padding='same', use_bias=False, kernel_size = (1,1), dilation_rate=(1,1), trainable = True)(x)\n",
        "\n",
        "x = BatchNormalization( axis=3, momentum=0.999, epsilon=0.001, center=True, scale = True, beta_initializer='zeros', gamma_initializer='ones', moving_mean_initializer='zeros', moving_variance_initializer='ones', trainable=True)(x)\n",
        "\n",
        "\n",
        "x1 = Conv2D(activation='linear', bias_initializer='zeros', data_format='channels_last', filters=336, strides=(1,1),  padding='same', use_bias=False, kernel_size = (1,1), dilation_rate=(1,1), trainable = True)(x)\n",
        "x1 = BatchNormalization(axis=3, momentum=0.999, epsilon=0.001, center=True, scale = True, beta_initializer='zeros', gamma_initializer='ones', moving_mean_initializer='zeros', moving_variance_initializer='ones', trainable=True)(x1)\n",
        "x1 = ReLU(max_value=6, trainable=True)(x1)\n",
        "x1 = DepthwiseConv2D(activation='linear', bias_initializer='zeros', data_format='channels_last', depth_multiplier=1, dilation_rate=(1,1), kernel_size=(3,3), padding='same', strides=(1,1), trainable=True, use_bias=False)(x1)\n",
        "x1 = BatchNormalization(axis=3, momentum=0.999, epsilon=0.001, center=True, scale = True, beta_initializer='zeros', gamma_initializer='ones', moving_mean_initializer='zeros', moving_variance_initializer='ones', trainable=True)(x1)\n",
        "x1 = ReLU(max_value=6, trainable=True)(x1)\n",
        "x1 = Conv2D(activation='linear', bias_initializer='zeros', data_format='channels_last', filters=56, strides=(1,1),  padding='same', use_bias=False, kernel_size = (1,1), dilation_rate=(1,1), trainable = True)(x1)\n",
        "x1 = BatchNormalization(axis=3, momentum=0.999, epsilon=0.001, center=True, scale = True, beta_initializer='zeros', gamma_initializer='ones', moving_mean_initializer='zeros', moving_variance_initializer='ones', trainable=True)(x1)\n",
        "\n",
        "\n",
        "x = Add()([x, x1])\n",
        "\n",
        "\n",
        "x1 = Conv2D(activation='linear', bias_initializer='zeros', data_format='channels_last', filters=336, strides=(1,1),  padding='same', use_bias=False, kernel_size = (1,1), dilation_rate=(1,1), trainable = True)(x)\n",
        "x1 = BatchNormalization(axis=3, momentum=0.999, epsilon=0.001, center=True, scale = True, beta_initializer='zeros', gamma_initializer='ones', moving_mean_initializer='zeros', moving_variance_initializer='ones', trainable=True)(x1)\n",
        "x1 = ReLU(max_value=6, trainable=True)(x1)\n",
        "x1 = DepthwiseConv2D(activation='linear', bias_initializer='zeros', data_format='channels_last', depth_multiplier=1, dilation_rate=(1,1), kernel_size=(3,3), padding='same', strides=(1,1), trainable=True, use_bias=False)(x1)\n",
        "x1 = BatchNormalization(axis=3, momentum=0.999, epsilon=0.001, center=True, scale = True, beta_initializer='zeros', gamma_initializer='ones', moving_mean_initializer='zeros', moving_variance_initializer='ones', trainable=True)(x1)\n",
        "x1 = ReLU(max_value=6, trainable=True)(x1)\n",
        "x1 = Conv2D(activation='linear', bias_initializer='zeros', data_format='channels_last', filters=56, strides=(1,1),  padding='same', use_bias=False, kernel_size = (1,1), dilation_rate=(1,1), trainable = True)(x1)\n",
        "x1 = BatchNormalization(axis=3, momentum=0.999, epsilon=0.001, center=True, scale = True, beta_initializer='zeros', gamma_initializer='ones', moving_mean_initializer='zeros', moving_variance_initializer='ones', trainable=True)(x1)\n",
        "\n",
        "\n",
        "x = Add()([x, x1])\n",
        "\n",
        "\n",
        "x = Conv2D(filters=336, kernel_size=(1,1), strides=(1,1), padding='same', data_format='channels_last', dilation_rate=(1,1), activation='linear', use_bias=False, kernel_initializer='VarianceScaling',bias_initializer='zeros', trainable=True)(x)\n",
        "\n",
        "x = BatchNormalization(axis=2, beta_initializer='zeros', center='True', epsilon=0.001, gamma_initializer='ones', momentum=0.999, moving_mean_initializer='zeros', moving_variance_initializer='ones', scale=True, trainable=True)(x)\n",
        "\n",
        "x = ReLU(max_value=6, trainable=True)(x)\n",
        "\n",
        "x = DepthwiseConv2D(activation='linear', bias_initializer= 'zeros', data_format='channels_last', depth_multiplier=1, dilation_rate=(1,1), kernel_size=(3,3), padding='same', strides=(1,1), use_bias=False, trainable=True)(x)\n",
        "\n",
        "x = BatchNormalization(axis=2, beta_initializer='zeros', center='True', epsilon=0.001, gamma_initializer='ones', momentum=0.999, moving_mean_initializer='zeros', moving_variance_initializer='ones', scale=True, trainable=True)(x)\n",
        "\n",
        "x= ReLU(max_value=6)(x)\n",
        "\n",
        "x = Conv2D(filters=112, kernel_size=(1,1), strides=(1,1), padding='same', data_format='channels_last', dilation_rate=(1,1), activation='linear', use_bias=False, kernel_initializer='VarianceScaling',bias_initializer='zeros', trainable=True)(x)\n",
        "\n",
        "\n",
        "x = BatchNormalization(axis=2, beta_initializer='zeros', center=True, epsilon=0.001, gamma_initializer='ones', momentum=0.999, moving_variance_initializer='ones', scale=True, trainable=True)(x)\n",
        "\n",
        "x = Conv2D(activation='linear', bias_initializer='zero', data_format='channels_last', dilation_rate=(1,1), filters=1280, kernel_size=(1,1), padding='same', strides=(1,1), trainable=True, use_bias=False)(x)\n",
        "\n",
        "x = BatchNormalization(axis=2, beta_initializer='zeros', center=True, epsilon=0.001, gamma_initializer='ones', momentum=0.999, moving_variance_initializer='ones', scale=True, trainable=True)(x)\n",
        "\n",
        "x= ReLU(max_value=6)(x)\n",
        "\n",
        "x = GlobalAveragePooling2D(data_format = 'channels_last',trainable=True)(x)\n",
        "\n",
        "x = Dense(activation='relu', units=100, batch_input_shape=(None, 1280), bias_initializer='Zeros', trainable=True, use_bias=True)(x)\n",
        "\n",
        "x = Dense(activation='softmax',  bias_initializer='zeros', units=2, trainable=True, use_bias=False)(x)\n"
      ],
      "execution_count": 13,
      "outputs": []
    },
    {
      "cell_type": "code",
      "metadata": {
        "id": "betFeI3w67A_",
        "colab_type": "code",
        "colab": {
          "base_uri": "https://localhost:8080/",
          "height": 1000
        },
        "outputId": "0783ed4f-2835-4041-d0ff-0f3fcabd04b5"
      },
      "source": [
        "model = Model(input = input_img, output=x)\n",
        "model.summary()"
      ],
      "execution_count": 14,
      "outputs": [
        {
          "output_type": "stream",
          "text": [
            "Model: \"model_1\"\n",
            "__________________________________________________________________________________________________\n",
            "Layer (type)                    Output Shape         Param #     Connected to                     \n",
            "==================================================================================================\n",
            "Input (InputLayer)              (None, 224, 224, 3)  0                                            \n",
            "__________________________________________________________________________________________________\n",
            "ZeroPadding2D1 (ZeroPadding2D)  (None, 225, 225, 3)  0           Input[0][0]                      \n",
            "__________________________________________________________________________________________________\n",
            "sequential_5/model2/Conv1 (Conv (None, 112, 112, 16) 432         ZeroPadding2D1[0][0]             \n",
            "__________________________________________________________________________________________________\n",
            "batch_normalization_1 (BatchNor (None, 112, 112, 16) 64          sequential_5/model2/Conv1[0][0]  \n",
            "__________________________________________________________________________________________________\n",
            "re_lu_1 (ReLU)                  (None, 112, 112, 16) 0           batch_normalization_1[0][0]      \n",
            "__________________________________________________________________________________________________\n",
            "depthwise_conv2d_1 (DepthwiseCo (None, 112, 112, 16) 144         re_lu_1[0][0]                    \n",
            "__________________________________________________________________________________________________\n",
            "batch_normalization_2 (BatchNor (None, 112, 112, 16) 64          depthwise_conv2d_1[0][0]         \n",
            "__________________________________________________________________________________________________\n",
            "re_lu_2 (ReLU)                  (None, 112, 112, 16) 0           batch_normalization_2[0][0]      \n",
            "__________________________________________________________________________________________________\n",
            "conv2d_1 (Conv2D)               (None, 112, 112, 8)  128         re_lu_2[0][0]                    \n",
            "__________________________________________________________________________________________________\n",
            "batch_normalization_3 (BatchNor (None, 112, 112, 8)  32          conv2d_1[0][0]                   \n",
            "__________________________________________________________________________________________________\n",
            "conv2d_2 (Conv2D)               (None, 112, 112, 48) 384         batch_normalization_3[0][0]      \n",
            "__________________________________________________________________________________________________\n",
            "batch_normalization_4 (BatchNor (None, 112, 112, 48) 192         conv2d_2[0][0]                   \n",
            "__________________________________________________________________________________________________\n",
            "re_lu_3 (ReLU)                  (None, 112, 112, 48) 0           batch_normalization_4[0][0]      \n",
            "__________________________________________________________________________________________________\n",
            "ZeroPadding2D2 (ZeroPadding2D)  (None, 113, 113, 48) 0           re_lu_3[0][0]                    \n",
            "__________________________________________________________________________________________________\n",
            "depthwise_conv2d_2 (DepthwiseCo (None, 56, 56, 48)   432         ZeroPadding2D2[0][0]             \n",
            "__________________________________________________________________________________________________\n",
            "batch_normalization_5 (BatchNor (None, 56, 56, 48)   192         depthwise_conv2d_2[0][0]         \n",
            "__________________________________________________________________________________________________\n",
            "re_lu_4 (ReLU)                  (None, 56, 56, 48)   0           batch_normalization_5[0][0]      \n",
            "__________________________________________________________________________________________________\n",
            "conv2d_3 (Conv2D)               (None, 56, 56, 8)    384         re_lu_4[0][0]                    \n",
            "__________________________________________________________________________________________________\n",
            "batch_normalization_6 (BatchNor (None, 56, 56, 8)    32          conv2d_3[0][0]                   \n",
            "__________________________________________________________________________________________________\n",
            "conv2d_4 (Conv2D)               (None, 56, 56, 48)   384         batch_normalization_6[0][0]      \n",
            "__________________________________________________________________________________________________\n",
            "batch_normalization_7 (BatchNor (None, 56, 56, 48)   192         conv2d_4[0][0]                   \n",
            "__________________________________________________________________________________________________\n",
            "re_lu_5 (ReLU)                  (None, 56, 56, 48)   0           batch_normalization_7[0][0]      \n",
            "__________________________________________________________________________________________________\n",
            "depthwise_conv2d_3 (DepthwiseCo (None, 56, 56, 48)   432         re_lu_5[0][0]                    \n",
            "__________________________________________________________________________________________________\n",
            "batch_normalization_8 (BatchNor (None, 56, 56, 48)   192         depthwise_conv2d_3[0][0]         \n",
            "__________________________________________________________________________________________________\n",
            "re_lu_6 (ReLU)                  (None, 56, 56, 48)   0           batch_normalization_8[0][0]      \n",
            "__________________________________________________________________________________________________\n",
            "conv2d_5 (Conv2D)               (None, 56, 56, 8)    384         re_lu_6[0][0]                    \n",
            "__________________________________________________________________________________________________\n",
            "batch_normalization_9 (BatchNor (None, 56, 56, 8)    32          conv2d_5[0][0]                   \n",
            "__________________________________________________________________________________________________\n",
            "add_1 (Add)                     (None, 56, 56, 8)    0           batch_normalization_6[0][0]      \n",
            "                                                                 batch_normalization_9[0][0]      \n",
            "__________________________________________________________________________________________________\n",
            "conv2d_6 (Conv2D)               (None, 56, 56, 48)   384         add_1[0][0]                      \n",
            "__________________________________________________________________________________________________\n",
            "batch_normalization_10 (BatchNo (None, 56, 56, 48)   192         conv2d_6[0][0]                   \n",
            "__________________________________________________________________________________________________\n",
            "re_lu_7 (ReLU)                  (None, 56, 56, 48)   0           batch_normalization_10[0][0]     \n",
            "__________________________________________________________________________________________________\n",
            "ZeroPadding2D3 (ZeroPadding2D)  (None, 57, 57, 48)   0           re_lu_7[0][0]                    \n",
            "__________________________________________________________________________________________________\n",
            "depthwise_conv2d_4 (DepthwiseCo (None, 28, 28, 48)   432         ZeroPadding2D3[0][0]             \n",
            "__________________________________________________________________________________________________\n",
            "batch_normalization_11 (BatchNo (None, 28, 28, 48)   192         depthwise_conv2d_4[0][0]         \n",
            "__________________________________________________________________________________________________\n",
            "re_lu_8 (ReLU)                  (None, 28, 28, 48)   0           batch_normalization_11[0][0]     \n",
            "__________________________________________________________________________________________________\n",
            "conv2d_7 (Conv2D)               (None, 28, 28, 16)   768         re_lu_8[0][0]                    \n",
            "__________________________________________________________________________________________________\n",
            "batch_normalization_12 (BatchNo (None, 28, 28, 16)   64          conv2d_7[0][0]                   \n",
            "__________________________________________________________________________________________________\n",
            "conv2d_8 (Conv2D)               (None, 28, 28, 96)   1536        batch_normalization_12[0][0]     \n",
            "__________________________________________________________________________________________________\n",
            "batch_normalization_13 (BatchNo (None, 28, 28, 96)   384         conv2d_8[0][0]                   \n",
            "__________________________________________________________________________________________________\n",
            "re_lu_9 (ReLU)                  (None, 28, 28, 96)   0           batch_normalization_13[0][0]     \n",
            "__________________________________________________________________________________________________\n",
            "depthwise_conv2d_5 (DepthwiseCo (None, 28, 28, 96)   864         re_lu_9[0][0]                    \n",
            "__________________________________________________________________________________________________\n",
            "batch_normalization_14 (BatchNo (None, 28, 28, 96)   384         depthwise_conv2d_5[0][0]         \n",
            "__________________________________________________________________________________________________\n",
            "re_lu_10 (ReLU)                 (None, 28, 28, 96)   0           batch_normalization_14[0][0]     \n",
            "__________________________________________________________________________________________________\n",
            "conv2d_9 (Conv2D)               (None, 28, 28, 16)   1536        re_lu_10[0][0]                   \n",
            "__________________________________________________________________________________________________\n",
            "batch_normalization_15 (BatchNo (None, 28, 28, 16)   64          conv2d_9[0][0]                   \n",
            "__________________________________________________________________________________________________\n",
            "add_2 (Add)                     (None, 28, 28, 16)   0           batch_normalization_12[0][0]     \n",
            "                                                                 batch_normalization_15[0][0]     \n",
            "__________________________________________________________________________________________________\n",
            "conv2d_10 (Conv2D)              (None, 28, 28, 96)   1536        add_2[0][0]                      \n",
            "__________________________________________________________________________________________________\n",
            "batch_normalization_16 (BatchNo (None, 28, 28, 96)   384         conv2d_10[0][0]                  \n",
            "__________________________________________________________________________________________________\n",
            "re_lu_11 (ReLU)                 (None, 28, 28, 96)   0           batch_normalization_16[0][0]     \n",
            "__________________________________________________________________________________________________\n",
            "depthwise_conv2d_6 (DepthwiseCo (None, 28, 28, 96)   864         re_lu_11[0][0]                   \n",
            "__________________________________________________________________________________________________\n",
            "batch_normalization_17 (BatchNo (None, 28, 28, 96)   384         depthwise_conv2d_6[0][0]         \n",
            "__________________________________________________________________________________________________\n",
            "re_lu_12 (ReLU)                 (None, 28, 28, 96)   0           batch_normalization_17[0][0]     \n",
            "__________________________________________________________________________________________________\n",
            "conv2d_11 (Conv2D)              (None, 28, 28, 16)   1536        re_lu_12[0][0]                   \n",
            "__________________________________________________________________________________________________\n",
            "batch_normalization_18 (BatchNo (None, 28, 28, 16)   64          conv2d_11[0][0]                  \n",
            "__________________________________________________________________________________________________\n",
            "add_3 (Add)                     (None, 28, 28, 16)   0           add_2[0][0]                      \n",
            "                                                                 batch_normalization_18[0][0]     \n",
            "__________________________________________________________________________________________________\n",
            "conv2d_12 (Conv2D)              (None, 28, 28, 96)   1536        add_3[0][0]                      \n",
            "__________________________________________________________________________________________________\n",
            "batch_normalization_19 (BatchNo (None, 28, 28, 96)   384         conv2d_12[0][0]                  \n",
            "__________________________________________________________________________________________________\n",
            "re_lu_13 (ReLU)                 (None, 28, 28, 96)   0           batch_normalization_19[0][0]     \n",
            "__________________________________________________________________________________________________\n",
            "ZeroPadding2D4 (ZeroPadding2D)  (None, 29, 29, 96)   0           re_lu_13[0][0]                   \n",
            "__________________________________________________________________________________________________\n",
            "depthwise_conv2d_7 (DepthwiseCo (None, 14, 14, 96)   864         ZeroPadding2D4[0][0]             \n",
            "__________________________________________________________________________________________________\n",
            "batch_normalization_20 (BatchNo (None, 14, 14, 96)   384         depthwise_conv2d_7[0][0]         \n",
            "__________________________________________________________________________________________________\n",
            "re_lu_14 (ReLU)                 (None, 14, 14, 96)   0           batch_normalization_20[0][0]     \n",
            "__________________________________________________________________________________________________\n",
            "conv2d_13 (Conv2D)              (None, 14, 14, 24)   2304        re_lu_14[0][0]                   \n",
            "__________________________________________________________________________________________________\n",
            "batch_normalization_21 (BatchNo (None, 14, 14, 24)   96          conv2d_13[0][0]                  \n",
            "__________________________________________________________________________________________________\n",
            "conv2d_14 (Conv2D)              (None, 14, 14, 144)  3456        batch_normalization_21[0][0]     \n",
            "__________________________________________________________________________________________________\n",
            "batch_normalization_22 (BatchNo (None, 14, 14, 144)  576         conv2d_14[0][0]                  \n",
            "__________________________________________________________________________________________________\n",
            "re_lu_15 (ReLU)                 (None, 14, 14, 144)  0           batch_normalization_22[0][0]     \n",
            "__________________________________________________________________________________________________\n",
            "depthwise_conv2d_8 (DepthwiseCo (None, 14, 14, 144)  1296        re_lu_15[0][0]                   \n",
            "__________________________________________________________________________________________________\n",
            "batch_normalization_23 (BatchNo (None, 14, 14, 144)  576         depthwise_conv2d_8[0][0]         \n",
            "__________________________________________________________________________________________________\n",
            "re_lu_16 (ReLU)                 (None, 14, 14, 144)  0           batch_normalization_23[0][0]     \n",
            "__________________________________________________________________________________________________\n",
            "conv2d_15 (Conv2D)              (None, 14, 14, 24)   3456        re_lu_16[0][0]                   \n",
            "__________________________________________________________________________________________________\n",
            "batch_normalization_24 (BatchNo (None, 14, 14, 24)   96          conv2d_15[0][0]                  \n",
            "__________________________________________________________________________________________________\n",
            "add_4 (Add)                     (None, 14, 14, 24)   0           batch_normalization_21[0][0]     \n",
            "                                                                 batch_normalization_24[0][0]     \n",
            "__________________________________________________________________________________________________\n",
            "conv2d_16 (Conv2D)              (None, 14, 14, 144)  3456        add_4[0][0]                      \n",
            "__________________________________________________________________________________________________\n",
            "batch_normalization_25 (BatchNo (None, 14, 14, 144)  576         conv2d_16[0][0]                  \n",
            "__________________________________________________________________________________________________\n",
            "re_lu_17 (ReLU)                 (None, 14, 14, 144)  0           batch_normalization_25[0][0]     \n",
            "__________________________________________________________________________________________________\n",
            "depthwise_conv2d_9 (DepthwiseCo (None, 14, 14, 144)  1296        re_lu_17[0][0]                   \n",
            "__________________________________________________________________________________________________\n",
            "batch_normalization_26 (BatchNo (None, 14, 14, 144)  576         depthwise_conv2d_9[0][0]         \n",
            "__________________________________________________________________________________________________\n",
            "re_lu_18 (ReLU)                 (None, 14, 14, 144)  0           batch_normalization_26[0][0]     \n",
            "__________________________________________________________________________________________________\n",
            "conv2d_17 (Conv2D)              (None, 14, 14, 24)   3456        re_lu_18[0][0]                   \n",
            "__________________________________________________________________________________________________\n",
            "batch_normalization_27 (BatchNo (None, 14, 14, 24)   96          conv2d_17[0][0]                  \n",
            "__________________________________________________________________________________________________\n",
            "add_5 (Add)                     (None, 14, 14, 24)   0           add_4[0][0]                      \n",
            "                                                                 batch_normalization_27[0][0]     \n",
            "__________________________________________________________________________________________________\n",
            "conv2d_18 (Conv2D)              (None, 14, 14, 144)  3456        add_5[0][0]                      \n",
            "__________________________________________________________________________________________________\n",
            "batch_normalization_28 (BatchNo (None, 14, 14, 144)  576         conv2d_18[0][0]                  \n",
            "__________________________________________________________________________________________________\n",
            "re_lu_19 (ReLU)                 (None, 14, 14, 144)  0           batch_normalization_28[0][0]     \n",
            "__________________________________________________________________________________________________\n",
            "depthwise_conv2d_10 (DepthwiseC (None, 14, 14, 144)  1296        re_lu_19[0][0]                   \n",
            "__________________________________________________________________________________________________\n",
            "batch_normalization_29 (BatchNo (None, 14, 14, 144)  576         depthwise_conv2d_10[0][0]        \n",
            "__________________________________________________________________________________________________\n",
            "re_lu_20 (ReLU)                 (None, 14, 14, 144)  0           batch_normalization_29[0][0]     \n",
            "__________________________________________________________________________________________________\n",
            "conv2d_19 (Conv2D)              (None, 14, 14, 24)   3456        re_lu_20[0][0]                   \n",
            "__________________________________________________________________________________________________\n",
            "batch_normalization_30 (BatchNo (None, 14, 14, 24)   96          conv2d_19[0][0]                  \n",
            "__________________________________________________________________________________________________\n",
            "add_6 (Add)                     (None, 14, 14, 24)   0           add_5[0][0]                      \n",
            "                                                                 batch_normalization_30[0][0]     \n",
            "__________________________________________________________________________________________________\n",
            "conv2d_20 (Conv2D)              (None, 14, 14, 144)  3456        add_6[0][0]                      \n",
            "__________________________________________________________________________________________________\n",
            "batch_normalization_31 (BatchNo (None, 14, 14, 144)  576         conv2d_20[0][0]                  \n",
            "__________________________________________________________________________________________________\n",
            "re_lu_21 (ReLU)                 (None, 14, 14, 144)  0           batch_normalization_31[0][0]     \n",
            "__________________________________________________________________________________________________\n",
            "depthwise_conv2d_11 (DepthwiseC (None, 12, 12, 144)  1296        re_lu_21[0][0]                   \n",
            "__________________________________________________________________________________________________\n",
            "batch_normalization_32 (BatchNo (None, 12, 12, 144)  576         depthwise_conv2d_11[0][0]        \n",
            "__________________________________________________________________________________________________\n",
            "re_lu_22 (ReLU)                 (None, 12, 12, 144)  0           batch_normalization_32[0][0]     \n",
            "__________________________________________________________________________________________________\n",
            "conv2d_21 (Conv2D)              (None, 12, 12, 32)   4608        re_lu_22[0][0]                   \n",
            "__________________________________________________________________________________________________\n",
            "batch_normalization_33 (BatchNo (None, 12, 12, 32)   128         conv2d_21[0][0]                  \n",
            "__________________________________________________________________________________________________\n",
            "conv2d_22 (Conv2D)              (None, 12, 12, 192)  6144        batch_normalization_33[0][0]     \n",
            "__________________________________________________________________________________________________\n",
            "batch_normalization_34 (BatchNo (None, 12, 12, 192)  768         conv2d_22[0][0]                  \n",
            "__________________________________________________________________________________________________\n",
            "re_lu_23 (ReLU)                 (None, 12, 12, 192)  0           batch_normalization_34[0][0]     \n",
            "__________________________________________________________________________________________________\n",
            "depthwise_conv2d_12 (DepthwiseC (None, 12, 12, 192)  1728        re_lu_23[0][0]                   \n",
            "__________________________________________________________________________________________________\n",
            "batch_normalization_35 (BatchNo (None, 12, 12, 192)  768         depthwise_conv2d_12[0][0]        \n",
            "__________________________________________________________________________________________________\n",
            "re_lu_24 (ReLU)                 (None, 12, 12, 192)  0           batch_normalization_35[0][0]     \n",
            "__________________________________________________________________________________________________\n",
            "conv2d_23 (Conv2D)              (None, 12, 12, 32)   6144        re_lu_24[0][0]                   \n",
            "__________________________________________________________________________________________________\n",
            "batch_normalization_36 (BatchNo (None, 12, 12, 32)   128         conv2d_23[0][0]                  \n",
            "__________________________________________________________________________________________________\n",
            "add_7 (Add)                     (None, 12, 12, 32)   0           batch_normalization_33[0][0]     \n",
            "                                                                 batch_normalization_36[0][0]     \n",
            "__________________________________________________________________________________________________\n",
            "conv2d_24 (Conv2D)              (None, 12, 12, 192)  6144        add_7[0][0]                      \n",
            "__________________________________________________________________________________________________\n",
            "batch_normalization_37 (BatchNo (None, 12, 12, 192)  768         conv2d_24[0][0]                  \n",
            "__________________________________________________________________________________________________\n",
            "re_lu_25 (ReLU)                 (None, 12, 12, 192)  0           batch_normalization_37[0][0]     \n",
            "__________________________________________________________________________________________________\n",
            "depthwise_conv2d_13 (DepthwiseC (None, 12, 12, 192)  1728        re_lu_25[0][0]                   \n",
            "__________________________________________________________________________________________________\n",
            "batch_normalization_38 (BatchNo (None, 12, 12, 192)  768         depthwise_conv2d_13[0][0]        \n",
            "__________________________________________________________________________________________________\n",
            "re_lu_26 (ReLU)                 (None, 12, 12, 192)  0           batch_normalization_38[0][0]     \n",
            "__________________________________________________________________________________________________\n",
            "conv2d_25 (Conv2D)              (None, 12, 12, 32)   6144        re_lu_26[0][0]                   \n",
            "__________________________________________________________________________________________________\n",
            "batch_normalization_39 (BatchNo (None, 12, 12, 32)   128         conv2d_25[0][0]                  \n",
            "__________________________________________________________________________________________________\n",
            "add_8 (Add)                     (None, 12, 12, 32)   0           add_7[0][0]                      \n",
            "                                                                 batch_normalization_39[0][0]     \n",
            "__________________________________________________________________________________________________\n",
            "conv2d_26 (Conv2D)              (None, 12, 12, 192)  6144        add_8[0][0]                      \n",
            "__________________________________________________________________________________________________\n",
            "batch_normalization_40 (BatchNo (None, 12, 12, 192)  768         conv2d_26[0][0]                  \n",
            "__________________________________________________________________________________________________\n",
            "re_lu_27 (ReLU)                 (None, 12, 12, 192)  0           batch_normalization_40[0][0]     \n",
            "__________________________________________________________________________________________________\n",
            "ZeroPadding2D5 (ZeroPadding2D)  (None, 13, 13, 192)  0           re_lu_27[0][0]                   \n",
            "__________________________________________________________________________________________________\n",
            "depthwise_conv2d_14 (DepthwiseC (None, 6, 6, 192)    1728        ZeroPadding2D5[0][0]             \n",
            "__________________________________________________________________________________________________\n",
            "batch_normalization_41 (BatchNo (None, 6, 6, 192)    768         depthwise_conv2d_14[0][0]        \n",
            "__________________________________________________________________________________________________\n",
            "re_lu_28 (ReLU)                 (None, 6, 6, 192)    0           batch_normalization_41[0][0]     \n",
            "__________________________________________________________________________________________________\n",
            "conv2d_27 (Conv2D)              (None, 6, 6, 56)     10752       re_lu_28[0][0]                   \n",
            "__________________________________________________________________________________________________\n",
            "batch_normalization_42 (BatchNo (None, 6, 6, 56)     224         conv2d_27[0][0]                  \n",
            "__________________________________________________________________________________________________\n",
            "conv2d_28 (Conv2D)              (None, 6, 6, 336)    18816       batch_normalization_42[0][0]     \n",
            "__________________________________________________________________________________________________\n",
            "batch_normalization_43 (BatchNo (None, 6, 6, 336)    1344        conv2d_28[0][0]                  \n",
            "__________________________________________________________________________________________________\n",
            "re_lu_29 (ReLU)                 (None, 6, 6, 336)    0           batch_normalization_43[0][0]     \n",
            "__________________________________________________________________________________________________\n",
            "depthwise_conv2d_15 (DepthwiseC (None, 6, 6, 336)    3024        re_lu_29[0][0]                   \n",
            "__________________________________________________________________________________________________\n",
            "batch_normalization_44 (BatchNo (None, 6, 6, 336)    1344        depthwise_conv2d_15[0][0]        \n",
            "__________________________________________________________________________________________________\n",
            "re_lu_30 (ReLU)                 (None, 6, 6, 336)    0           batch_normalization_44[0][0]     \n",
            "__________________________________________________________________________________________________\n",
            "conv2d_29 (Conv2D)              (None, 6, 6, 56)     18816       re_lu_30[0][0]                   \n",
            "__________________________________________________________________________________________________\n",
            "batch_normalization_45 (BatchNo (None, 6, 6, 56)     224         conv2d_29[0][0]                  \n",
            "__________________________________________________________________________________________________\n",
            "add_9 (Add)                     (None, 6, 6, 56)     0           batch_normalization_42[0][0]     \n",
            "                                                                 batch_normalization_45[0][0]     \n",
            "__________________________________________________________________________________________________\n",
            "conv2d_30 (Conv2D)              (None, 6, 6, 336)    18816       add_9[0][0]                      \n",
            "__________________________________________________________________________________________________\n",
            "batch_normalization_46 (BatchNo (None, 6, 6, 336)    1344        conv2d_30[0][0]                  \n",
            "__________________________________________________________________________________________________\n",
            "re_lu_31 (ReLU)                 (None, 6, 6, 336)    0           batch_normalization_46[0][0]     \n",
            "__________________________________________________________________________________________________\n",
            "depthwise_conv2d_16 (DepthwiseC (None, 6, 6, 336)    3024        re_lu_31[0][0]                   \n",
            "__________________________________________________________________________________________________\n",
            "batch_normalization_47 (BatchNo (None, 6, 6, 336)    1344        depthwise_conv2d_16[0][0]        \n",
            "__________________________________________________________________________________________________\n",
            "re_lu_32 (ReLU)                 (None, 6, 6, 336)    0           batch_normalization_47[0][0]     \n",
            "__________________________________________________________________________________________________\n",
            "conv2d_31 (Conv2D)              (None, 6, 6, 56)     18816       re_lu_32[0][0]                   \n",
            "__________________________________________________________________________________________________\n",
            "batch_normalization_48 (BatchNo (None, 6, 6, 56)     224         conv2d_31[0][0]                  \n",
            "__________________________________________________________________________________________________\n",
            "add_10 (Add)                    (None, 6, 6, 56)     0           add_9[0][0]                      \n",
            "                                                                 batch_normalization_48[0][0]     \n",
            "__________________________________________________________________________________________________\n",
            "conv2d_32 (Conv2D)              (None, 6, 6, 336)    18816       add_10[0][0]                     \n",
            "__________________________________________________________________________________________________\n",
            "batch_normalization_49 (BatchNo (None, 6, 6, 336)    24          conv2d_32[0][0]                  \n",
            "__________________________________________________________________________________________________\n",
            "re_lu_33 (ReLU)                 (None, 6, 6, 336)    0           batch_normalization_49[0][0]     \n",
            "__________________________________________________________________________________________________\n",
            "depthwise_conv2d_17 (DepthwiseC (None, 6, 6, 336)    3024        re_lu_33[0][0]                   \n",
            "__________________________________________________________________________________________________\n",
            "batch_normalization_50 (BatchNo (None, 6, 6, 336)    24          depthwise_conv2d_17[0][0]        \n",
            "__________________________________________________________________________________________________\n",
            "re_lu_34 (ReLU)                 (None, 6, 6, 336)    0           batch_normalization_50[0][0]     \n",
            "__________________________________________________________________________________________________\n",
            "conv2d_33 (Conv2D)              (None, 6, 6, 112)    37632       re_lu_34[0][0]                   \n",
            "__________________________________________________________________________________________________\n",
            "batch_normalization_51 (BatchNo (None, 6, 6, 112)    24          conv2d_33[0][0]                  \n",
            "__________________________________________________________________________________________________\n",
            "conv2d_34 (Conv2D)              (None, 6, 6, 1280)   143360      batch_normalization_51[0][0]     \n",
            "__________________________________________________________________________________________________\n",
            "batch_normalization_52 (BatchNo (None, 6, 6, 1280)   24          conv2d_34[0][0]                  \n",
            "__________________________________________________________________________________________________\n",
            "re_lu_35 (ReLU)                 (None, 6, 6, 1280)   0           batch_normalization_52[0][0]     \n",
            "__________________________________________________________________________________________________\n",
            "global_average_pooling2d_1 (Glo (None, 1280)         0           re_lu_35[0][0]                   \n",
            "__________________________________________________________________________________________________\n",
            "dense_1 (Dense)                 (None, 100)          128100      global_average_pooling2d_1[0][0] \n",
            "__________________________________________________________________________________________________\n",
            "dense_2 (Dense)                 (None, 2)            200         dense_1[0][0]                    \n",
            "==================================================================================================\n",
            "Total params: 530,348\n",
            "Trainable params: 520,348\n",
            "Non-trainable params: 10,000\n",
            "__________________________________________________________________________________________________\n"
          ],
          "name": "stdout"
        },
        {
          "output_type": "stream",
          "text": [
            "/usr/local/lib/python3.6/dist-packages/ipykernel_launcher.py:1: UserWarning: Update your `Model` call to the Keras 2 API: `Model(inputs=Tensor(\"In..., outputs=Tensor(\"de...)`\n",
            "  \"\"\"Entry point for launching an IPython kernel.\n"
          ],
          "name": "stderr"
        }
      ]
    },
    {
      "cell_type": "code",
      "metadata": {
        "id": "u2e39k9Zch4z",
        "colab_type": "code",
        "colab": {}
      },
      "source": [
        "\n",
        "train_datagen = ImageDataGenerator(rescale = 1./255,\n",
        "                                   shear_range = 0.2,\n",
        "                                   zoom_range = 0.2,\n",
        "                                   horizontal_flip=True)\n",
        "                                   \n",
        "test_datagen = ImageDataGenerator(rescale = 1./255)\n"
      ],
      "execution_count": 15,
      "outputs": []
    },
    {
      "cell_type": "code",
      "metadata": {
        "id": "I2tUm9-B6p11",
        "colab_type": "code",
        "colab": {
          "base_uri": "https://localhost:8080/",
          "height": 51
        },
        "outputId": "ef5d3bca-13f4-46ab-ebec-775ff0048840"
      },
      "source": [
        "training_set = train_datagen.flow_from_directory(loc+'/train',\n",
        "                                                target_size=(224, 224),\n",
        "                                                batch_size=32,\n",
        "                                                class_mode='categorical')\n",
        "\n",
        "testing_set = test_datagen.flow_from_directory(loc+'/test',\n",
        "                                               target_size=(224, 224),\n",
        "                                               batch_size=32,\n",
        "                                               class_mode='categorical')"
      ],
      "execution_count": 16,
      "outputs": [
        {
          "output_type": "stream",
          "text": [
            "Found 5239 images belonging to 2 classes.\n",
            "Found 624 images belonging to 2 classes.\n"
          ],
          "name": "stdout"
        }
      ]
    },
    {
      "cell_type": "code",
      "metadata": {
        "id": "hZdC7NLc748U",
        "colab_type": "code",
        "colab": {}
      },
      "source": [
        "opt = Adam(lr=0.0001, decay=1e-5)\n",
        "\n",
        "model.compile(loss='binary_crossentropy', optimizer = opt, metrics=['accuracy'])"
      ],
      "execution_count": 17,
      "outputs": []
    },
    {
      "cell_type": "code",
      "metadata": {
        "id": "lkYjSb7t7keS",
        "colab_type": "code",
        "colab": {
          "base_uri": "https://localhost:8080/",
          "height": 989
        },
        "outputId": "af0ff7db-396e-42ec-9b92-c44ea580c038"
      },
      "source": [
        "info = model.fit_generator(training_set, \n",
        "                           epochs=25, \n",
        "                           validation_data = testing_set,\n",
        "                           steps_per_epoch = len(training_set),\n",
        "                           validation_steps = len(testing_set),\n",
        "                           )"
      ],
      "execution_count": 18,
      "outputs": [
        {
          "output_type": "stream",
          "text": [
            "Epoch 1/25\n",
            " 70/164 [===========>..................] - ETA: 14:16 - loss: 0.3989 - accuracy: 0.8031"
          ],
          "name": "stdout"
        },
        {
          "output_type": "stream",
          "text": [
            "/usr/local/lib/python3.6/dist-packages/keras/utils/data_utils.py:616: UserWarning: The input 1 could not be retrieved. It could be because a worker has died.\n",
            "  UserWarning)\n"
          ],
          "name": "stderr"
        },
        {
          "output_type": "stream",
          "text": [
            " 79/164 [=============>................] - ETA: 13:20 - loss: 0.3920 - accuracy: 0.8046"
          ],
          "name": "stdout"
        },
        {
          "output_type": "stream",
          "text": [
            "/usr/local/lib/python3.6/dist-packages/keras/utils/data_utils.py:616: UserWarning: The input 47 could not be retrieved. It could be because a worker has died.\n",
            "  UserWarning)\n"
          ],
          "name": "stderr"
        },
        {
          "output_type": "stream",
          "text": [
            "136/164 [=======================>......] - ETA: 4:24 - loss: 0.3658 - accuracy: 0.8169"
          ],
          "name": "stdout"
        },
        {
          "output_type": "stream",
          "text": [
            "/usr/local/lib/python3.6/dist-packages/keras/utils/data_utils.py:616: UserWarning: The input 122 could not be retrieved. It could be because a worker has died.\n",
            "  UserWarning)\n"
          ],
          "name": "stderr"
        },
        {
          "output_type": "stream",
          "text": [
            "164/164 [==============================] - 1633s 10s/step - loss: 0.3612 - accuracy: 0.8208 - val_loss: 0.6904 - val_accuracy: 0.6250\n",
            "Epoch 2/25\n",
            "164/164 [==============================] - 149s 907ms/step - loss: 0.3056 - accuracy: 0.8584 - val_loss: 0.6898 - val_accuracy: 0.6250\n",
            "Epoch 3/25\n",
            "164/164 [==============================] - 153s 933ms/step - loss: 0.2810 - accuracy: 0.8729 - val_loss: 0.6903 - val_accuracy: 0.6250\n",
            "Epoch 4/25\n",
            "164/164 [==============================] - 152s 930ms/step - loss: 0.2723 - accuracy: 0.8769 - val_loss: 0.6907 - val_accuracy: 0.6250\n",
            "Epoch 5/25\n",
            "164/164 [==============================] - 154s 936ms/step - loss: 0.2704 - accuracy: 0.8792 - val_loss: 0.6887 - val_accuracy: 0.6250\n",
            "Epoch 6/25\n",
            "164/164 [==============================] - 153s 936ms/step - loss: 0.2603 - accuracy: 0.8899 - val_loss: 0.6886 - val_accuracy: 0.6250\n",
            "Epoch 7/25\n",
            "164/164 [==============================] - 152s 925ms/step - loss: 0.2506 - accuracy: 0.8904 - val_loss: 0.6848 - val_accuracy: 0.6250\n",
            "Epoch 8/25\n",
            "164/164 [==============================] - 153s 934ms/step - loss: 0.2414 - accuracy: 0.8988 - val_loss: 0.6839 - val_accuracy: 0.6250\n",
            "Epoch 9/25\n",
            "164/164 [==============================] - 154s 942ms/step - loss: 0.2449 - accuracy: 0.8901 - val_loss: 0.6857 - val_accuracy: 0.6250\n",
            "Epoch 10/25\n",
            "164/164 [==============================] - 152s 929ms/step - loss: 0.2230 - accuracy: 0.9040 - val_loss: 0.6737 - val_accuracy: 0.6250\n",
            "Epoch 11/25\n",
            "164/164 [==============================] - 152s 927ms/step - loss: 0.2169 - accuracy: 0.9074 - val_loss: 0.6945 - val_accuracy: 0.6250\n",
            "Epoch 12/25\n",
            "164/164 [==============================] - 154s 938ms/step - loss: 0.2141 - accuracy: 0.9143 - val_loss: 0.6673 - val_accuracy: 0.6250\n",
            "Epoch 13/25\n",
            "164/164 [==============================] - 154s 937ms/step - loss: 0.1972 - accuracy: 0.9168 - val_loss: 0.6965 - val_accuracy: 0.6250\n",
            "Epoch 14/25\n",
            "164/164 [==============================] - 152s 930ms/step - loss: 0.1944 - accuracy: 0.9210 - val_loss: 0.6762 - val_accuracy: 0.6250\n",
            "Epoch 15/25\n",
            "164/164 [==============================] - 154s 938ms/step - loss: 0.1891 - accuracy: 0.9206 - val_loss: 0.6604 - val_accuracy: 0.6250\n",
            "Epoch 16/25\n",
            "164/164 [==============================] - 153s 935ms/step - loss: 0.1862 - accuracy: 0.9244 - val_loss: 0.6857 - val_accuracy: 0.6250\n",
            "Epoch 17/25\n",
            "164/164 [==============================] - 153s 933ms/step - loss: 0.1770 - accuracy: 0.9290 - val_loss: 0.6649 - val_accuracy: 0.6250\n",
            "Epoch 18/25\n",
            "164/164 [==============================] - 153s 935ms/step - loss: 0.1670 - accuracy: 0.9349 - val_loss: 0.6869 - val_accuracy: 0.6250\n",
            "Epoch 19/25\n",
            "164/164 [==============================] - 155s 942ms/step - loss: 0.1601 - accuracy: 0.9382 - val_loss: 0.6925 - val_accuracy: 0.6250\n",
            "Epoch 20/25\n",
            "164/164 [==============================] - 152s 926ms/step - loss: 0.1581 - accuracy: 0.9370 - val_loss: 0.7017 - val_accuracy: 0.6250\n",
            "Epoch 21/25\n",
            "164/164 [==============================] - 153s 936ms/step - loss: 0.1515 - accuracy: 0.9380 - val_loss: 0.8898 - val_accuracy: 0.6250\n",
            "Epoch 22/25\n",
            "164/164 [==============================] - 153s 932ms/step - loss: 0.1491 - accuracy: 0.9401 - val_loss: 0.6232 - val_accuracy: 0.6250\n",
            "Epoch 23/25\n",
            "164/164 [==============================] - 154s 939ms/step - loss: 0.1521 - accuracy: 0.9401 - val_loss: 0.6321 - val_accuracy: 0.6250\n",
            "Epoch 24/25\n",
            "164/164 [==============================] - 152s 925ms/step - loss: 0.1393 - accuracy: 0.9462 - val_loss: 0.8369 - val_accuracy: 0.6250\n",
            "Epoch 25/25\n",
            "164/164 [==============================] - 154s 936ms/step - loss: 0.1470 - accuracy: 0.9422 - val_loss: 0.7874 - val_accuracy: 0.6250\n"
          ],
          "name": "stdout"
        }
      ]
    },
    {
      "cell_type": "code",
      "metadata": {
        "id": "rXXYY153KLF5",
        "colab_type": "code",
        "colab": {
          "base_uri": "https://localhost:8080/",
          "height": 289
        },
        "outputId": "36062f10-a83e-47b9-cbf4-eff8d3de7652"
      },
      "source": [
        "for i in os.listdir(loc+'/val'):\n",
        "  if i != '.DS_Store':\n",
        "    \n",
        "    for j in os.listdir(loc+'/val/'+i):\n",
        "      if j != '.DS_Store':\n",
        "        \n",
        "        img1 = image.load_img(loc+'/val/'+i+'/'+j, target_size=(224, 224))\n",
        "        \n",
        "        x = image.img_to_array(img1)\n",
        "        \n",
        "        x = np.expand_dims(x, axis=0)\n",
        "        \n",
        "        image_data = preprocess_input(x)\n",
        "        classes = model.predict(image_data)\n",
        "        print(i, classes[0])"
      ],
      "execution_count": 19,
      "outputs": [
        {
          "output_type": "stream",
          "text": [
            "PNEUMONIA [0.23284408 0.76715595]\n",
            "PNEUMONIA [0.23170176 0.7682982 ]\n",
            "PNEUMONIA [0.23287757 0.76712245]\n",
            "PNEUMONIA [0.232384   0.76761603]\n",
            "PNEUMONIA [0.23256584 0.7674342 ]\n",
            "PNEUMONIA [0.23122728 0.7687727 ]\n",
            "PNEUMONIA [0.23316854 0.76683146]\n",
            "PNEUMONIA [0.23342638 0.76657367]\n",
            "NORMAL [0.23408565 0.7659144 ]\n",
            "NORMAL [0.23275615 0.7672438 ]\n",
            "NORMAL [0.2315217  0.76847833]\n",
            "NORMAL [0.23329152 0.7667085 ]\n",
            "NORMAL [0.23388569 0.7661143 ]\n",
            "NORMAL [0.23395818 0.7660418 ]\n",
            "NORMAL [0.23401417 0.76598585]\n",
            "NORMAL [0.2334296 0.7665704]\n"
          ],
          "name": "stdout"
        }
      ]
    },
    {
      "cell_type": "code",
      "metadata": {
        "id": "OZvyJpiFemNA",
        "colab_type": "code",
        "colab": {}
      },
      "source": [
        "import torch\n",
        "name  = 'Pneumonia_model_manual_.h5'\n",
        "\n",
        "path = loc+name\n",
        "\n",
        "\n",
        "model.save(path)"
      ],
      "execution_count": 88,
      "outputs": []
    }
  ]
}